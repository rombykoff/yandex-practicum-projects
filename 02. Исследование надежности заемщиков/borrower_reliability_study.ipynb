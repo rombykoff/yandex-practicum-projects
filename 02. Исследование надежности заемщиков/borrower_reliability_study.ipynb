{
 "cells": [
  {
   "cell_type": "markdown",
   "id": "c81daeeb",
   "metadata": {
    "deletable": false,
    "id": "c81daeeb"
   },
   "source": [
    "# Исследование надежности заемщиков\n"
   ]
  },
  {
   "cell_type": "markdown",
   "id": "827c20bf",
   "metadata": {
    "id": "827c20bf"
   },
   "source": [
    "Во второй части проекта вы выполните шаги 3 и 4. Их вручную проверит ревьюер.\n",
    "Чтобы вам не пришлось писать код заново для шагов 1 и 2, мы добавили авторские решения в ячейки с кодом. \n",
    "\n"
   ]
  },
  {
   "cell_type": "markdown",
   "id": "744d7639",
   "metadata": {
    "deletable": false,
    "id": "744d7639"
   },
   "source": [
    "## Откройте таблицу и изучите общую информацию о данных"
   ]
  },
  {
   "cell_type": "markdown",
   "id": "e7a14c31",
   "metadata": {
    "deletable": false,
    "id": "e7a14c31"
   },
   "source": [
    "**Задание 1. Импортируйте библиотеку pandas. Считайте данные из csv-файла в датафрейм и сохраните в переменную `data`. Путь к файлу:**\n",
    "\n",
    "`/datasets/data.csv`"
   ]
  },
  {
   "cell_type": "code",
   "execution_count": 1,
   "id": "7bcf75c9",
   "metadata": {
    "deletable": false,
    "id": "7bcf75c9"
   },
   "outputs": [],
   "source": [
    "import pandas as pd\n",
    "\n",
    "try:\n",
    "    data = pd.read_csv('/datasets/data.csv')\n",
    "except:\n",
    "    data = pd.read_csv('https://code.s3.yandex.net/datasets/data.csv')"
   ]
  },
  {
   "cell_type": "markdown",
   "id": "b8038fe3",
   "metadata": {
    "deletable": false,
    "id": "b8038fe3"
   },
   "source": [
    "**Задание 2. Выведите первые 20 строчек датафрейма `data` на экран.**"
   ]
  },
  {
   "cell_type": "code",
   "execution_count": 2,
   "id": "2a7cab99",
   "metadata": {
    "deletable": false,
    "id": "2a7cab99",
    "outputId": "1a8f3ef2-d323-4ec2-ddf7-89670b5944c4"
   },
   "outputs": [
    {
     "data": {
      "text/html": [
       "<div>\n",
       "<style scoped>\n",
       "    .dataframe tbody tr th:only-of-type {\n",
       "        vertical-align: middle;\n",
       "    }\n",
       "\n",
       "    .dataframe tbody tr th {\n",
       "        vertical-align: top;\n",
       "    }\n",
       "\n",
       "    .dataframe thead th {\n",
       "        text-align: right;\n",
       "    }\n",
       "</style>\n",
       "<table border=\"1\" class=\"dataframe\">\n",
       "  <thead>\n",
       "    <tr style=\"text-align: right;\">\n",
       "      <th></th>\n",
       "      <th>children</th>\n",
       "      <th>days_employed</th>\n",
       "      <th>dob_years</th>\n",
       "      <th>education</th>\n",
       "      <th>education_id</th>\n",
       "      <th>family_status</th>\n",
       "      <th>family_status_id</th>\n",
       "      <th>gender</th>\n",
       "      <th>income_type</th>\n",
       "      <th>debt</th>\n",
       "      <th>total_income</th>\n",
       "      <th>purpose</th>\n",
       "    </tr>\n",
       "  </thead>\n",
       "  <tbody>\n",
       "    <tr>\n",
       "      <th>0</th>\n",
       "      <td>1</td>\n",
       "      <td>-8437.673028</td>\n",
       "      <td>42</td>\n",
       "      <td>высшее</td>\n",
       "      <td>0</td>\n",
       "      <td>женат / замужем</td>\n",
       "      <td>0</td>\n",
       "      <td>F</td>\n",
       "      <td>сотрудник</td>\n",
       "      <td>0</td>\n",
       "      <td>253875.639453</td>\n",
       "      <td>покупка жилья</td>\n",
       "    </tr>\n",
       "    <tr>\n",
       "      <th>1</th>\n",
       "      <td>1</td>\n",
       "      <td>-4024.803754</td>\n",
       "      <td>36</td>\n",
       "      <td>среднее</td>\n",
       "      <td>1</td>\n",
       "      <td>женат / замужем</td>\n",
       "      <td>0</td>\n",
       "      <td>F</td>\n",
       "      <td>сотрудник</td>\n",
       "      <td>0</td>\n",
       "      <td>112080.014102</td>\n",
       "      <td>приобретение автомобиля</td>\n",
       "    </tr>\n",
       "    <tr>\n",
       "      <th>2</th>\n",
       "      <td>0</td>\n",
       "      <td>-5623.422610</td>\n",
       "      <td>33</td>\n",
       "      <td>Среднее</td>\n",
       "      <td>1</td>\n",
       "      <td>женат / замужем</td>\n",
       "      <td>0</td>\n",
       "      <td>M</td>\n",
       "      <td>сотрудник</td>\n",
       "      <td>0</td>\n",
       "      <td>145885.952297</td>\n",
       "      <td>покупка жилья</td>\n",
       "    </tr>\n",
       "    <tr>\n",
       "      <th>3</th>\n",
       "      <td>3</td>\n",
       "      <td>-4124.747207</td>\n",
       "      <td>32</td>\n",
       "      <td>среднее</td>\n",
       "      <td>1</td>\n",
       "      <td>женат / замужем</td>\n",
       "      <td>0</td>\n",
       "      <td>M</td>\n",
       "      <td>сотрудник</td>\n",
       "      <td>0</td>\n",
       "      <td>267628.550329</td>\n",
       "      <td>дополнительное образование</td>\n",
       "    </tr>\n",
       "    <tr>\n",
       "      <th>4</th>\n",
       "      <td>0</td>\n",
       "      <td>340266.072047</td>\n",
       "      <td>53</td>\n",
       "      <td>среднее</td>\n",
       "      <td>1</td>\n",
       "      <td>гражданский брак</td>\n",
       "      <td>1</td>\n",
       "      <td>F</td>\n",
       "      <td>пенсионер</td>\n",
       "      <td>0</td>\n",
       "      <td>158616.077870</td>\n",
       "      <td>сыграть свадьбу</td>\n",
       "    </tr>\n",
       "    <tr>\n",
       "      <th>5</th>\n",
       "      <td>0</td>\n",
       "      <td>-926.185831</td>\n",
       "      <td>27</td>\n",
       "      <td>высшее</td>\n",
       "      <td>0</td>\n",
       "      <td>гражданский брак</td>\n",
       "      <td>1</td>\n",
       "      <td>M</td>\n",
       "      <td>компаньон</td>\n",
       "      <td>0</td>\n",
       "      <td>255763.565419</td>\n",
       "      <td>покупка жилья</td>\n",
       "    </tr>\n",
       "    <tr>\n",
       "      <th>6</th>\n",
       "      <td>0</td>\n",
       "      <td>-2879.202052</td>\n",
       "      <td>43</td>\n",
       "      <td>высшее</td>\n",
       "      <td>0</td>\n",
       "      <td>женат / замужем</td>\n",
       "      <td>0</td>\n",
       "      <td>F</td>\n",
       "      <td>компаньон</td>\n",
       "      <td>0</td>\n",
       "      <td>240525.971920</td>\n",
       "      <td>операции с жильем</td>\n",
       "    </tr>\n",
       "    <tr>\n",
       "      <th>7</th>\n",
       "      <td>0</td>\n",
       "      <td>-152.779569</td>\n",
       "      <td>50</td>\n",
       "      <td>СРЕДНЕЕ</td>\n",
       "      <td>1</td>\n",
       "      <td>женат / замужем</td>\n",
       "      <td>0</td>\n",
       "      <td>M</td>\n",
       "      <td>сотрудник</td>\n",
       "      <td>0</td>\n",
       "      <td>135823.934197</td>\n",
       "      <td>образование</td>\n",
       "    </tr>\n",
       "    <tr>\n",
       "      <th>8</th>\n",
       "      <td>2</td>\n",
       "      <td>-6929.865299</td>\n",
       "      <td>35</td>\n",
       "      <td>ВЫСШЕЕ</td>\n",
       "      <td>0</td>\n",
       "      <td>гражданский брак</td>\n",
       "      <td>1</td>\n",
       "      <td>F</td>\n",
       "      <td>сотрудник</td>\n",
       "      <td>0</td>\n",
       "      <td>95856.832424</td>\n",
       "      <td>на проведение свадьбы</td>\n",
       "    </tr>\n",
       "    <tr>\n",
       "      <th>9</th>\n",
       "      <td>0</td>\n",
       "      <td>-2188.756445</td>\n",
       "      <td>41</td>\n",
       "      <td>среднее</td>\n",
       "      <td>1</td>\n",
       "      <td>женат / замужем</td>\n",
       "      <td>0</td>\n",
       "      <td>M</td>\n",
       "      <td>сотрудник</td>\n",
       "      <td>0</td>\n",
       "      <td>144425.938277</td>\n",
       "      <td>покупка жилья для семьи</td>\n",
       "    </tr>\n",
       "    <tr>\n",
       "      <th>10</th>\n",
       "      <td>2</td>\n",
       "      <td>-4171.483647</td>\n",
       "      <td>36</td>\n",
       "      <td>высшее</td>\n",
       "      <td>0</td>\n",
       "      <td>женат / замужем</td>\n",
       "      <td>0</td>\n",
       "      <td>M</td>\n",
       "      <td>компаньон</td>\n",
       "      <td>0</td>\n",
       "      <td>113943.491460</td>\n",
       "      <td>покупка недвижимости</td>\n",
       "    </tr>\n",
       "    <tr>\n",
       "      <th>11</th>\n",
       "      <td>0</td>\n",
       "      <td>-792.701887</td>\n",
       "      <td>40</td>\n",
       "      <td>среднее</td>\n",
       "      <td>1</td>\n",
       "      <td>женат / замужем</td>\n",
       "      <td>0</td>\n",
       "      <td>F</td>\n",
       "      <td>сотрудник</td>\n",
       "      <td>0</td>\n",
       "      <td>77069.234271</td>\n",
       "      <td>покупка коммерческой недвижимости</td>\n",
       "    </tr>\n",
       "    <tr>\n",
       "      <th>12</th>\n",
       "      <td>0</td>\n",
       "      <td>NaN</td>\n",
       "      <td>65</td>\n",
       "      <td>среднее</td>\n",
       "      <td>1</td>\n",
       "      <td>гражданский брак</td>\n",
       "      <td>1</td>\n",
       "      <td>M</td>\n",
       "      <td>пенсионер</td>\n",
       "      <td>0</td>\n",
       "      <td>NaN</td>\n",
       "      <td>сыграть свадьбу</td>\n",
       "    </tr>\n",
       "    <tr>\n",
       "      <th>13</th>\n",
       "      <td>0</td>\n",
       "      <td>-1846.641941</td>\n",
       "      <td>54</td>\n",
       "      <td>неоконченное высшее</td>\n",
       "      <td>2</td>\n",
       "      <td>женат / замужем</td>\n",
       "      <td>0</td>\n",
       "      <td>F</td>\n",
       "      <td>сотрудник</td>\n",
       "      <td>0</td>\n",
       "      <td>130458.228857</td>\n",
       "      <td>приобретение автомобиля</td>\n",
       "    </tr>\n",
       "    <tr>\n",
       "      <th>14</th>\n",
       "      <td>0</td>\n",
       "      <td>-1844.956182</td>\n",
       "      <td>56</td>\n",
       "      <td>высшее</td>\n",
       "      <td>0</td>\n",
       "      <td>гражданский брак</td>\n",
       "      <td>1</td>\n",
       "      <td>F</td>\n",
       "      <td>компаньон</td>\n",
       "      <td>1</td>\n",
       "      <td>165127.911772</td>\n",
       "      <td>покупка жилой недвижимости</td>\n",
       "    </tr>\n",
       "    <tr>\n",
       "      <th>15</th>\n",
       "      <td>1</td>\n",
       "      <td>-972.364419</td>\n",
       "      <td>26</td>\n",
       "      <td>среднее</td>\n",
       "      <td>1</td>\n",
       "      <td>женат / замужем</td>\n",
       "      <td>0</td>\n",
       "      <td>F</td>\n",
       "      <td>сотрудник</td>\n",
       "      <td>0</td>\n",
       "      <td>116820.904450</td>\n",
       "      <td>строительство собственной недвижимости</td>\n",
       "    </tr>\n",
       "    <tr>\n",
       "      <th>16</th>\n",
       "      <td>0</td>\n",
       "      <td>-1719.934226</td>\n",
       "      <td>35</td>\n",
       "      <td>среднее</td>\n",
       "      <td>1</td>\n",
       "      <td>женат / замужем</td>\n",
       "      <td>0</td>\n",
       "      <td>F</td>\n",
       "      <td>сотрудник</td>\n",
       "      <td>0</td>\n",
       "      <td>289202.704229</td>\n",
       "      <td>недвижимость</td>\n",
       "    </tr>\n",
       "    <tr>\n",
       "      <th>17</th>\n",
       "      <td>0</td>\n",
       "      <td>-2369.999720</td>\n",
       "      <td>33</td>\n",
       "      <td>высшее</td>\n",
       "      <td>0</td>\n",
       "      <td>гражданский брак</td>\n",
       "      <td>1</td>\n",
       "      <td>M</td>\n",
       "      <td>сотрудник</td>\n",
       "      <td>0</td>\n",
       "      <td>90410.586745</td>\n",
       "      <td>строительство недвижимости</td>\n",
       "    </tr>\n",
       "    <tr>\n",
       "      <th>18</th>\n",
       "      <td>0</td>\n",
       "      <td>400281.136913</td>\n",
       "      <td>53</td>\n",
       "      <td>среднее</td>\n",
       "      <td>1</td>\n",
       "      <td>вдовец / вдова</td>\n",
       "      <td>2</td>\n",
       "      <td>F</td>\n",
       "      <td>пенсионер</td>\n",
       "      <td>0</td>\n",
       "      <td>56823.777243</td>\n",
       "      <td>на покупку подержанного автомобиля</td>\n",
       "    </tr>\n",
       "    <tr>\n",
       "      <th>19</th>\n",
       "      <td>0</td>\n",
       "      <td>-10038.818549</td>\n",
       "      <td>48</td>\n",
       "      <td>СРЕДНЕЕ</td>\n",
       "      <td>1</td>\n",
       "      <td>в разводе</td>\n",
       "      <td>3</td>\n",
       "      <td>F</td>\n",
       "      <td>сотрудник</td>\n",
       "      <td>0</td>\n",
       "      <td>242831.107982</td>\n",
       "      <td>на покупку своего автомобиля</td>\n",
       "    </tr>\n",
       "  </tbody>\n",
       "</table>\n",
       "</div>"
      ],
      "text/plain": [
       "    children  days_employed  dob_years            education  education_id  \\\n",
       "0          1   -8437.673028         42               высшее             0   \n",
       "1          1   -4024.803754         36              среднее             1   \n",
       "2          0   -5623.422610         33              Среднее             1   \n",
       "3          3   -4124.747207         32              среднее             1   \n",
       "4          0  340266.072047         53              среднее             1   \n",
       "5          0    -926.185831         27               высшее             0   \n",
       "6          0   -2879.202052         43               высшее             0   \n",
       "7          0    -152.779569         50              СРЕДНЕЕ             1   \n",
       "8          2   -6929.865299         35               ВЫСШЕЕ             0   \n",
       "9          0   -2188.756445         41              среднее             1   \n",
       "10         2   -4171.483647         36               высшее             0   \n",
       "11         0    -792.701887         40              среднее             1   \n",
       "12         0            NaN         65              среднее             1   \n",
       "13         0   -1846.641941         54  неоконченное высшее             2   \n",
       "14         0   -1844.956182         56               высшее             0   \n",
       "15         1    -972.364419         26              среднее             1   \n",
       "16         0   -1719.934226         35              среднее             1   \n",
       "17         0   -2369.999720         33               высшее             0   \n",
       "18         0  400281.136913         53              среднее             1   \n",
       "19         0  -10038.818549         48              СРЕДНЕЕ             1   \n",
       "\n",
       "       family_status  family_status_id gender income_type  debt  \\\n",
       "0    женат / замужем                 0      F   сотрудник     0   \n",
       "1    женат / замужем                 0      F   сотрудник     0   \n",
       "2    женат / замужем                 0      M   сотрудник     0   \n",
       "3    женат / замужем                 0      M   сотрудник     0   \n",
       "4   гражданский брак                 1      F   пенсионер     0   \n",
       "5   гражданский брак                 1      M   компаньон     0   \n",
       "6    женат / замужем                 0      F   компаньон     0   \n",
       "7    женат / замужем                 0      M   сотрудник     0   \n",
       "8   гражданский брак                 1      F   сотрудник     0   \n",
       "9    женат / замужем                 0      M   сотрудник     0   \n",
       "10   женат / замужем                 0      M   компаньон     0   \n",
       "11   женат / замужем                 0      F   сотрудник     0   \n",
       "12  гражданский брак                 1      M   пенсионер     0   \n",
       "13   женат / замужем                 0      F   сотрудник     0   \n",
       "14  гражданский брак                 1      F   компаньон     1   \n",
       "15   женат / замужем                 0      F   сотрудник     0   \n",
       "16   женат / замужем                 0      F   сотрудник     0   \n",
       "17  гражданский брак                 1      M   сотрудник     0   \n",
       "18    вдовец / вдова                 2      F   пенсионер     0   \n",
       "19         в разводе                 3      F   сотрудник     0   \n",
       "\n",
       "     total_income                                 purpose  \n",
       "0   253875.639453                           покупка жилья  \n",
       "1   112080.014102                 приобретение автомобиля  \n",
       "2   145885.952297                           покупка жилья  \n",
       "3   267628.550329              дополнительное образование  \n",
       "4   158616.077870                         сыграть свадьбу  \n",
       "5   255763.565419                           покупка жилья  \n",
       "6   240525.971920                       операции с жильем  \n",
       "7   135823.934197                             образование  \n",
       "8    95856.832424                   на проведение свадьбы  \n",
       "9   144425.938277                 покупка жилья для семьи  \n",
       "10  113943.491460                    покупка недвижимости  \n",
       "11   77069.234271       покупка коммерческой недвижимости  \n",
       "12            NaN                         сыграть свадьбу  \n",
       "13  130458.228857                 приобретение автомобиля  \n",
       "14  165127.911772              покупка жилой недвижимости  \n",
       "15  116820.904450  строительство собственной недвижимости  \n",
       "16  289202.704229                            недвижимость  \n",
       "17   90410.586745              строительство недвижимости  \n",
       "18   56823.777243      на покупку подержанного автомобиля  \n",
       "19  242831.107982            на покупку своего автомобиля  "
      ]
     },
     "execution_count": 2,
     "metadata": {},
     "output_type": "execute_result"
    }
   ],
   "source": [
    "data.head(20)"
   ]
  },
  {
   "cell_type": "markdown",
   "id": "1c12e233",
   "metadata": {
    "deletable": false,
    "id": "1c12e233"
   },
   "source": [
    "**Задание 3. Выведите основную информацию о датафрейме с помощью метода `info()`.**"
   ]
  },
  {
   "cell_type": "code",
   "execution_count": 3,
   "id": "2b757bca",
   "metadata": {
    "deletable": false,
    "id": "2b757bca",
    "outputId": "15376089-8dad-46c9-b520-c05248d43158"
   },
   "outputs": [
    {
     "name": "stdout",
     "output_type": "stream",
     "text": [
      "<class 'pandas.core.frame.DataFrame'>\n",
      "RangeIndex: 21525 entries, 0 to 21524\n",
      "Data columns (total 12 columns):\n",
      " #   Column            Non-Null Count  Dtype  \n",
      "---  ------            --------------  -----  \n",
      " 0   children          21525 non-null  int64  \n",
      " 1   days_employed     19351 non-null  float64\n",
      " 2   dob_years         21525 non-null  int64  \n",
      " 3   education         21525 non-null  object \n",
      " 4   education_id      21525 non-null  int64  \n",
      " 5   family_status     21525 non-null  object \n",
      " 6   family_status_id  21525 non-null  int64  \n",
      " 7   gender            21525 non-null  object \n",
      " 8   income_type       21525 non-null  object \n",
      " 9   debt              21525 non-null  int64  \n",
      " 10  total_income      19351 non-null  float64\n",
      " 11  purpose           21525 non-null  object \n",
      "dtypes: float64(2), int64(5), object(5)\n",
      "memory usage: 2.0+ MB\n"
     ]
    }
   ],
   "source": [
    "data.info()"
   ]
  },
  {
   "cell_type": "markdown",
   "id": "333ec665",
   "metadata": {
    "deletable": false,
    "id": "333ec665"
   },
   "source": [
    "## Предобработка данных"
   ]
  },
  {
   "cell_type": "markdown",
   "id": "02d92d53",
   "metadata": {
    "deletable": false,
    "id": "02d92d53"
   },
   "source": [
    "### Удаление пропусков"
   ]
  },
  {
   "cell_type": "markdown",
   "id": "cd84967c",
   "metadata": {
    "deletable": false,
    "id": "cd84967c"
   },
   "source": [
    "**Задание 4. Выведите количество пропущенных значений для каждого столбца. Используйте комбинацию двух методов.**"
   ]
  },
  {
   "cell_type": "code",
   "execution_count": 4,
   "id": "7f9b2309",
   "metadata": {
    "deletable": false,
    "id": "7f9b2309",
    "outputId": "81f4d817-781c-465c-ed15-91ce4446810d"
   },
   "outputs": [
    {
     "data": {
      "text/plain": [
       "children               0\n",
       "days_employed       2174\n",
       "dob_years              0\n",
       "education              0\n",
       "education_id           0\n",
       "family_status          0\n",
       "family_status_id       0\n",
       "gender                 0\n",
       "income_type            0\n",
       "debt                   0\n",
       "total_income        2174\n",
       "purpose                0\n",
       "dtype: int64"
      ]
     },
     "execution_count": 4,
     "metadata": {},
     "output_type": "execute_result"
    }
   ],
   "source": [
    "data.isna().sum()"
   ]
  },
  {
   "cell_type": "markdown",
   "id": "db86e27b",
   "metadata": {
    "deletable": false,
    "id": "db86e27b"
   },
   "source": [
    "**Задание 5. В двух столбцах есть пропущенные значения. Один из них — `days_employed`. Пропуски в этом столбце вы обработаете на следующем этапе. Другой столбец с пропущенными значениями — `total_income` — хранит данные о доходах. На сумму дохода сильнее всего влияет тип занятости, поэтому заполнить пропуски в этом столбце нужно медианным значением по каждому типу из столбца `income_type`. Например, у человека с типом занятости `сотрудник` пропуск в столбце `total_income` должен быть заполнен медианным доходом среди всех записей с тем же типом.**"
   ]
  },
  {
   "cell_type": "code",
   "execution_count": 5,
   "id": "42006a93",
   "metadata": {
    "deletable": false,
    "id": "42006a93"
   },
   "outputs": [],
   "source": [
    "for t in data['income_type'].unique():\n",
    "    data.loc[(data['income_type'] == t) & (data['total_income'].isna()), 'total_income'] = \\\n",
    "    data.loc[(data['income_type'] == t), 'total_income'].median()"
   ]
  },
  {
   "cell_type": "markdown",
   "id": "89da5ece",
   "metadata": {
    "deletable": false,
    "id": "89da5ece"
   },
   "source": [
    "### Обработка аномальных значений"
   ]
  },
  {
   "cell_type": "markdown",
   "id": "57964554",
   "metadata": {
    "deletable": false,
    "id": "57964554"
   },
   "source": [
    "**Задание 6. В данных могут встречаться артефакты (аномалии) — значения, которые не отражают действительность и появились по какой-то ошибке. таким артефактом будет отрицательное количество дней трудового стажа в столбце `days_employed`. Для реальных данных это нормально. Обработайте значения в этом столбце: замените все отрицательные значения положительными с помощью метода `abs()`.**"
   ]
  },
  {
   "cell_type": "code",
   "execution_count": 6,
   "id": "f6f055bf",
   "metadata": {
    "deletable": false,
    "id": "f6f055bf"
   },
   "outputs": [],
   "source": [
    "data['days_employed'] = data['days_employed'].abs()"
   ]
  },
  {
   "cell_type": "markdown",
   "id": "6107dd2f",
   "metadata": {
    "deletable": false,
    "id": "6107dd2f"
   },
   "source": [
    "**Задание 7. Для каждого типа занятости выведите медианное значение трудового стажа `days_employed` в днях.**"
   ]
  },
  {
   "cell_type": "code",
   "execution_count": 7,
   "id": "85a5faf6",
   "metadata": {
    "deletable": false,
    "id": "85a5faf6",
    "outputId": "801ef80e-522b-4668-f34e-565af7432bcf"
   },
   "outputs": [
    {
     "data": {
      "text/plain": [
       "income_type\n",
       "безработный        366413.652744\n",
       "в декрете            3296.759962\n",
       "госслужащий          2689.368353\n",
       "компаньон            1547.382223\n",
       "пенсионер          365213.306266\n",
       "предприниматель       520.848083\n",
       "сотрудник            1574.202821\n",
       "студент               578.751554\n",
       "Name: days_employed, dtype: float64"
      ]
     },
     "execution_count": 7,
     "metadata": {},
     "output_type": "execute_result"
    }
   ],
   "source": [
    "data.groupby('income_type')['days_employed'].agg('median')"
   ]
  },
  {
   "cell_type": "markdown",
   "id": "38d1a030",
   "metadata": {
    "deletable": false,
    "id": "38d1a030"
   },
   "source": [
    "У двух типов (безработные и пенсионеры) получатся аномально большие значения. Исправить такие значения сложно, поэтому оставьте их как есть. Тем более этот столбец не понадобится вам для исследования."
   ]
  },
  {
   "cell_type": "markdown",
   "id": "d8a9f147",
   "metadata": {
    "deletable": false,
    "id": "d8a9f147"
   },
   "source": [
    "**Задание 8. Выведите перечень уникальных значений столбца `children`.**"
   ]
  },
  {
   "cell_type": "code",
   "execution_count": 8,
   "id": "ef5056eb",
   "metadata": {
    "deletable": false,
    "id": "ef5056eb",
    "outputId": "6975b15c-7f95-4697-d16d-a0c79b657b03"
   },
   "outputs": [
    {
     "data": {
      "text/plain": [
       "array([ 1,  0,  3,  2, -1,  4, 20,  5])"
      ]
     },
     "execution_count": 8,
     "metadata": {},
     "output_type": "execute_result"
    }
   ],
   "source": [
    "data['children'].unique()"
   ]
  },
  {
   "cell_type": "markdown",
   "id": "40b9ebf2",
   "metadata": {
    "deletable": false,
    "id": "40b9ebf2"
   },
   "source": [
    "**Задание 9. В столбце `children` есть два аномальных значения. Удалите строки, в которых встречаются такие аномальные значения из датафрейма `data`.**"
   ]
  },
  {
   "cell_type": "code",
   "execution_count": 9,
   "id": "3ff9801d",
   "metadata": {
    "deletable": false,
    "id": "3ff9801d"
   },
   "outputs": [],
   "source": [
    "data = data[(data['children'] != -1) & (data['children'] != 20)]"
   ]
  },
  {
   "cell_type": "markdown",
   "id": "bbc4d0ce",
   "metadata": {
    "deletable": false,
    "id": "bbc4d0ce"
   },
   "source": [
    "**Задание 10. Ещё раз выведите перечень уникальных значений столбца `children`, чтобы убедиться, что артефакты удалены.**"
   ]
  },
  {
   "cell_type": "code",
   "execution_count": 10,
   "id": "ad4fa8b7",
   "metadata": {
    "deletable": false,
    "id": "ad4fa8b7",
    "outputId": "b2097101-d49d-44d9-901b-32a65c9463d1"
   },
   "outputs": [
    {
     "data": {
      "text/plain": [
       "array([1, 0, 3, 2, 4, 5])"
      ]
     },
     "execution_count": 10,
     "metadata": {},
     "output_type": "execute_result"
    }
   ],
   "source": [
    "data['children'].unique()"
   ]
  },
  {
   "cell_type": "markdown",
   "id": "75440b63",
   "metadata": {
    "deletable": false,
    "id": "75440b63"
   },
   "source": [
    "### Удаление пропусков (продолжение)"
   ]
  },
  {
   "cell_type": "markdown",
   "id": "f4ea573f",
   "metadata": {
    "deletable": false,
    "id": "f4ea573f"
   },
   "source": [
    "**Задание 11. Заполните пропуски в столбце `days_employed` медианными значениями по каждого типа занятости `income_type`.**"
   ]
  },
  {
   "cell_type": "code",
   "execution_count": 11,
   "id": "af6b1a7e",
   "metadata": {
    "deletable": false,
    "id": "af6b1a7e"
   },
   "outputs": [],
   "source": [
    "for t in data['income_type'].unique():\n",
    "    data.loc[(data['income_type'] == t) & (data['days_employed'].isna()), 'days_employed'] = \\\n",
    "    data.loc[(data['income_type'] == t), 'days_employed'].median()"
   ]
  },
  {
   "cell_type": "markdown",
   "id": "2753f40d",
   "metadata": {
    "deletable": false,
    "id": "2753f40d"
   },
   "source": [
    "**Задание 12. Убедитесь, что все пропуски заполнены. Проверьте себя и ещё раз выведите количество пропущенных значений для каждого столбца с помощью двух методов.**"
   ]
  },
  {
   "cell_type": "code",
   "execution_count": 12,
   "id": "55f78bc2",
   "metadata": {
    "deletable": false,
    "id": "55f78bc2",
    "outputId": "8da1e4e1-358e-4e87-98c9-f261bce0a7b2"
   },
   "outputs": [
    {
     "data": {
      "text/plain": [
       "children            0\n",
       "days_employed       0\n",
       "dob_years           0\n",
       "education           0\n",
       "education_id        0\n",
       "family_status       0\n",
       "family_status_id    0\n",
       "gender              0\n",
       "income_type         0\n",
       "debt                0\n",
       "total_income        0\n",
       "purpose             0\n",
       "dtype: int64"
      ]
     },
     "execution_count": 12,
     "metadata": {},
     "output_type": "execute_result"
    }
   ],
   "source": [
    "data.isna().sum()"
   ]
  },
  {
   "cell_type": "markdown",
   "id": "ddc81e43",
   "metadata": {
    "deletable": false,
    "id": "ddc81e43"
   },
   "source": [
    "### Изменение типов данных"
   ]
  },
  {
   "cell_type": "markdown",
   "id": "42d19d24",
   "metadata": {
    "deletable": false,
    "id": "42d19d24"
   },
   "source": [
    "**Задание 13. Замените вещественный тип данных в столбце `total_income` на целочисленный с помощью метода `astype()`.**"
   ]
  },
  {
   "cell_type": "code",
   "execution_count": 13,
   "id": "920b65ad",
   "metadata": {
    "deletable": false,
    "id": "920b65ad"
   },
   "outputs": [],
   "source": [
    "data['total_income'] = data['total_income'].astype(int)"
   ]
  },
  {
   "cell_type": "markdown",
   "id": "80c420ba",
   "metadata": {
    "deletable": false,
    "id": "80c420ba"
   },
   "source": [
    "### Обработка дубликатов"
   ]
  },
  {
   "cell_type": "markdown",
   "id": "dc587695",
   "metadata": {
    "deletable": false,
    "id": "dc587695"
   },
   "source": [
    "**Задание 14. Выведите на экран количество строк-дубликатов в данных. Если такие строки присутствуют, удалите их.**"
   ]
  },
  {
   "cell_type": "code",
   "execution_count": 14,
   "id": "3ee445e4",
   "metadata": {
    "deletable": false,
    "id": "3ee445e4",
    "outputId": "9684deba-1934-42d1-99e1-cda61740f822"
   },
   "outputs": [
    {
     "data": {
      "text/plain": [
       "54"
      ]
     },
     "execution_count": 14,
     "metadata": {},
     "output_type": "execute_result"
    }
   ],
   "source": [
    "data.duplicated().sum()"
   ]
  },
  {
   "cell_type": "code",
   "execution_count": 15,
   "id": "8575fe05",
   "metadata": {
    "deletable": false,
    "id": "8575fe05"
   },
   "outputs": [],
   "source": [
    "data = data.drop_duplicates()"
   ]
  },
  {
   "cell_type": "markdown",
   "id": "9771a76c",
   "metadata": {
    "deletable": false,
    "id": "9771a76c"
   },
   "source": [
    "**Задание 15. Обработайте неявные дубликаты в столбце `education`. В этом столбце есть одни и те же значения, но записанные по-разному: с использованием заглавных и строчных букв. Приведите их к нижнему регистру. Проверьте остальные столбцы.**"
   ]
  },
  {
   "cell_type": "code",
   "execution_count": 16,
   "id": "a9f8e2bf",
   "metadata": {
    "deletable": false,
    "id": "a9f8e2bf"
   },
   "outputs": [],
   "source": [
    "data['education'] = data['education'].str.lower()"
   ]
  },
  {
   "cell_type": "markdown",
   "id": "9904cf55",
   "metadata": {
    "deletable": false,
    "id": "9904cf55"
   },
   "source": [
    "### Категоризация данных"
   ]
  },
  {
   "cell_type": "markdown",
   "id": "72fcc8a2",
   "metadata": {
    "deletable": false,
    "id": "72fcc8a2"
   },
   "source": [
    "**Задание 16. На основании диапазонов, указанных ниже, создайте в датафрейме `data` столбец `total_income_category` с категориями:**\n",
    "\n",
    "- 0–30000 — `'E'`;\n",
    "- 30001–50000 — `'D'`;\n",
    "- 50001–200000 — `'C'`;\n",
    "- 200001–1000000 — `'B'`;\n",
    "- 1000001 и выше — `'A'`.\n",
    "\n",
    "\n",
    "**Например, кредитополучателю с доходом 25000 нужно назначить категорию `'E'`, а клиенту, получающему 235000, — `'B'`. Используйте собственную функцию с именем `categorize_income()` и метод `apply()`.**"
   ]
  },
  {
   "cell_type": "code",
   "execution_count": 17,
   "id": "e1771346",
   "metadata": {
    "deletable": false,
    "id": "e1771346"
   },
   "outputs": [],
   "source": [
    "def categorize_income(income):\n",
    "    try:\n",
    "        if 0 <= income <= 30000:\n",
    "            return 'E'\n",
    "        elif 30001 <= income <= 50000:\n",
    "            return 'D'\n",
    "        elif 50001 <= income <= 200000:\n",
    "            return 'C'\n",
    "        elif 200001 <= income <= 1000000:\n",
    "            return 'B'\n",
    "        elif income >= 1000001:\n",
    "            return 'A'\n",
    "    except:\n",
    "        pass"
   ]
  },
  {
   "cell_type": "code",
   "execution_count": 18,
   "id": "d5f3586d",
   "metadata": {
    "deletable": false,
    "id": "d5f3586d"
   },
   "outputs": [],
   "source": [
    "data['total_income_category'] = data['total_income'].apply(categorize_income)"
   ]
  },
  {
   "cell_type": "markdown",
   "id": "dde49b5c",
   "metadata": {
    "deletable": false,
    "id": "dde49b5c"
   },
   "source": [
    "**Задание 17. Выведите на экран перечень уникальных целей взятия кредита из столбца `purpose`.**"
   ]
  },
  {
   "cell_type": "code",
   "execution_count": 19,
   "id": "f67ce9b3",
   "metadata": {
    "deletable": false,
    "id": "f67ce9b3",
    "outputId": "673c12d9-7d7e-4ae0-9812-c622c89dd244"
   },
   "outputs": [
    {
     "data": {
      "text/plain": [
       "array(['покупка жилья', 'приобретение автомобиля',\n",
       "       'дополнительное образование', 'сыграть свадьбу',\n",
       "       'операции с жильем', 'образование', 'на проведение свадьбы',\n",
       "       'покупка жилья для семьи', 'покупка недвижимости',\n",
       "       'покупка коммерческой недвижимости', 'покупка жилой недвижимости',\n",
       "       'строительство собственной недвижимости', 'недвижимость',\n",
       "       'строительство недвижимости', 'на покупку подержанного автомобиля',\n",
       "       'на покупку своего автомобиля',\n",
       "       'операции с коммерческой недвижимостью',\n",
       "       'строительство жилой недвижимости', 'жилье',\n",
       "       'операции со своей недвижимостью', 'автомобили',\n",
       "       'заняться образованием', 'сделка с подержанным автомобилем',\n",
       "       'получение образования', 'автомобиль', 'свадьба',\n",
       "       'получение дополнительного образования', 'покупка своего жилья',\n",
       "       'операции с недвижимостью', 'получение высшего образования',\n",
       "       'свой автомобиль', 'сделка с автомобилем',\n",
       "       'профильное образование', 'высшее образование',\n",
       "       'покупка жилья для сдачи', 'на покупку автомобиля', 'ремонт жилью',\n",
       "       'заняться высшим образованием'], dtype=object)"
      ]
     },
     "execution_count": 19,
     "metadata": {},
     "output_type": "execute_result"
    }
   ],
   "source": [
    "data['purpose'].unique()"
   ]
  },
  {
   "cell_type": "markdown",
   "id": "85d0aef0",
   "metadata": {
    "deletable": false,
    "id": "85d0aef0"
   },
   "source": [
    "**Задание 18. Создайте функцию, которая на основании данных из столбца `purpose` сформирует новый столбец `purpose_category`, в который войдут следующие категории:**\n",
    "\n",
    "- `'операции с автомобилем'`,\n",
    "- `'операции с недвижимостью'`,\n",
    "- `'проведение свадьбы'`,\n",
    "- `'получение образования'`.\n",
    "\n",
    "**Например, если в столбце `purpose` находится подстрока `'на покупку автомобиля'`, то в столбце `purpose_category` должна появиться строка `'операции с автомобилем'`.**\n",
    "\n",
    "**Используйте собственную функцию с именем `categorize_purpose()` и метод `apply()`. Изучите данные в столбце `purpose` и определите, какие подстроки помогут вам правильно определить категорию.**"
   ]
  },
  {
   "cell_type": "code",
   "execution_count": 20,
   "id": "e149fab4",
   "metadata": {
    "deletable": false,
    "id": "e149fab4"
   },
   "outputs": [],
   "source": [
    "def categorize_purpose(row):\n",
    "    try:\n",
    "        if 'автом' in row:\n",
    "            return 'операции с автомобилем'\n",
    "        elif 'жил' in row or 'недвиж' in row:\n",
    "            return 'операции с недвижимостью'\n",
    "        elif 'свад' in row:\n",
    "            return 'проведение свадьбы'\n",
    "        elif 'образов' in row:\n",
    "            return 'получение образования'\n",
    "    except:\n",
    "        return 'нет категории'"
   ]
  },
  {
   "cell_type": "code",
   "execution_count": 21,
   "id": "bf36e69b",
   "metadata": {
    "deletable": false,
    "id": "bf36e69b"
   },
   "outputs": [],
   "source": [
    "data['purpose_category'] = data['purpose'].apply(categorize_purpose)"
   ]
  },
  {
   "cell_type": "markdown",
   "id": "09b242bf",
   "metadata": {
    "deletable": false,
    "editable": false,
    "id": "09b242bf"
   },
   "source": [
    "## Исследуйте данные и ответьте на вопросы"
   ]
  },
  {
   "cell_type": "markdown",
   "id": "c5d66278",
   "metadata": {
    "deletable": false,
    "editable": false,
    "id": "c5d66278"
   },
   "source": [
    "**Задание 19. Есть ли зависимость между количеством детей и возвратом кредита в срок?**"
   ]
  },
  {
   "cell_type": "markdown",
   "id": "027d8802",
   "metadata": {},
   "source": [
    "Для ответа на данный вопрос разобьем заемщиков на группы по количеству детей. Посмотрим их колличество в каждой группе."
   ]
  },
  {
   "cell_type": "code",
   "execution_count": 22,
   "id": "a7c51d0a",
   "metadata": {
    "id": "2cacfc4a"
   },
   "outputs": [
    {
     "data": {
      "text/plain": [
       "0    14107\n",
       "1     4809\n",
       "2     2052\n",
       "3      330\n",
       "4       41\n",
       "5        9\n",
       "Name: children, dtype: int64"
      ]
     },
     "execution_count": 22,
     "metadata": {},
     "output_type": "execute_result"
    }
   ],
   "source": [
    "children_count = data['children'].value_counts()\n",
    "children_count"
   ]
  },
  {
   "cell_type": "markdown",
   "id": "9420ade9",
   "metadata": {},
   "source": [
    "Отфильтруем заемщиков с просроченной задолжностью и посмотрим на их долю от общего числа в каждой группе.\n",
    "\n",
    "Далее сравним значения \"без детей\" и \"с детьми\"."
   ]
  },
  {
   "cell_type": "code",
   "execution_count": 23,
   "id": "c1640c2b",
   "metadata": {},
   "outputs": [
    {
     "name": "stdout",
     "output_type": "stream",
     "text": [
      "Процент заемщиков с задолжностью по каждой группе:\n"
     ]
    },
    {
     "data": {
      "text/plain": [
       "0    7.535266\n",
       "1    9.232689\n",
       "2    9.454191\n",
       "3    8.181818\n",
       "4    9.756098\n",
       "5         NaN\n",
       "dtype: float64"
      ]
     },
     "metadata": {},
     "output_type": "display_data"
    },
    {
     "name": "stdout",
     "output_type": "stream",
     "text": [
      "Доля заемщиков с задолжностью по возврату кредита без детей: 7.535266179910682\n",
      "Среднее значение доли заемщиков с задолжностью и с детьми: 9.156198871150858\n"
     ]
    }
   ],
   "source": [
    "print('Процент заемщиков с задолжностью по каждой группе:')\n",
    "children_debt = data[data['debt'] == 1].groupby('children')['debt'].count()\n",
    "display((children_debt / children_count) * 100)\n",
    "print('Доля заемщиков с задолжностью по возврату кредита без детей:', (children_debt[0] / children_count[0]) * 100)\n",
    "#исключим из выборки заемщиков без детей и посчитаем среднее значение\n",
    "children_debt_sr = children_debt[1:]\n",
    "children_count_sr = children_count[1:]\n",
    "print('Среднее значение доли заемщиков с задолжностью и с детьми:', ((children_debt_sr / children_count_sr) * 100).mean())"
   ]
  },
  {
   "cell_type": "markdown",
   "id": "3a6b99ec",
   "metadata": {
    "deletable": false,
    "id": "3a6b99ec"
   },
   "source": [
    "**Вывод:** \n",
    "\n",
    "Из полученных данных мы видим, что факт наличия детей у заемщика увеличивает вероятность появления задолжности по возврату кредита примерно на 1.63%. \n",
    "\n",
    "Так же малое влиение имеет количестово детей у заемщика. Максимальная разница между группами составляет 1.57%."
   ]
  },
  {
   "cell_type": "code",
   "execution_count": 24,
   "id": "edd0d7a0",
   "metadata": {},
   "outputs": [
    {
     "data": {
      "text/html": [
       "<div>\n",
       "<style scoped>\n",
       "    .dataframe tbody tr th:only-of-type {\n",
       "        vertical-align: middle;\n",
       "    }\n",
       "\n",
       "    .dataframe tbody tr th {\n",
       "        vertical-align: top;\n",
       "    }\n",
       "\n",
       "    .dataframe thead th {\n",
       "        text-align: right;\n",
       "    }\n",
       "</style>\n",
       "<table border=\"1\" class=\"dataframe\">\n",
       "  <thead>\n",
       "    <tr style=\"text-align: right;\">\n",
       "      <th>debt</th>\n",
       "      <th>0</th>\n",
       "      <th>1</th>\n",
       "      <th>sum</th>\n",
       "      <th>ratio</th>\n",
       "    </tr>\n",
       "    <tr>\n",
       "      <th>children</th>\n",
       "      <th></th>\n",
       "      <th></th>\n",
       "      <th></th>\n",
       "      <th></th>\n",
       "    </tr>\n",
       "  </thead>\n",
       "  <tbody>\n",
       "    <tr>\n",
       "      <th>0</th>\n",
       "      <td>13044</td>\n",
       "      <td>1063</td>\n",
       "      <td>14107</td>\n",
       "      <td>7.535266</td>\n",
       "    </tr>\n",
       "    <tr>\n",
       "      <th>1</th>\n",
       "      <td>4365</td>\n",
       "      <td>444</td>\n",
       "      <td>4809</td>\n",
       "      <td>9.232689</td>\n",
       "    </tr>\n",
       "    <tr>\n",
       "      <th>2</th>\n",
       "      <td>1858</td>\n",
       "      <td>194</td>\n",
       "      <td>2052</td>\n",
       "      <td>9.454191</td>\n",
       "    </tr>\n",
       "    <tr>\n",
       "      <th>3</th>\n",
       "      <td>303</td>\n",
       "      <td>27</td>\n",
       "      <td>330</td>\n",
       "      <td>8.181818</td>\n",
       "    </tr>\n",
       "    <tr>\n",
       "      <th>4</th>\n",
       "      <td>37</td>\n",
       "      <td>4</td>\n",
       "      <td>41</td>\n",
       "      <td>9.756098</td>\n",
       "    </tr>\n",
       "    <tr>\n",
       "      <th>5</th>\n",
       "      <td>9</td>\n",
       "      <td>0</td>\n",
       "      <td>9</td>\n",
       "      <td>0.000000</td>\n",
       "    </tr>\n",
       "  </tbody>\n",
       "</table>\n",
       "</div>"
      ],
      "text/plain": [
       "debt          0     1    sum     ratio\n",
       "children                              \n",
       "0         13044  1063  14107  7.535266\n",
       "1          4365   444   4809  9.232689\n",
       "2          1858   194   2052  9.454191\n",
       "3           303    27    330  8.181818\n",
       "4            37     4     41  9.756098\n",
       "5             9     0      9  0.000000"
      ]
     },
     "execution_count": 24,
     "metadata": {},
     "output_type": "execute_result"
    }
   ],
   "source": [
    "debt_pivot = data.pivot_table(index=['children'], columns='debt', values='gender', aggfunc='count', fill_value=0)\n",
    "debt_pivot['sum'] = debt_pivot[0] + debt_pivot[1]\n",
    "debt_pivot['ratio'] = debt_pivot[1] / debt_pivot['sum'] * 100\n",
    "debt_pivot"
   ]
  },
  {
   "cell_type": "code",
   "execution_count": 36,
   "id": "877cb0fc",
   "metadata": {},
   "outputs": [
    {
     "data": {
      "text/html": [
       "<div>\n",
       "<style scoped>\n",
       "    .dataframe tbody tr th:only-of-type {\n",
       "        vertical-align: middle;\n",
       "    }\n",
       "\n",
       "    .dataframe tbody tr th {\n",
       "        vertical-align: top;\n",
       "    }\n",
       "\n",
       "    .dataframe thead tr th {\n",
       "        text-align: left;\n",
       "    }\n",
       "\n",
       "    .dataframe thead tr:last-of-type th {\n",
       "        text-align: right;\n",
       "    }\n",
       "</style>\n",
       "<table border=\"1\" class=\"dataframe\">\n",
       "  <thead>\n",
       "    <tr>\n",
       "      <th></th>\n",
       "      <th>count</th>\n",
       "      <th>sum</th>\n",
       "      <th>mean</th>\n",
       "    </tr>\n",
       "    <tr>\n",
       "      <th></th>\n",
       "      <th>debt</th>\n",
       "      <th>debt</th>\n",
       "      <th>debt</th>\n",
       "    </tr>\n",
       "    <tr>\n",
       "      <th>children</th>\n",
       "      <th></th>\n",
       "      <th></th>\n",
       "      <th></th>\n",
       "    </tr>\n",
       "  </thead>\n",
       "  <tbody>\n",
       "    <tr>\n",
       "      <th>0</th>\n",
       "      <td>14107</td>\n",
       "      <td>1063</td>\n",
       "      <td>0.075353</td>\n",
       "    </tr>\n",
       "    <tr>\n",
       "      <th>1</th>\n",
       "      <td>4809</td>\n",
       "      <td>444</td>\n",
       "      <td>0.092327</td>\n",
       "    </tr>\n",
       "    <tr>\n",
       "      <th>2</th>\n",
       "      <td>2052</td>\n",
       "      <td>194</td>\n",
       "      <td>0.094542</td>\n",
       "    </tr>\n",
       "    <tr>\n",
       "      <th>3</th>\n",
       "      <td>330</td>\n",
       "      <td>27</td>\n",
       "      <td>0.081818</td>\n",
       "    </tr>\n",
       "    <tr>\n",
       "      <th>4</th>\n",
       "      <td>41</td>\n",
       "      <td>4</td>\n",
       "      <td>0.097561</td>\n",
       "    </tr>\n",
       "    <tr>\n",
       "      <th>5</th>\n",
       "      <td>9</td>\n",
       "      <td>0</td>\n",
       "      <td>0.000000</td>\n",
       "    </tr>\n",
       "  </tbody>\n",
       "</table>\n",
       "</div>"
      ],
      "text/plain": [
       "          count   sum      mean\n",
       "           debt  debt      debt\n",
       "children                       \n",
       "0         14107  1063  0.075353\n",
       "1          4809   444  0.092327\n",
       "2          2052   194  0.094542\n",
       "3           330    27  0.081818\n",
       "4            41     4  0.097561\n",
       "5             9     0  0.000000"
      ]
     },
     "execution_count": 36,
     "metadata": {},
     "output_type": "execute_result"
    }
   ],
   "source": [
    "#код ревьюера\n",
    "data.pivot_table(index=['children'], values='debt', aggfunc=['count', 'sum', 'mean'])"
   ]
  },
  {
   "cell_type": "markdown",
   "id": "97be82ca",
   "metadata": {
    "deletable": false,
    "editable": false,
    "id": "97be82ca"
   },
   "source": [
    "**Задание 20. Есть ли зависимость между семейным положением и возвратом кредита в срок?**"
   ]
  },
  {
   "cell_type": "markdown",
   "id": "b9ce47cc",
   "metadata": {
    "id": "dc3f7ee8"
   },
   "source": [
    "Для решения задачи, сначала посмотрим на уникальные значения в столбце `family_status`."
   ]
  },
  {
   "cell_type": "code",
   "execution_count": 25,
   "id": "de738501",
   "metadata": {},
   "outputs": [
    {
     "data": {
      "text/plain": [
       "array(['женат / замужем', 'гражданский брак', 'вдовец / вдова',\n",
       "       'в разводе', 'Не женат / не замужем'], dtype=object)"
      ]
     },
     "execution_count": 25,
     "metadata": {},
     "output_type": "execute_result"
    }
   ],
   "source": [
    "data['family_status'].unique()"
   ]
  },
  {
   "cell_type": "markdown",
   "id": "c6e311ef",
   "metadata": {},
   "source": [
    "Приведем столбец к нижнему регистру."
   ]
  },
  {
   "cell_type": "code",
   "execution_count": 26,
   "id": "3f9d76a7",
   "metadata": {},
   "outputs": [
    {
     "data": {
      "text/plain": [
       "array(['женат / замужем', 'гражданский брак', 'вдовец / вдова',\n",
       "       'в разводе', 'не женат / не замужем'], dtype=object)"
      ]
     },
     "execution_count": 26,
     "metadata": {},
     "output_type": "execute_result"
    }
   ],
   "source": [
    "data['family_status'] = data['family_status'].str.lower()\n",
    "data['family_status'].unique()"
   ]
  },
  {
   "cell_type": "markdown",
   "id": "adfa0eee",
   "metadata": {},
   "source": [
    "Сгруппируем заемщиков по семейному положению и посчитаем их количество в каждой группе."
   ]
  },
  {
   "cell_type": "code",
   "execution_count": 27,
   "id": "1bf0dd7e",
   "metadata": {},
   "outputs": [
    {
     "data": {
      "text/plain": [
       "family_status\n",
       "вдовец / вдова             951\n",
       "в разводе                 1189\n",
       "не женат / не замужем     2796\n",
       "гражданский брак          4146\n",
       "женат / замужем          12266\n",
       "Name: debt, dtype: int64"
      ]
     },
     "execution_count": 27,
     "metadata": {},
     "output_type": "execute_result"
    }
   ],
   "source": [
    "status_group = data.groupby('family_status')['debt'].count()\n",
    "status_group.sort_values()"
   ]
  },
  {
   "cell_type": "markdown",
   "id": "395cb8bf",
   "metadata": {},
   "source": [
    "Посчитаем процент заемщиков с задолжностью в каждой группе."
   ]
  },
  {
   "cell_type": "code",
   "execution_count": 28,
   "id": "86e82a12",
   "metadata": {},
   "outputs": [
    {
     "data": {
      "text/plain": [
       "family_status\n",
       "вдовец / вдова           6.624606\n",
       "в разводе                7.064760\n",
       "женат / замужем          7.557476\n",
       "гражданский брак         9.286059\n",
       "не женат / не замужем    9.763948\n",
       "Name: debt, dtype: float64"
      ]
     },
     "execution_count": 28,
     "metadata": {},
     "output_type": "execute_result"
    }
   ],
   "source": [
    "status_group_deb = data[data['debt'] == 1].groupby('family_status')['debt'].count()\n",
    "((status_group_deb / status_group) * 100).sort_values()"
   ]
  },
  {
   "cell_type": "markdown",
   "id": "1cef7837",
   "metadata": {
    "deletable": false,
    "id": "1cef7837"
   },
   "source": [
    "**Вывод:** \n",
    "\n",
    "Из полученных значений можем сделать вывод, что заемщики живущие в \"гражданском браке\" или \"не женаты / не замужем\" имеют большую вероятность получить задолженность по возврату кредита."
   ]
  },
  {
   "cell_type": "markdown",
   "id": "1e8b2fca",
   "metadata": {
    "deletable": false,
    "editable": false,
    "id": "1e8b2fca"
   },
   "source": [
    "**Задание 21. Есть ли зависимость между уровнем дохода и возвратом кредита в срок?**"
   ]
  },
  {
   "cell_type": "markdown",
   "id": "441e4b93",
   "metadata": {
    "id": "cd7e3720"
   },
   "source": [
    "При изучении зависимости, начнем с группировки заемщиков по категориям дохода. Используем столбец `total_income_category`, который создали ранее."
   ]
  },
  {
   "cell_type": "code",
   "execution_count": 29,
   "id": "2452f700",
   "metadata": {},
   "outputs": [
    {
     "data": {
      "text/plain": [
       "total_income_category\n",
       "A       25\n",
       "B     5014\n",
       "C    15938\n",
       "D      349\n",
       "E       22\n",
       "Name: debt, dtype: int64"
      ]
     },
     "execution_count": 29,
     "metadata": {},
     "output_type": "execute_result"
    }
   ],
   "source": [
    "income_group = data.groupby('total_income_category')['debt'].count()\n",
    "income_group"
   ]
  },
  {
   "cell_type": "markdown",
   "id": "e7b497ba",
   "metadata": {},
   "source": [
    "Посчитаем процент заемщиков с задолжностью от общего числа по каждой группе и сделаем выводы."
   ]
  },
  {
   "cell_type": "code",
   "execution_count": 30,
   "id": "2853ad72",
   "metadata": {},
   "outputs": [
    {
     "data": {
      "text/plain": [
       "total_income_category\n",
       "D    6.017192\n",
       "B    7.060231\n",
       "A    8.000000\n",
       "C    8.489145\n",
       "E    9.090909\n",
       "Name: debt, dtype: float64"
      ]
     },
     "execution_count": 30,
     "metadata": {},
     "output_type": "execute_result"
    }
   ],
   "source": [
    "income_group_deb = data[data['debt'] == 1].groupby('total_income_category')['debt'].count()\n",
    "((income_group_deb / income_group) * 100).sort_values()"
   ]
  },
  {
   "cell_type": "markdown",
   "id": "e8593def",
   "metadata": {
    "deletable": false,
    "id": "e8593def"
   },
   "source": [
    "**Вывод:** \n",
    "\n",
    "Вспомним категории дохода:\n",
    "- 0–30000 — `'E'`;\n",
    "- 30001–50000 — `'D'`;\n",
    "- 50001–200000 — `'C'`;\n",
    "- 200001–1000000 — `'B'`;\n",
    "- 1000001 и выше — `'A'`.\n",
    "\n",
    "Из полученных данных, мы можем сделать вывод, что чаще других допускают задолжность клиенты категории `E`, с доходом до 30000. Меньше всего `D`, с доходом до 50000. Клиенты с категорией дохода `A` и `C` допускают задолжность примерно одинаково."
   ]
  },
  {
   "cell_type": "markdown",
   "id": "99ecbd1f",
   "metadata": {
    "deletable": false,
    "editable": false,
    "id": "99ecbd1f"
   },
   "source": [
    "**Задание 22. Как разные цели кредита влияют на его возврат в срок?**"
   ]
  },
  {
   "cell_type": "markdown",
   "id": "643beb86",
   "metadata": {},
   "source": [
    "Для начала сгруппируем заемщиков по целям кредита и посчитаем их количество:"
   ]
  },
  {
   "cell_type": "code",
   "execution_count": 31,
   "id": "2b687290",
   "metadata": {
    "id": "2b687290"
   },
   "outputs": [
    {
     "data": {
      "text/plain": [
       "purpose_category\n",
       "проведение свадьбы           2324\n",
       "получение образования        3989\n",
       "операции с автомобилем       4281\n",
       "операции с недвижимостью    10754\n",
       "Name: debt, dtype: int64"
      ]
     },
     "execution_count": 31,
     "metadata": {},
     "output_type": "execute_result"
    }
   ],
   "source": [
    "purpose_group = data.groupby('purpose_category')['debt'].count()\n",
    "purpose_group.sort_values()"
   ]
  },
  {
   "cell_type": "markdown",
   "id": "41037ee9",
   "metadata": {},
   "source": [
    "Посчитаем какая доля заемщиков в каждой группе допустила задолжность по кредиту:"
   ]
  },
  {
   "cell_type": "code",
   "execution_count": 32,
   "id": "48be240a",
   "metadata": {},
   "outputs": [
    {
     "data": {
      "text/plain": [
       "purpose_category\n",
       "операции с недвижимостью    7.253115\n",
       "проведение свадьбы          7.874355\n",
       "получение образования       9.250439\n",
       "операции с автомобилем      9.343611\n",
       "Name: debt, dtype: float64"
      ]
     },
     "execution_count": 32,
     "metadata": {},
     "output_type": "execute_result"
    }
   ],
   "source": [
    "purpose_group_deb = data[data['debt'] == 1].groupby('purpose_category')['debt'].count()\n",
    "((purpose_group_deb / purpose_group) * 100).sort_values()"
   ]
  },
  {
   "cell_type": "markdown",
   "id": "4b6620b8",
   "metadata": {},
   "source": [
    "Из полученных данных мы видим, что заемщики с целью кредита `операции с автомобилем` и `получение образования` чаще остальных допускают задолжность.\n",
    "\n",
    "Большая вероятность появления задолжности в категории `операции с автомобилем` может быть связана с возникающими дополнительными расходами на  автомобиль (техническое обслуживание, обязательное страхование КАСКО и ОСАГО, покупка дополнительного комплекта резина и т.д.)\n",
    "\n",
    "Для категории `получение образования` может быть связано с тем, что **бóльшая** часть заемщиков - это студенты ВУЗов, совмещающие учебу и работу с неполным рабочем днём. Имеющийся датафрейм позволит проверить нам версию:\n",
    "\"Медианный возраст заемщиков с задолжностью по кредиту для образования - до 25 лет включительно.\"\n",
    "\n",
    "Возраст расчитан : 25 = 18(окончание школы) + 7(обучение в ВУЗе)\n",
    "\n",
    "Проверим столбец с указанием возраста на ошибки с помощью уникальных значений."
   ]
  },
  {
   "cell_type": "code",
   "execution_count": 33,
   "id": "a9df2517",
   "metadata": {},
   "outputs": [
    {
     "data": {
      "text/plain": [
       "array([ 0, 19, 20, 21, 22, 23, 24, 25, 26, 27, 28, 29, 30, 31, 32, 33, 34,\n",
       "       35, 36, 37, 38, 39, 40, 41, 42, 43, 44, 45, 46, 47, 48, 49, 50, 51,\n",
       "       52, 53, 54, 55, 56, 57, 58, 59, 60, 61, 62, 63, 64, 65, 66, 67, 68,\n",
       "       69, 70, 71, 72, 73, 74, 75])"
      ]
     },
     "execution_count": 33,
     "metadata": {},
     "output_type": "execute_result"
    }
   ],
   "source": [
    "data['dob_years'].sort_values().unique()"
   ]
  },
  {
   "cell_type": "markdown",
   "id": "9c91d85b",
   "metadata": {},
   "source": [
    "Посчитаем обнаруженые ошибочные значения с возрастом `0`"
   ]
  },
  {
   "cell_type": "code",
   "execution_count": 34,
   "id": "896bd79e",
   "metadata": {},
   "outputs": [
    {
     "name": "stdout",
     "output_type": "stream",
     "text": [
      "Общее число заемщиков с возрастом \"0\": 100\n"
     ]
    }
   ],
   "source": [
    "j = data[data['dob_years'] == 0]['dob_years'].count()\n",
    "print('Общее число заемщиков с возрастом \"0\":',j)"
   ]
  },
  {
   "cell_type": "markdown",
   "id": "3dda376b",
   "metadata": {},
   "source": [
    "Так как общее количество некорректных значений на фоне общего количества строк мало, отфильтруем ненужные строки.\n",
    "Далее посмотрим на медианный возраст заемщиков с допущенной задолжностью в категории `получение образования`."
   ]
  },
  {
   "cell_type": "code",
   "execution_count": 35,
   "id": "fd3af5a4",
   "metadata": {},
   "outputs": [
    {
     "name": "stdout",
     "output_type": "stream",
     "text": [
      "Медианный возраст заемщиков с задолжностью в категории \"получение образования\": 38.0\n",
      "Медианный возраст всех заемщиков с задолжностью: 39.0\n"
     ]
    }
   ],
   "source": [
    "age = data[data['dob_years'] != 0]\n",
    "age = age[age['debt'] == 1] \n",
    "age_i = age[age['purpose_category'] == 'получение образования']\n",
    "print('Медианный возраст заемщиков с задолжностью в категории \"получение образования\":', age_i['dob_years'].sort_values().median())\n",
    "print('Медианный возраст всех заемщиков с задолжностью:', age['dob_years'].sort_values().median())"
   ]
  },
  {
   "cell_type": "markdown",
   "id": "c98efc56",
   "metadata": {},
   "source": [
    "Версия не подтвердилась."
   ]
  },
  {
   "cell_type": "markdown",
   "id": "b4bb2ce6",
   "metadata": {
    "deletable": false,
    "id": "b4bb2ce6"
   },
   "source": [
    "**Вывод:** \n",
    "\n",
    "Заемщики с целью кредита `операции с автомобилем` и `получение образования` чаще остальных допускают задолжность."
   ]
  },
  {
   "cell_type": "markdown",
   "id": "09c3ac4c",
   "metadata": {
    "deletable": false,
    "editable": false,
    "id": "09c3ac4c"
   },
   "source": [
    "**Задание 23. Приведите возможные причины появления пропусков в исходных данных.**"
   ]
  },
  {
   "cell_type": "markdown",
   "id": "9da2ceda",
   "metadata": {
    "deletable": false,
    "id": "9da2ceda"
   },
   "source": [
    "*Ответ:* \n",
    "\n",
    "Пропуски в исходных данных могли возникнуть как в следствии технологических ошибок(некорректная выгрузка), так и в следствии человеческого фактора(пропуски при заполнении данных, опечатки, ошибки при переносе данных)"
   ]
  },
  {
   "cell_type": "markdown",
   "id": "7b0487d6",
   "metadata": {
    "deletable": false,
    "editable": false,
    "id": "7b0487d6"
   },
   "source": [
    "**Задание 24. Объясните, почему заполнить пропуски медианным значением — лучшее решение для количественных переменных.**"
   ]
  },
  {
   "cell_type": "markdown",
   "id": "7ecf2b8e",
   "metadata": {
    "deletable": false,
    "id": "7ecf2b8e"
   },
   "source": [
    "*Ответ:* \n",
    "\n",
    "Среднее значение некорректно характеризует данные, когда некоторые значения сильно выделяются среди большинства. Пример:\n",
    "\n",
    "Для чисел [1,2,3,4,5] - медианное и среднее значение будет равно `3`.\n",
    "\n",
    "Для чисел [1,2,3,4,100] - медианныйм значением останется `3`, а среднее значение уже будет `22`.\n",
    "\n",
    "Соответственно для расчета средних значений зарплат, возраста или других значений, когда некоторые значения сильно выделяются, лучше воспользоваться медианой."
   ]
  },
  {
   "cell_type": "markdown",
   "id": "6db5255a",
   "metadata": {
    "deletable": false,
    "editable": false,
    "id": "6db5255a"
   },
   "source": [
    "## Общий вывод."
   ]
  },
  {
   "cell_type": "markdown",
   "id": "bad65432",
   "metadata": {
    "id": "bad65432"
   },
   "source": [
    "**Результаты исследований**\n",
    "- Факт наличия детей у заемщика увеличивает вероятность появления задолжности по возврату кредита примерно на 1.63%. Так же малое влиение имеет количестово детей у заемщика - максимальная разница между группами составляет 1.57%.\n",
    "- Заемщики живущие в \"гражданском браке\" или \"не женаты / не замужем\" имеют большую вероятность получить задолженность по возврату кредита.\n",
    "- Клиенты с доходом до 30000 чаще имеют задолженность по возврату кредита. Меньше всего заемщики с доходом от 30001 до 50000. Клиенты с доходом от 10000001 и в диапазоне 50001 - 200000 допускают задолжность примерно одинаково.\n",
    "- Заемщики с целью кредита \"операции с автомобилем\" и \"получение образования\" чаще остальных допускают задолжность. Новая гипотеза \"Медианный возраст заемщиков с задолжностью по кредиту для образования - до 25 лет включительно.\" - не подтвердилась. Медианный возраст заемщиков с задолжностью в этой категории примерно равен общему медианному возрасту.\n",
    "\n",
    "**Исходя из результатов исследования, при построении модели кредитного скоринга, рекомедую больше учитывать следующие факторы:**\n",
    "- Семейное положение\n",
    "- Средний доход заемщика\n",
    "- Цель кредита"
   ]
  }
 ],
 "metadata": {
  "ExecuteTimeLog": [
   {
    "duration": 533,
    "start_time": "2022-06-04T15:22:36.585Z"
   },
   {
    "duration": 70,
    "start_time": "2022-06-04T15:22:43.241Z"
   },
   {
    "duration": 70,
    "start_time": "2022-06-04T15:22:45.098Z"
   },
   {
    "duration": 681,
    "start_time": "2022-06-05T18:22:36.239Z"
   },
   {
    "duration": 19,
    "start_time": "2022-06-05T18:22:36.922Z"
   },
   {
    "duration": 14,
    "start_time": "2022-06-05T18:22:36.943Z"
   },
   {
    "duration": 8,
    "start_time": "2022-06-05T18:22:36.959Z"
   },
   {
    "duration": 31,
    "start_time": "2022-06-05T18:22:36.968Z"
   },
   {
    "duration": 3,
    "start_time": "2022-06-05T18:22:37.001Z"
   },
   {
    "duration": 27,
    "start_time": "2022-06-05T18:22:37.005Z"
   },
   {
    "duration": 4,
    "start_time": "2022-06-05T18:22:37.034Z"
   },
   {
    "duration": 7,
    "start_time": "2022-06-05T18:22:37.039Z"
   },
   {
    "duration": 4,
    "start_time": "2022-06-05T18:22:37.048Z"
   },
   {
    "duration": 32,
    "start_time": "2022-06-05T18:22:37.054Z"
   },
   {
    "duration": 41,
    "start_time": "2022-06-05T18:22:37.087Z"
   },
   {
    "duration": 4,
    "start_time": "2022-06-05T18:22:37.129Z"
   },
   {
    "duration": 24,
    "start_time": "2022-06-05T18:22:37.134Z"
   },
   {
    "duration": 14,
    "start_time": "2022-06-05T18:22:37.159Z"
   },
   {
    "duration": 9,
    "start_time": "2022-06-05T18:22:37.174Z"
   },
   {
    "duration": 5,
    "start_time": "2022-06-05T18:22:37.185Z"
   },
   {
    "duration": 12,
    "start_time": "2022-06-05T18:22:37.191Z"
   },
   {
    "duration": 23,
    "start_time": "2022-06-05T18:22:37.204Z"
   },
   {
    "duration": 2,
    "start_time": "2022-06-05T18:22:37.229Z"
   },
   {
    "duration": 14,
    "start_time": "2022-06-05T18:22:37.232Z"
   },
   {
    "duration": 77,
    "start_time": "2022-06-05T18:22:48.044Z"
   },
   {
    "duration": 8,
    "start_time": "2022-06-05T18:23:01.514Z"
   },
   {
    "duration": 13,
    "start_time": "2022-06-05T18:24:39.945Z"
   },
   {
    "duration": 9,
    "start_time": "2022-06-05T18:27:26.864Z"
   },
   {
    "duration": 10,
    "start_time": "2022-06-05T18:28:08.083Z"
   },
   {
    "duration": 13,
    "start_time": "2022-06-05T18:29:03.368Z"
   },
   {
    "duration": 9,
    "start_time": "2022-06-05T18:29:46.565Z"
   },
   {
    "duration": 9,
    "start_time": "2022-06-05T18:31:59.362Z"
   },
   {
    "duration": 5,
    "start_time": "2022-06-05T18:32:08.755Z"
   },
   {
    "duration": 5,
    "start_time": "2022-06-05T18:40:43.142Z"
   },
   {
    "duration": 5,
    "start_time": "2022-06-05T18:50:29.400Z"
   },
   {
    "duration": 9,
    "start_time": "2022-06-05T18:50:30.784Z"
   },
   {
    "duration": 10,
    "start_time": "2022-06-05T18:50:38.099Z"
   },
   {
    "duration": 6,
    "start_time": "2022-06-05T18:50:59.276Z"
   },
   {
    "duration": 6,
    "start_time": "2022-06-05T18:51:05.832Z"
   },
   {
    "duration": 3,
    "start_time": "2022-06-05T19:06:06.216Z"
   },
   {
    "duration": 4,
    "start_time": "2022-06-05T19:06:31.834Z"
   },
   {
    "duration": 4,
    "start_time": "2022-06-05T19:06:39.740Z"
   },
   {
    "duration": 27,
    "start_time": "2022-06-05T19:07:15.852Z"
   },
   {
    "duration": 3,
    "start_time": "2022-06-05T19:08:03.033Z"
   },
   {
    "duration": 39,
    "start_time": "2022-06-05T19:09:25.084Z"
   },
   {
    "duration": 21,
    "start_time": "2022-06-05T19:09:34.880Z"
   },
   {
    "duration": 3,
    "start_time": "2022-06-05T19:10:20.004Z"
   },
   {
    "duration": 814,
    "start_time": "2022-06-06T18:27:29.101Z"
   },
   {
    "duration": 37,
    "start_time": "2022-06-06T18:27:29.917Z"
   },
   {
    "duration": 21,
    "start_time": "2022-06-06T18:27:29.956Z"
   },
   {
    "duration": 11,
    "start_time": "2022-06-06T18:27:29.979Z"
   },
   {
    "duration": 82,
    "start_time": "2022-06-06T18:27:29.992Z"
   },
   {
    "duration": 3,
    "start_time": "2022-06-06T18:27:30.076Z"
   },
   {
    "duration": 14,
    "start_time": "2022-06-06T18:27:30.081Z"
   },
   {
    "duration": 4,
    "start_time": "2022-06-06T18:27:30.097Z"
   },
   {
    "duration": 29,
    "start_time": "2022-06-06T18:27:30.102Z"
   },
   {
    "duration": 11,
    "start_time": "2022-06-06T18:27:30.136Z"
   },
   {
    "duration": 50,
    "start_time": "2022-06-06T18:27:30.149Z"
   },
   {
    "duration": 32,
    "start_time": "2022-06-06T18:27:30.201Z"
   },
   {
    "duration": 6,
    "start_time": "2022-06-06T18:27:30.235Z"
   },
   {
    "duration": 39,
    "start_time": "2022-06-06T18:27:30.242Z"
   },
   {
    "duration": 18,
    "start_time": "2022-06-06T18:27:30.283Z"
   },
   {
    "duration": 24,
    "start_time": "2022-06-06T18:27:30.303Z"
   },
   {
    "duration": 14,
    "start_time": "2022-06-06T18:27:30.329Z"
   },
   {
    "duration": 19,
    "start_time": "2022-06-06T18:27:30.348Z"
   },
   {
    "duration": 17,
    "start_time": "2022-06-06T18:27:30.369Z"
   },
   {
    "duration": 6,
    "start_time": "2022-06-06T18:27:30.388Z"
   },
   {
    "duration": 35,
    "start_time": "2022-06-06T18:27:30.396Z"
   },
   {
    "duration": 25,
    "start_time": "2022-06-06T18:27:30.434Z"
   },
   {
    "duration": 14,
    "start_time": "2022-06-06T18:27:30.461Z"
   },
   {
    "duration": 11,
    "start_time": "2022-06-06T18:27:30.476Z"
   },
   {
    "duration": 70,
    "start_time": "2022-06-06T18:35:00.043Z"
   },
   {
    "duration": 6,
    "start_time": "2022-06-06T18:35:16.779Z"
   },
   {
    "duration": 9,
    "start_time": "2022-06-06T18:35:50.153Z"
   },
   {
    "duration": 4,
    "start_time": "2022-06-06T18:37:29.325Z"
   },
   {
    "duration": 7,
    "start_time": "2022-06-06T18:37:37.490Z"
   },
   {
    "duration": 10,
    "start_time": "2022-06-06T18:37:46.448Z"
   },
   {
    "duration": 21,
    "start_time": "2022-06-06T18:38:05.461Z"
   },
   {
    "duration": 8,
    "start_time": "2022-06-06T18:42:07.625Z"
   },
   {
    "duration": 12,
    "start_time": "2022-06-06T18:44:36.615Z"
   },
   {
    "duration": 18,
    "start_time": "2022-06-06T18:47:01.908Z"
   },
   {
    "duration": 14,
    "start_time": "2022-06-06T18:49:34.127Z"
   },
   {
    "duration": 16,
    "start_time": "2022-06-06T18:50:01.051Z"
   },
   {
    "duration": 12,
    "start_time": "2022-06-06T19:00:53.403Z"
   },
   {
    "duration": 20,
    "start_time": "2022-06-06T19:01:30.820Z"
   },
   {
    "duration": 13,
    "start_time": "2022-06-06T19:23:36.904Z"
   },
   {
    "duration": 9,
    "start_time": "2022-06-06T19:27:38.789Z"
   },
   {
    "duration": 20,
    "start_time": "2022-06-06T19:28:42.359Z"
   },
   {
    "duration": 23,
    "start_time": "2022-06-06T19:29:11.654Z"
   },
   {
    "duration": 24,
    "start_time": "2022-06-06T19:29:27.481Z"
   },
   {
    "duration": 28,
    "start_time": "2022-06-06T19:31:07.841Z"
   },
   {
    "duration": 20,
    "start_time": "2022-06-06T19:31:24.255Z"
   },
   {
    "duration": 28,
    "start_time": "2022-06-06T19:32:24.624Z"
   },
   {
    "duration": 38,
    "start_time": "2022-06-06T19:32:33.565Z"
   },
   {
    "duration": 26,
    "start_time": "2022-06-06T19:32:39.854Z"
   },
   {
    "duration": 13,
    "start_time": "2022-06-06T19:34:22.512Z"
   },
   {
    "duration": 580,
    "start_time": "2022-06-06T21:00:28.182Z"
   },
   {
    "duration": 22,
    "start_time": "2022-06-06T21:00:28.764Z"
   },
   {
    "duration": 25,
    "start_time": "2022-06-06T21:00:28.788Z"
   },
   {
    "duration": 9,
    "start_time": "2022-06-06T21:00:28.814Z"
   },
   {
    "duration": 51,
    "start_time": "2022-06-06T21:00:28.825Z"
   },
   {
    "duration": 4,
    "start_time": "2022-06-06T21:00:28.877Z"
   },
   {
    "duration": 14,
    "start_time": "2022-06-06T21:00:28.882Z"
   },
   {
    "duration": 6,
    "start_time": "2022-06-06T21:00:28.898Z"
   },
   {
    "duration": 8,
    "start_time": "2022-06-06T21:00:28.906Z"
   },
   {
    "duration": 5,
    "start_time": "2022-06-06T21:00:28.916Z"
   },
   {
    "duration": 63,
    "start_time": "2022-06-06T21:00:28.922Z"
   },
   {
    "duration": 10,
    "start_time": "2022-06-06T21:00:28.987Z"
   },
   {
    "duration": 5,
    "start_time": "2022-06-06T21:00:28.998Z"
   },
   {
    "duration": 19,
    "start_time": "2022-06-06T21:00:29.006Z"
   },
   {
    "duration": 54,
    "start_time": "2022-06-06T21:00:29.026Z"
   },
   {
    "duration": 12,
    "start_time": "2022-06-06T21:00:29.082Z"
   },
   {
    "duration": 15,
    "start_time": "2022-06-06T21:00:29.096Z"
   },
   {
    "duration": 22,
    "start_time": "2022-06-06T21:00:29.113Z"
   },
   {
    "duration": 44,
    "start_time": "2022-06-06T21:00:29.136Z"
   },
   {
    "duration": 21,
    "start_time": "2022-06-06T21:00:29.182Z"
   },
   {
    "duration": 22,
    "start_time": "2022-06-06T21:00:29.204Z"
   },
   {
    "duration": 38,
    "start_time": "2022-06-06T21:00:29.228Z"
   },
   {
    "duration": 106,
    "start_time": "2022-06-06T21:00:29.268Z"
   },
   {
    "duration": 0,
    "start_time": "2022-06-06T21:00:29.376Z"
   },
   {
    "duration": 0,
    "start_time": "2022-06-06T21:00:29.377Z"
   },
   {
    "duration": 0,
    "start_time": "2022-06-06T21:00:29.378Z"
   },
   {
    "duration": 10,
    "start_time": "2022-06-06T21:00:39.105Z"
   },
   {
    "duration": 11,
    "start_time": "2022-06-06T21:13:44.897Z"
   },
   {
    "duration": 33,
    "start_time": "2022-06-06T21:15:29.280Z"
   },
   {
    "duration": 27,
    "start_time": "2022-06-06T21:16:35.669Z"
   },
   {
    "duration": 14,
    "start_time": "2022-06-06T21:17:19.783Z"
   },
   {
    "duration": 14,
    "start_time": "2022-06-06T21:17:51.407Z"
   },
   {
    "duration": 16,
    "start_time": "2022-06-06T21:18:53.859Z"
   },
   {
    "duration": 505,
    "start_time": "2022-06-06T21:19:21.597Z"
   },
   {
    "duration": 15,
    "start_time": "2022-06-06T21:19:57.410Z"
   },
   {
    "duration": 5,
    "start_time": "2022-06-06T21:20:29.288Z"
   },
   {
    "duration": 19,
    "start_time": "2022-06-06T21:20:42.068Z"
   },
   {
    "duration": 333,
    "start_time": "2022-06-06T21:22:14.788Z"
   },
   {
    "duration": 446,
    "start_time": "2022-06-06T21:25:38.272Z"
   },
   {
    "duration": 401,
    "start_time": "2022-06-06T21:25:49.033Z"
   },
   {
    "duration": 11,
    "start_time": "2022-06-06T21:26:13.897Z"
   },
   {
    "duration": 12,
    "start_time": "2022-06-06T21:26:30.170Z"
   },
   {
    "duration": 15,
    "start_time": "2022-06-06T21:27:13.936Z"
   },
   {
    "duration": 14,
    "start_time": "2022-06-06T21:27:37.925Z"
   },
   {
    "duration": 15,
    "start_time": "2022-06-06T21:28:07.976Z"
   },
   {
    "duration": 11,
    "start_time": "2022-06-06T21:28:27.477Z"
   },
   {
    "duration": 29,
    "start_time": "2022-06-06T21:33:04.426Z"
   },
   {
    "duration": 16,
    "start_time": "2022-06-06T21:33:17.701Z"
   },
   {
    "duration": 13,
    "start_time": "2022-06-06T21:33:32.068Z"
   },
   {
    "duration": 15,
    "start_time": "2022-06-06T21:33:49.932Z"
   },
   {
    "duration": 31,
    "start_time": "2022-06-06T21:34:40.540Z"
   },
   {
    "duration": 634,
    "start_time": "2022-06-06T21:37:12.887Z"
   },
   {
    "duration": 12,
    "start_time": "2022-06-06T21:37:36.381Z"
   },
   {
    "duration": 11,
    "start_time": "2022-06-06T21:38:14.958Z"
   },
   {
    "duration": 15,
    "start_time": "2022-06-06T21:38:21.644Z"
   },
   {
    "duration": 12,
    "start_time": "2022-06-06T21:39:03.561Z"
   },
   {
    "duration": 11,
    "start_time": "2022-06-06T21:39:51.087Z"
   },
   {
    "duration": 643,
    "start_time": "2022-06-06T21:41:03.243Z"
   },
   {
    "duration": 83,
    "start_time": "2022-06-06T21:41:09.872Z"
   },
   {
    "duration": 16,
    "start_time": "2022-06-06T21:41:09.965Z"
   },
   {
    "duration": 21,
    "start_time": "2022-06-06T21:41:09.983Z"
   },
   {
    "duration": 15,
    "start_time": "2022-06-06T21:41:10.006Z"
   },
   {
    "duration": 54,
    "start_time": "2022-06-06T21:41:10.023Z"
   },
   {
    "duration": 3,
    "start_time": "2022-06-06T21:41:10.079Z"
   },
   {
    "duration": 16,
    "start_time": "2022-06-06T21:41:10.083Z"
   },
   {
    "duration": 11,
    "start_time": "2022-06-06T21:41:10.100Z"
   },
   {
    "duration": 9,
    "start_time": "2022-06-06T21:41:10.113Z"
   },
   {
    "duration": 12,
    "start_time": "2022-06-06T21:41:10.124Z"
   },
   {
    "duration": 64,
    "start_time": "2022-06-06T21:41:10.138Z"
   },
   {
    "duration": 10,
    "start_time": "2022-06-06T21:41:10.204Z"
   },
   {
    "duration": 20,
    "start_time": "2022-06-06T21:41:10.216Z"
   },
   {
    "duration": 49,
    "start_time": "2022-06-06T21:41:10.239Z"
   },
   {
    "duration": 19,
    "start_time": "2022-06-06T21:41:10.290Z"
   },
   {
    "duration": 17,
    "start_time": "2022-06-06T21:41:10.311Z"
   },
   {
    "duration": 8,
    "start_time": "2022-06-06T21:41:10.330Z"
   },
   {
    "duration": 47,
    "start_time": "2022-06-06T21:41:10.339Z"
   },
   {
    "duration": 16,
    "start_time": "2022-06-06T21:41:10.388Z"
   },
   {
    "duration": 11,
    "start_time": "2022-06-06T21:41:10.406Z"
   },
   {
    "duration": 11,
    "start_time": "2022-06-06T21:41:10.419Z"
   },
   {
    "duration": 5,
    "start_time": "2022-06-06T21:41:10.432Z"
   },
   {
    "duration": 15,
    "start_time": "2022-06-06T21:41:12.512Z"
   },
   {
    "duration": 531,
    "start_time": "2022-06-06T21:42:12.869Z"
   },
   {
    "duration": 556,
    "start_time": "2022-06-06T21:42:19.424Z"
   },
   {
    "duration": 75,
    "start_time": "2022-06-06T21:42:27.070Z"
   },
   {
    "duration": 22,
    "start_time": "2022-06-06T21:42:27.147Z"
   },
   {
    "duration": 24,
    "start_time": "2022-06-06T21:42:27.173Z"
   },
   {
    "duration": 18,
    "start_time": "2022-06-06T21:42:27.199Z"
   },
   {
    "duration": 72,
    "start_time": "2022-06-06T21:42:27.220Z"
   },
   {
    "duration": 4,
    "start_time": "2022-06-06T21:42:27.295Z"
   },
   {
    "duration": 14,
    "start_time": "2022-06-06T21:42:27.301Z"
   },
   {
    "duration": 6,
    "start_time": "2022-06-06T21:42:27.317Z"
   },
   {
    "duration": 14,
    "start_time": "2022-06-06T21:42:27.343Z"
   },
   {
    "duration": 19,
    "start_time": "2022-06-06T21:42:27.362Z"
   },
   {
    "duration": 40,
    "start_time": "2022-06-06T21:42:27.383Z"
   },
   {
    "duration": 25,
    "start_time": "2022-06-06T21:42:27.425Z"
   },
   {
    "duration": 8,
    "start_time": "2022-06-06T21:42:27.451Z"
   },
   {
    "duration": 28,
    "start_time": "2022-06-06T21:42:27.467Z"
   },
   {
    "duration": 17,
    "start_time": "2022-06-06T21:42:27.497Z"
   },
   {
    "duration": 11,
    "start_time": "2022-06-06T21:42:27.516Z"
   },
   {
    "duration": 22,
    "start_time": "2022-06-06T21:42:27.529Z"
   },
   {
    "duration": 25,
    "start_time": "2022-06-06T21:42:27.558Z"
   },
   {
    "duration": 10,
    "start_time": "2022-06-06T21:42:27.584Z"
   },
   {
    "duration": 4,
    "start_time": "2022-06-06T21:42:27.595Z"
   },
   {
    "duration": 11,
    "start_time": "2022-06-06T21:42:27.600Z"
   },
   {
    "duration": 5,
    "start_time": "2022-06-06T21:42:27.612Z"
   },
   {
    "duration": 23,
    "start_time": "2022-06-06T21:42:29.547Z"
   },
   {
    "duration": 550,
    "start_time": "2022-06-06T21:42:53.722Z"
   },
   {
    "duration": 676,
    "start_time": "2022-06-06T21:42:58.903Z"
   },
   {
    "duration": 83,
    "start_time": "2022-06-06T21:43:17.465Z"
   },
   {
    "duration": 23,
    "start_time": "2022-06-06T21:43:17.551Z"
   },
   {
    "duration": 28,
    "start_time": "2022-06-06T21:43:17.576Z"
   },
   {
    "duration": 12,
    "start_time": "2022-06-06T21:43:17.606Z"
   },
   {
    "duration": 65,
    "start_time": "2022-06-06T21:43:17.620Z"
   },
   {
    "duration": 4,
    "start_time": "2022-06-06T21:43:17.686Z"
   },
   {
    "duration": 25,
    "start_time": "2022-06-06T21:43:17.692Z"
   },
   {
    "duration": 7,
    "start_time": "2022-06-06T21:43:17.719Z"
   },
   {
    "duration": 23,
    "start_time": "2022-06-06T21:43:17.727Z"
   },
   {
    "duration": 61,
    "start_time": "2022-06-06T21:43:17.752Z"
   },
   {
    "duration": 75,
    "start_time": "2022-06-06T21:43:17.815Z"
   },
   {
    "duration": 13,
    "start_time": "2022-06-06T21:43:17.892Z"
   },
   {
    "duration": 24,
    "start_time": "2022-06-06T21:43:17.907Z"
   },
   {
    "duration": 69,
    "start_time": "2022-06-06T21:43:17.935Z"
   },
   {
    "duration": 60,
    "start_time": "2022-06-06T21:43:18.006Z"
   },
   {
    "duration": 77,
    "start_time": "2022-06-06T21:43:18.071Z"
   },
   {
    "duration": 53,
    "start_time": "2022-06-06T21:43:18.150Z"
   },
   {
    "duration": 65,
    "start_time": "2022-06-06T21:43:18.205Z"
   },
   {
    "duration": 39,
    "start_time": "2022-06-06T21:43:18.272Z"
   },
   {
    "duration": 58,
    "start_time": "2022-06-06T21:43:18.313Z"
   },
   {
    "duration": 36,
    "start_time": "2022-06-06T21:43:18.373Z"
   },
   {
    "duration": 18,
    "start_time": "2022-06-06T21:43:18.410Z"
   },
   {
    "duration": 13,
    "start_time": "2022-06-06T21:43:20.769Z"
   },
   {
    "duration": 669,
    "start_time": "2022-06-06T21:44:42.969Z"
   },
   {
    "duration": 546,
    "start_time": "2022-06-06T21:45:18.541Z"
   },
   {
    "duration": 10,
    "start_time": "2022-06-06T21:45:26.933Z"
   },
   {
    "duration": 5,
    "start_time": "2022-06-06T21:45:28.968Z"
   },
   {
    "duration": 15,
    "start_time": "2022-06-06T21:45:31.968Z"
   },
   {
    "duration": 12,
    "start_time": "2022-06-06T21:45:59.288Z"
   },
   {
    "duration": 13,
    "start_time": "2022-06-06T21:46:48.422Z"
   },
   {
    "duration": 21,
    "start_time": "2022-06-06T21:49:08.355Z"
   },
   {
    "duration": 17,
    "start_time": "2022-06-06T21:50:58.872Z"
   },
   {
    "duration": 15,
    "start_time": "2022-06-06T21:53:28.024Z"
   },
   {
    "duration": 6,
    "start_time": "2022-06-06T22:11:15.327Z"
   },
   {
    "duration": 24,
    "start_time": "2022-06-06T22:13:43.429Z"
   },
   {
    "duration": 10,
    "start_time": "2022-06-06T22:18:20.676Z"
   },
   {
    "duration": 7,
    "start_time": "2022-06-06T22:18:31.998Z"
   },
   {
    "duration": 6,
    "start_time": "2022-06-06T22:18:36.196Z"
   },
   {
    "duration": 11,
    "start_time": "2022-06-06T22:18:43.358Z"
   },
   {
    "duration": 21,
    "start_time": "2022-06-06T22:19:16.593Z"
   },
   {
    "duration": 7,
    "start_time": "2022-06-06T22:19:31.897Z"
   },
   {
    "duration": 31,
    "start_time": "2022-06-06T22:23:54.188Z"
   },
   {
    "duration": 759,
    "start_time": "2022-06-06T22:23:58.623Z"
   },
   {
    "duration": 77,
    "start_time": "2022-06-06T22:24:22.284Z"
   },
   {
    "duration": 17,
    "start_time": "2022-06-06T22:24:22.369Z"
   },
   {
    "duration": 37,
    "start_time": "2022-06-06T22:24:22.388Z"
   },
   {
    "duration": 18,
    "start_time": "2022-06-06T22:24:22.427Z"
   },
   {
    "duration": 82,
    "start_time": "2022-06-06T22:24:22.450Z"
   },
   {
    "duration": 3,
    "start_time": "2022-06-06T22:24:22.534Z"
   },
   {
    "duration": 74,
    "start_time": "2022-06-06T22:24:22.539Z"
   },
   {
    "duration": 64,
    "start_time": "2022-06-06T22:24:22.616Z"
   },
   {
    "duration": 32,
    "start_time": "2022-06-06T22:24:22.682Z"
   },
   {
    "duration": 51,
    "start_time": "2022-06-06T22:24:22.716Z"
   },
   {
    "duration": 56,
    "start_time": "2022-06-06T22:24:22.769Z"
   },
   {
    "duration": 11,
    "start_time": "2022-06-06T22:24:22.827Z"
   },
   {
    "duration": 70,
    "start_time": "2022-06-06T22:24:22.839Z"
   },
   {
    "duration": 89,
    "start_time": "2022-06-06T22:24:22.911Z"
   },
   {
    "duration": 31,
    "start_time": "2022-06-06T22:24:23.002Z"
   },
   {
    "duration": 35,
    "start_time": "2022-06-06T22:24:23.035Z"
   },
   {
    "duration": 44,
    "start_time": "2022-06-06T22:24:23.072Z"
   },
   {
    "duration": 61,
    "start_time": "2022-06-06T22:24:23.118Z"
   },
   {
    "duration": 28,
    "start_time": "2022-06-06T22:24:23.182Z"
   },
   {
    "duration": 39,
    "start_time": "2022-06-06T22:24:23.213Z"
   },
   {
    "duration": 70,
    "start_time": "2022-06-06T22:24:23.254Z"
   },
   {
    "duration": 50,
    "start_time": "2022-06-06T22:24:23.326Z"
   },
   {
    "duration": 46,
    "start_time": "2022-06-06T22:24:23.377Z"
   },
   {
    "duration": 22,
    "start_time": "2022-06-06T22:24:23.425Z"
   },
   {
    "duration": 58,
    "start_time": "2022-06-06T22:24:23.449Z"
   },
   {
    "duration": 12,
    "start_time": "2022-06-06T22:24:23.509Z"
   },
   {
    "duration": 521,
    "start_time": "2022-06-06T22:24:26.365Z"
   },
   {
    "duration": 645,
    "start_time": "2022-06-06T22:25:41.127Z"
   },
   {
    "duration": 8,
    "start_time": "2022-06-06T22:26:02.684Z"
   },
   {
    "duration": 31,
    "start_time": "2022-06-06T22:26:47.935Z"
   },
   {
    "duration": 9,
    "start_time": "2022-06-06T22:26:58.488Z"
   },
   {
    "duration": 27,
    "start_time": "2022-06-06T22:31:33.983Z"
   },
   {
    "duration": 10,
    "start_time": "2022-06-06T22:31:42.819Z"
   },
   {
    "duration": 8,
    "start_time": "2022-06-06T22:32:06.265Z"
   },
   {
    "duration": 9,
    "start_time": "2022-06-06T22:32:09.902Z"
   },
   {
    "duration": 11,
    "start_time": "2022-06-06T22:36:29.140Z"
   },
   {
    "duration": 4,
    "start_time": "2022-06-06T22:37:00.218Z"
   },
   {
    "duration": 15,
    "start_time": "2022-06-06T22:37:08.115Z"
   },
   {
    "duration": 76,
    "start_time": "2022-06-06T22:38:14.096Z"
   },
   {
    "duration": 15,
    "start_time": "2022-06-06T22:38:14.174Z"
   },
   {
    "duration": 17,
    "start_time": "2022-06-06T22:38:14.191Z"
   },
   {
    "duration": 10,
    "start_time": "2022-06-06T22:38:14.209Z"
   },
   {
    "duration": 58,
    "start_time": "2022-06-06T22:38:14.221Z"
   },
   {
    "duration": 3,
    "start_time": "2022-06-06T22:38:14.281Z"
   },
   {
    "duration": 12,
    "start_time": "2022-06-06T22:38:14.285Z"
   },
   {
    "duration": 4,
    "start_time": "2022-06-06T22:38:14.299Z"
   },
   {
    "duration": 7,
    "start_time": "2022-06-06T22:38:14.304Z"
   },
   {
    "duration": 39,
    "start_time": "2022-06-06T22:38:14.313Z"
   },
   {
    "duration": 37,
    "start_time": "2022-06-06T22:38:14.354Z"
   },
   {
    "duration": 10,
    "start_time": "2022-06-06T22:38:14.393Z"
   },
   {
    "duration": 5,
    "start_time": "2022-06-06T22:38:14.404Z"
   },
   {
    "duration": 43,
    "start_time": "2022-06-06T22:38:14.412Z"
   },
   {
    "duration": 18,
    "start_time": "2022-06-06T22:38:14.457Z"
   },
   {
    "duration": 12,
    "start_time": "2022-06-06T22:38:14.477Z"
   },
   {
    "duration": 4,
    "start_time": "2022-06-06T22:38:14.491Z"
   },
   {
    "duration": 17,
    "start_time": "2022-06-06T22:38:14.497Z"
   },
   {
    "duration": 38,
    "start_time": "2022-06-06T22:38:14.516Z"
   },
   {
    "duration": 4,
    "start_time": "2022-06-06T22:38:14.556Z"
   },
   {
    "duration": 11,
    "start_time": "2022-06-06T22:38:14.561Z"
   },
   {
    "duration": 9,
    "start_time": "2022-06-06T22:38:14.573Z"
   },
   {
    "duration": 17,
    "start_time": "2022-06-06T22:38:14.583Z"
   },
   {
    "duration": 6,
    "start_time": "2022-06-06T22:38:14.602Z"
   },
   {
    "duration": 52,
    "start_time": "2022-06-06T22:38:14.610Z"
   },
   {
    "duration": 8,
    "start_time": "2022-06-06T22:38:14.663Z"
   },
   {
    "duration": 9,
    "start_time": "2022-06-06T22:38:14.673Z"
   },
   {
    "duration": 3,
    "start_time": "2022-06-06T22:38:14.684Z"
   },
   {
    "duration": 9,
    "start_time": "2022-06-06T22:38:14.689Z"
   },
   {
    "duration": 5,
    "start_time": "2022-06-06T22:49:13.793Z"
   },
   {
    "duration": 13,
    "start_time": "2022-06-06T23:01:55.062Z"
   },
   {
    "duration": 6,
    "start_time": "2022-06-06T23:02:00.692Z"
   },
   {
    "duration": 9,
    "start_time": "2022-06-06T23:03:44.169Z"
   },
   {
    "duration": 9,
    "start_time": "2022-06-06T23:04:24.514Z"
   },
   {
    "duration": 10,
    "start_time": "2022-06-06T23:04:58.564Z"
   },
   {
    "duration": 10,
    "start_time": "2022-06-06T23:10:06.337Z"
   },
   {
    "duration": 28,
    "start_time": "2022-06-06T23:10:51.011Z"
   },
   {
    "duration": 14,
    "start_time": "2022-06-06T23:11:00.294Z"
   },
   {
    "duration": 15,
    "start_time": "2022-06-06T23:11:54.048Z"
   },
   {
    "duration": 10,
    "start_time": "2022-06-06T23:12:30.622Z"
   },
   {
    "duration": 759,
    "start_time": "2022-06-07T09:28:34.898Z"
   },
   {
    "duration": 34,
    "start_time": "2022-06-07T09:28:35.659Z"
   },
   {
    "duration": 22,
    "start_time": "2022-06-07T09:28:35.695Z"
   },
   {
    "duration": 11,
    "start_time": "2022-06-07T09:28:35.719Z"
   },
   {
    "duration": 68,
    "start_time": "2022-06-07T09:28:35.732Z"
   },
   {
    "duration": 4,
    "start_time": "2022-06-07T09:28:35.802Z"
   },
   {
    "duration": 13,
    "start_time": "2022-06-07T09:28:35.807Z"
   },
   {
    "duration": 5,
    "start_time": "2022-06-07T09:28:35.821Z"
   },
   {
    "duration": 8,
    "start_time": "2022-06-07T09:28:35.828Z"
   },
   {
    "duration": 7,
    "start_time": "2022-06-07T09:28:35.838Z"
   },
   {
    "duration": 79,
    "start_time": "2022-06-07T09:28:35.846Z"
   },
   {
    "duration": 10,
    "start_time": "2022-06-07T09:28:35.927Z"
   },
   {
    "duration": 6,
    "start_time": "2022-06-07T09:28:35.938Z"
   },
   {
    "duration": 52,
    "start_time": "2022-06-07T09:28:35.947Z"
   },
   {
    "duration": 18,
    "start_time": "2022-06-07T09:28:36.001Z"
   },
   {
    "duration": 20,
    "start_time": "2022-06-07T09:28:36.021Z"
   },
   {
    "duration": 24,
    "start_time": "2022-06-07T09:28:36.043Z"
   },
   {
    "duration": 30,
    "start_time": "2022-06-07T09:28:36.069Z"
   },
   {
    "duration": 9,
    "start_time": "2022-06-07T09:28:36.101Z"
   },
   {
    "duration": 9,
    "start_time": "2022-06-07T09:28:36.112Z"
   },
   {
    "duration": 16,
    "start_time": "2022-06-07T09:28:36.125Z"
   },
   {
    "duration": 22,
    "start_time": "2022-06-07T09:28:36.143Z"
   },
   {
    "duration": 38,
    "start_time": "2022-06-07T09:28:36.167Z"
   },
   {
    "duration": 6,
    "start_time": "2022-06-07T09:28:36.207Z"
   },
   {
    "duration": 24,
    "start_time": "2022-06-07T09:28:36.215Z"
   },
   {
    "duration": 11,
    "start_time": "2022-06-07T09:28:36.242Z"
   },
   {
    "duration": 47,
    "start_time": "2022-06-07T09:28:36.255Z"
   },
   {
    "duration": 9,
    "start_time": "2022-06-07T09:28:36.303Z"
   },
   {
    "duration": 13,
    "start_time": "2022-06-07T09:28:36.314Z"
   },
   {
    "duration": 3,
    "start_time": "2022-06-07T09:28:36.329Z"
   },
   {
    "duration": 10,
    "start_time": "2022-06-07T09:28:49.536Z"
   },
   {
    "duration": 18,
    "start_time": "2022-06-07T09:33:02.529Z"
   },
   {
    "duration": 5,
    "start_time": "2022-06-07T09:33:39.664Z"
   },
   {
    "duration": 8,
    "start_time": "2022-06-07T09:34:35.746Z"
   },
   {
    "duration": 13,
    "start_time": "2022-06-07T09:35:36.030Z"
   },
   {
    "duration": 4,
    "start_time": "2022-06-07T09:36:03.984Z"
   },
   {
    "duration": 13,
    "start_time": "2022-06-07T09:36:07.500Z"
   },
   {
    "duration": 10,
    "start_time": "2022-06-07T09:36:38.482Z"
   },
   {
    "duration": 9,
    "start_time": "2022-06-07T09:38:33.506Z"
   },
   {
    "duration": 13,
    "start_time": "2022-06-07T09:38:43.093Z"
   },
   {
    "duration": 8,
    "start_time": "2022-06-07T09:41:28.465Z"
   },
   {
    "duration": 11,
    "start_time": "2022-06-07T09:42:37.755Z"
   },
   {
    "duration": 46,
    "start_time": "2022-06-07T11:17:04.860Z"
   },
   {
    "duration": 467,
    "start_time": "2022-06-07T11:17:18.068Z"
   },
   {
    "duration": 18,
    "start_time": "2022-06-07T11:17:18.537Z"
   },
   {
    "duration": 14,
    "start_time": "2022-06-07T11:17:18.556Z"
   },
   {
    "duration": 8,
    "start_time": "2022-06-07T11:17:18.572Z"
   },
   {
    "duration": 26,
    "start_time": "2022-06-07T11:17:18.582Z"
   },
   {
    "duration": 2,
    "start_time": "2022-06-07T11:17:18.610Z"
   },
   {
    "duration": 5,
    "start_time": "2022-06-07T11:17:18.625Z"
   },
   {
    "duration": 4,
    "start_time": "2022-06-07T11:17:18.631Z"
   },
   {
    "duration": 6,
    "start_time": "2022-06-07T11:17:18.636Z"
   },
   {
    "duration": 3,
    "start_time": "2022-06-07T11:17:18.644Z"
   },
   {
    "duration": 27,
    "start_time": "2022-06-07T11:17:18.648Z"
   },
   {
    "duration": 7,
    "start_time": "2022-06-07T11:17:18.676Z"
   },
   {
    "duration": 3,
    "start_time": "2022-06-07T11:17:18.684Z"
   },
   {
    "duration": 42,
    "start_time": "2022-06-07T11:17:18.688Z"
   },
   {
    "duration": 14,
    "start_time": "2022-06-07T11:17:18.731Z"
   },
   {
    "duration": 11,
    "start_time": "2022-06-07T11:17:18.746Z"
   },
   {
    "duration": 4,
    "start_time": "2022-06-07T11:17:18.759Z"
   },
   {
    "duration": 20,
    "start_time": "2022-06-07T11:17:18.764Z"
   },
   {
    "duration": 9,
    "start_time": "2022-06-07T11:17:18.785Z"
   },
   {
    "duration": 6,
    "start_time": "2022-06-07T11:17:18.796Z"
   },
   {
    "duration": 22,
    "start_time": "2022-06-07T11:17:18.803Z"
   },
   {
    "duration": 5,
    "start_time": "2022-06-07T11:17:18.827Z"
   },
   {
    "duration": 14,
    "start_time": "2022-06-07T11:17:18.833Z"
   },
   {
    "duration": 4,
    "start_time": "2022-06-07T11:17:18.849Z"
   },
   {
    "duration": 18,
    "start_time": "2022-06-07T11:17:18.855Z"
   },
   {
    "duration": 7,
    "start_time": "2022-06-07T11:17:18.875Z"
   },
   {
    "duration": 7,
    "start_time": "2022-06-07T11:17:18.883Z"
   },
   {
    "duration": 5,
    "start_time": "2022-06-07T11:17:18.925Z"
   },
   {
    "duration": 7,
    "start_time": "2022-06-07T11:17:18.931Z"
   },
   {
    "duration": 5,
    "start_time": "2022-06-07T11:17:18.940Z"
   },
   {
    "duration": 7,
    "start_time": "2022-06-07T11:17:18.946Z"
   },
   {
    "duration": 4,
    "start_time": "2022-06-07T11:17:18.954Z"
   },
   {
    "duration": 5,
    "start_time": "2022-06-07T11:17:26.043Z"
   },
   {
    "duration": 5,
    "start_time": "2022-06-07T11:17:28.550Z"
   },
   {
    "duration": 7,
    "start_time": "2022-06-07T11:19:19.250Z"
   },
   {
    "duration": 9,
    "start_time": "2022-06-07T11:20:01.175Z"
   },
   {
    "duration": 8,
    "start_time": "2022-06-07T11:22:00.063Z"
   },
   {
    "duration": 8,
    "start_time": "2022-06-07T11:23:18.791Z"
   },
   {
    "duration": 15,
    "start_time": "2022-06-07T11:23:24.575Z"
   },
   {
    "duration": 6,
    "start_time": "2022-06-07T11:24:04.157Z"
   },
   {
    "duration": 41,
    "start_time": "2022-06-07T11:25:15.267Z"
   },
   {
    "duration": 9,
    "start_time": "2022-06-07T11:26:16.879Z"
   },
   {
    "duration": 7,
    "start_time": "2022-06-07T11:26:44.489Z"
   },
   {
    "duration": 6,
    "start_time": "2022-06-07T11:26:45.086Z"
   },
   {
    "duration": 5,
    "start_time": "2022-06-07T11:29:22.776Z"
   },
   {
    "duration": 9,
    "start_time": "2022-06-07T11:30:19.241Z"
   },
   {
    "duration": 5,
    "start_time": "2022-06-07T11:30:34.189Z"
   },
   {
    "duration": 7,
    "start_time": "2022-06-07T11:30:41.784Z"
   },
   {
    "duration": 9,
    "start_time": "2022-06-07T11:30:44.349Z"
   },
   {
    "duration": 36,
    "start_time": "2022-06-07T12:18:24.877Z"
   },
   {
    "duration": 3,
    "start_time": "2022-06-07T12:18:34.516Z"
   },
   {
    "duration": 5,
    "start_time": "2022-06-07T12:18:58.661Z"
   },
   {
    "duration": 14,
    "start_time": "2022-06-07T12:26:25.030Z"
   },
   {
    "duration": 13,
    "start_time": "2022-06-07T12:29:59.680Z"
   },
   {
    "duration": 12,
    "start_time": "2022-06-07T12:35:18.649Z"
   },
   {
    "duration": 11,
    "start_time": "2022-06-07T12:35:53.546Z"
   },
   {
    "duration": 9,
    "start_time": "2022-06-07T12:36:07.071Z"
   },
   {
    "duration": 13,
    "start_time": "2022-06-07T12:41:31.088Z"
   },
   {
    "duration": 425,
    "start_time": "2022-06-07T14:48:35.667Z"
   },
   {
    "duration": 20,
    "start_time": "2022-06-07T14:48:36.094Z"
   },
   {
    "duration": 20,
    "start_time": "2022-06-07T14:48:36.115Z"
   },
   {
    "duration": 9,
    "start_time": "2022-06-07T14:48:36.136Z"
   },
   {
    "duration": 29,
    "start_time": "2022-06-07T14:48:36.147Z"
   },
   {
    "duration": 3,
    "start_time": "2022-06-07T14:48:36.178Z"
   },
   {
    "duration": 10,
    "start_time": "2022-06-07T14:48:36.182Z"
   },
   {
    "duration": 6,
    "start_time": "2022-06-07T14:48:36.194Z"
   },
   {
    "duration": 33,
    "start_time": "2022-06-07T14:48:36.201Z"
   },
   {
    "duration": 6,
    "start_time": "2022-06-07T14:48:36.236Z"
   },
   {
    "duration": 44,
    "start_time": "2022-06-07T14:48:36.244Z"
   },
   {
    "duration": 12,
    "start_time": "2022-06-07T14:48:36.289Z"
   },
   {
    "duration": 9,
    "start_time": "2022-06-07T14:48:36.303Z"
   },
   {
    "duration": 19,
    "start_time": "2022-06-07T14:48:36.328Z"
   },
   {
    "duration": 16,
    "start_time": "2022-06-07T14:48:36.349Z"
   },
   {
    "duration": 14,
    "start_time": "2022-06-07T14:48:36.367Z"
   },
   {
    "duration": 11,
    "start_time": "2022-06-07T14:48:36.383Z"
   },
   {
    "duration": 31,
    "start_time": "2022-06-07T14:48:36.396Z"
   },
   {
    "duration": 7,
    "start_time": "2022-06-07T14:48:36.429Z"
   },
   {
    "duration": 21,
    "start_time": "2022-06-07T14:48:36.437Z"
   },
   {
    "duration": 21,
    "start_time": "2022-06-07T14:48:36.460Z"
   },
   {
    "duration": 5,
    "start_time": "2022-06-07T14:48:36.483Z"
   },
   {
    "duration": 15,
    "start_time": "2022-06-07T14:48:36.490Z"
   },
   {
    "duration": 5,
    "start_time": "2022-06-07T14:48:36.506Z"
   },
   {
    "duration": 26,
    "start_time": "2022-06-07T14:48:36.512Z"
   },
   {
    "duration": 6,
    "start_time": "2022-06-07T14:48:36.539Z"
   },
   {
    "duration": 7,
    "start_time": "2022-06-07T14:48:36.547Z"
   },
   {
    "duration": 6,
    "start_time": "2022-06-07T14:48:36.555Z"
   },
   {
    "duration": 7,
    "start_time": "2022-06-07T14:48:36.562Z"
   },
   {
    "duration": 8,
    "start_time": "2022-06-07T14:48:36.570Z"
   },
   {
    "duration": 7,
    "start_time": "2022-06-07T14:48:36.579Z"
   },
   {
    "duration": 41,
    "start_time": "2022-06-07T14:48:36.587Z"
   },
   {
    "duration": 4,
    "start_time": "2022-06-07T14:48:36.629Z"
   },
   {
    "duration": 14,
    "start_time": "2022-06-07T14:48:36.635Z"
   },
   {
    "duration": 689,
    "start_time": "2022-06-07T20:21:51.966Z"
   },
   {
    "duration": 22,
    "start_time": "2022-06-07T20:21:52.657Z"
   },
   {
    "duration": 16,
    "start_time": "2022-06-07T20:21:52.681Z"
   },
   {
    "duration": 10,
    "start_time": "2022-06-07T20:21:52.699Z"
   },
   {
    "duration": 65,
    "start_time": "2022-06-07T20:21:52.711Z"
   },
   {
    "duration": 4,
    "start_time": "2022-06-07T20:21:52.778Z"
   },
   {
    "duration": 12,
    "start_time": "2022-06-07T20:21:52.783Z"
   },
   {
    "duration": 4,
    "start_time": "2022-06-07T20:21:52.796Z"
   },
   {
    "duration": 16,
    "start_time": "2022-06-07T20:21:52.801Z"
   },
   {
    "duration": 4,
    "start_time": "2022-06-07T20:21:52.819Z"
   },
   {
    "duration": 54,
    "start_time": "2022-06-07T20:21:52.824Z"
   },
   {
    "duration": 13,
    "start_time": "2022-06-07T20:21:52.880Z"
   },
   {
    "duration": 4,
    "start_time": "2022-06-07T20:21:52.894Z"
   },
   {
    "duration": 18,
    "start_time": "2022-06-07T20:21:52.901Z"
   },
   {
    "duration": 38,
    "start_time": "2022-06-07T20:21:52.921Z"
   },
   {
    "duration": 13,
    "start_time": "2022-06-07T20:21:52.961Z"
   },
   {
    "duration": 6,
    "start_time": "2022-06-07T20:21:52.975Z"
   },
   {
    "duration": 13,
    "start_time": "2022-06-07T20:21:52.982Z"
   },
   {
    "duration": 7,
    "start_time": "2022-06-07T20:21:52.997Z"
   },
   {
    "duration": 17,
    "start_time": "2022-06-07T20:21:53.006Z"
   },
   {
    "duration": 14,
    "start_time": "2022-06-07T20:21:53.025Z"
   },
   {
    "duration": 20,
    "start_time": "2022-06-07T20:21:53.041Z"
   },
   {
    "duration": 23,
    "start_time": "2022-06-07T20:21:53.063Z"
   },
   {
    "duration": 12,
    "start_time": "2022-06-07T20:21:53.088Z"
   },
   {
    "duration": 21,
    "start_time": "2022-06-07T20:21:53.102Z"
   },
   {
    "duration": 8,
    "start_time": "2022-06-07T20:21:53.125Z"
   },
   {
    "duration": 29,
    "start_time": "2022-06-07T20:21:53.134Z"
   },
   {
    "duration": 9,
    "start_time": "2022-06-07T20:21:53.165Z"
   },
   {
    "duration": 10,
    "start_time": "2022-06-07T20:21:53.175Z"
   },
   {
    "duration": 6,
    "start_time": "2022-06-07T20:21:53.187Z"
   },
   {
    "duration": 16,
    "start_time": "2022-06-07T20:21:53.194Z"
   },
   {
    "duration": 7,
    "start_time": "2022-06-07T20:21:53.211Z"
   },
   {
    "duration": 4,
    "start_time": "2022-06-07T20:21:53.219Z"
   },
   {
    "duration": 14,
    "start_time": "2022-06-07T20:21:53.225Z"
   },
   {
    "duration": 4,
    "start_time": "2022-06-07T20:38:00.901Z"
   },
   {
    "duration": 80,
    "start_time": "2022-06-07T20:50:12.740Z"
   },
   {
    "duration": 14,
    "start_time": "2022-06-07T20:50:54.805Z"
   },
   {
    "duration": 14,
    "start_time": "2022-06-07T20:52:28.896Z"
   },
   {
    "duration": 78,
    "start_time": "2022-06-07T20:52:41.700Z"
   },
   {
    "duration": 14,
    "start_time": "2022-06-07T20:52:41.781Z"
   },
   {
    "duration": 17,
    "start_time": "2022-06-07T20:52:41.797Z"
   },
   {
    "duration": 10,
    "start_time": "2022-06-07T20:52:41.816Z"
   },
   {
    "duration": 55,
    "start_time": "2022-06-07T20:52:41.827Z"
   },
   {
    "duration": 3,
    "start_time": "2022-06-07T20:52:41.883Z"
   },
   {
    "duration": 12,
    "start_time": "2022-06-07T20:52:41.888Z"
   },
   {
    "duration": 5,
    "start_time": "2022-06-07T20:52:41.902Z"
   },
   {
    "duration": 7,
    "start_time": "2022-06-07T20:52:41.909Z"
   },
   {
    "duration": 4,
    "start_time": "2022-06-07T20:52:41.919Z"
   },
   {
    "duration": 60,
    "start_time": "2022-06-07T20:52:41.925Z"
   },
   {
    "duration": 9,
    "start_time": "2022-06-07T20:52:41.986Z"
   },
   {
    "duration": 6,
    "start_time": "2022-06-07T20:52:41.997Z"
   },
   {
    "duration": 24,
    "start_time": "2022-06-07T20:52:42.004Z"
   },
   {
    "duration": 32,
    "start_time": "2022-06-07T20:52:42.029Z"
   },
   {
    "duration": 11,
    "start_time": "2022-06-07T20:52:42.063Z"
   },
   {
    "duration": 13,
    "start_time": "2022-06-07T20:52:42.076Z"
   },
   {
    "duration": 30,
    "start_time": "2022-06-07T20:52:42.091Z"
   },
   {
    "duration": 13,
    "start_time": "2022-06-07T20:52:42.123Z"
   },
   {
    "duration": 5,
    "start_time": "2022-06-07T20:52:42.138Z"
   },
   {
    "duration": 16,
    "start_time": "2022-06-07T20:52:42.145Z"
   },
   {
    "duration": 11,
    "start_time": "2022-06-07T20:52:42.162Z"
   },
   {
    "duration": 18,
    "start_time": "2022-06-07T20:52:42.174Z"
   },
   {
    "duration": 15,
    "start_time": "2022-06-07T20:52:45.222Z"
   },
   {
    "duration": 15,
    "start_time": "2022-06-07T20:56:31.950Z"
   },
   {
    "duration": 7,
    "start_time": "2022-06-07T20:57:22.053Z"
   },
   {
    "duration": 8,
    "start_time": "2022-06-07T20:57:50.825Z"
   },
   {
    "duration": 15,
    "start_time": "2022-06-07T20:58:03.659Z"
   },
   {
    "duration": 14,
    "start_time": "2022-06-07T21:04:45.246Z"
   },
   {
    "duration": 20,
    "start_time": "2022-06-07T21:06:50.062Z"
   },
   {
    "duration": 20,
    "start_time": "2022-06-07T21:07:54.799Z"
   },
   {
    "duration": 14,
    "start_time": "2022-06-07T21:08:28.548Z"
   },
   {
    "duration": 10,
    "start_time": "2022-06-07T21:09:02.805Z"
   },
   {
    "duration": 7,
    "start_time": "2022-06-07T21:09:18.993Z"
   },
   {
    "duration": 11,
    "start_time": "2022-06-07T21:09:37.460Z"
   },
   {
    "duration": 8,
    "start_time": "2022-06-07T21:09:51.001Z"
   },
   {
    "duration": 10,
    "start_time": "2022-06-07T21:10:39.331Z"
   },
   {
    "duration": 15,
    "start_time": "2022-06-07T21:15:04.560Z"
   },
   {
    "duration": 20,
    "start_time": "2022-06-07T21:16:08.146Z"
   },
   {
    "duration": 24,
    "start_time": "2022-06-07T21:26:43.778Z"
   },
   {
    "duration": 34,
    "start_time": "2022-06-07T21:27:46.765Z"
   },
   {
    "duration": 14,
    "start_time": "2022-06-07T21:32:10.140Z"
   },
   {
    "duration": 15,
    "start_time": "2022-06-07T21:33:49.818Z"
   },
   {
    "duration": 14,
    "start_time": "2022-06-07T21:33:59.006Z"
   },
   {
    "duration": 16,
    "start_time": "2022-06-07T21:39:44.628Z"
   },
   {
    "duration": 20,
    "start_time": "2022-06-07T21:40:54.539Z"
   },
   {
    "duration": 32,
    "start_time": "2022-06-07T21:42:30.164Z"
   },
   {
    "duration": 23,
    "start_time": "2022-06-07T21:44:18.468Z"
   },
   {
    "duration": 18,
    "start_time": "2022-06-07T21:44:47.696Z"
   },
   {
    "duration": 26,
    "start_time": "2022-06-07T21:44:53.445Z"
   },
   {
    "duration": 22,
    "start_time": "2022-06-07T21:52:45.173Z"
   },
   {
    "duration": 25,
    "start_time": "2022-06-07T21:53:33.406Z"
   },
   {
    "duration": 18,
    "start_time": "2022-06-07T21:53:42.086Z"
   },
   {
    "duration": 18,
    "start_time": "2022-06-07T21:54:00.319Z"
   },
   {
    "duration": 42,
    "start_time": "2022-06-07T21:54:16.524Z"
   },
   {
    "duration": 45,
    "start_time": "2022-06-07T21:54:53.719Z"
   },
   {
    "duration": 27,
    "start_time": "2022-06-07T21:56:19.755Z"
   },
   {
    "duration": 21,
    "start_time": "2022-06-07T21:56:38.103Z"
   },
   {
    "duration": 47,
    "start_time": "2022-06-07T21:57:26.824Z"
   },
   {
    "duration": 45,
    "start_time": "2022-06-07T22:03:37.667Z"
   },
   {
    "duration": 31,
    "start_time": "2022-06-07T22:04:38.314Z"
   },
   {
    "duration": 23,
    "start_time": "2022-06-07T22:05:21.100Z"
   },
   {
    "duration": 28,
    "start_time": "2022-06-07T22:06:00.523Z"
   },
   {
    "duration": 22,
    "start_time": "2022-06-07T22:11:21.153Z"
   },
   {
    "duration": 24,
    "start_time": "2022-06-07T22:11:32.196Z"
   },
   {
    "duration": 248,
    "start_time": "2022-06-07T22:12:56.379Z"
   },
   {
    "duration": 287,
    "start_time": "2022-06-07T22:13:32.263Z"
   },
   {
    "duration": 34,
    "start_time": "2022-06-07T22:13:57.409Z"
   },
   {
    "duration": 432,
    "start_time": "2022-06-07T22:14:13.449Z"
   },
   {
    "duration": 23,
    "start_time": "2022-06-07T22:14:57.831Z"
   },
   {
    "duration": 30,
    "start_time": "2022-06-07T22:15:42.727Z"
   },
   {
    "duration": 293,
    "start_time": "2022-06-07T22:18:09.807Z"
   },
   {
    "duration": 268,
    "start_time": "2022-06-07T22:18:15.095Z"
   },
   {
    "duration": 66,
    "start_time": "2022-06-07T22:18:18.843Z"
   },
   {
    "duration": 15,
    "start_time": "2022-06-07T22:18:18.911Z"
   },
   {
    "duration": 30,
    "start_time": "2022-06-07T22:18:18.927Z"
   },
   {
    "duration": 9,
    "start_time": "2022-06-07T22:18:18.959Z"
   },
   {
    "duration": 39,
    "start_time": "2022-06-07T22:18:18.970Z"
   },
   {
    "duration": 4,
    "start_time": "2022-06-07T22:18:19.010Z"
   },
   {
    "duration": 16,
    "start_time": "2022-06-07T22:18:19.015Z"
   },
   {
    "duration": 16,
    "start_time": "2022-06-07T22:18:19.032Z"
   },
   {
    "duration": 16,
    "start_time": "2022-06-07T22:18:19.050Z"
   },
   {
    "duration": 23,
    "start_time": "2022-06-07T22:18:19.068Z"
   },
   {
    "duration": 45,
    "start_time": "2022-06-07T22:18:19.093Z"
   },
   {
    "duration": 10,
    "start_time": "2022-06-07T22:18:19.139Z"
   },
   {
    "duration": 23,
    "start_time": "2022-06-07T22:18:19.151Z"
   },
   {
    "duration": 21,
    "start_time": "2022-06-07T22:18:19.177Z"
   },
   {
    "duration": 21,
    "start_time": "2022-06-07T22:18:19.200Z"
   },
   {
    "duration": 10,
    "start_time": "2022-06-07T22:18:19.222Z"
   },
   {
    "duration": 30,
    "start_time": "2022-06-07T22:18:19.233Z"
   },
   {
    "duration": 22,
    "start_time": "2022-06-07T22:18:19.265Z"
   },
   {
    "duration": 8,
    "start_time": "2022-06-07T22:18:19.289Z"
   },
   {
    "duration": 7,
    "start_time": "2022-06-07T22:18:19.298Z"
   },
   {
    "duration": 26,
    "start_time": "2022-06-07T22:18:19.306Z"
   },
   {
    "duration": 8,
    "start_time": "2022-06-07T22:18:19.334Z"
   },
   {
    "duration": 17,
    "start_time": "2022-06-07T22:18:19.343Z"
   },
   {
    "duration": 357,
    "start_time": "2022-06-07T22:18:19.361Z"
   },
   {
    "duration": 260,
    "start_time": "2022-06-07T22:18:22.807Z"
   },
   {
    "duration": 302,
    "start_time": "2022-06-07T22:19:29.255Z"
   },
   {
    "duration": 227,
    "start_time": "2022-06-07T22:21:07.519Z"
   },
   {
    "duration": 274,
    "start_time": "2022-06-07T22:21:30.016Z"
   },
   {
    "duration": 270,
    "start_time": "2022-06-07T22:21:46.609Z"
   },
   {
    "duration": 18,
    "start_time": "2022-06-07T22:22:40.045Z"
   },
   {
    "duration": 18,
    "start_time": "2022-06-07T22:29:00.348Z"
   },
   {
    "duration": 20,
    "start_time": "2022-06-07T22:30:02.977Z"
   },
   {
    "duration": 231,
    "start_time": "2022-06-07T22:40:25.344Z"
   },
   {
    "duration": 19,
    "start_time": "2022-06-07T22:40:47.468Z"
   },
   {
    "duration": 19,
    "start_time": "2022-06-07T22:41:28.487Z"
   },
   {
    "duration": 28,
    "start_time": "2022-06-07T22:42:25.035Z"
   },
   {
    "duration": 20,
    "start_time": "2022-06-07T22:42:29.540Z"
   },
   {
    "duration": 474,
    "start_time": "2022-06-08T11:18:54.045Z"
   },
   {
    "duration": 21,
    "start_time": "2022-06-08T11:18:54.521Z"
   },
   {
    "duration": 14,
    "start_time": "2022-06-08T11:18:54.543Z"
   },
   {
    "duration": 9,
    "start_time": "2022-06-08T11:18:54.559Z"
   },
   {
    "duration": 33,
    "start_time": "2022-06-08T11:18:54.569Z"
   },
   {
    "duration": 3,
    "start_time": "2022-06-08T11:18:54.604Z"
   },
   {
    "duration": 33,
    "start_time": "2022-06-08T11:18:54.609Z"
   },
   {
    "duration": 5,
    "start_time": "2022-06-08T11:18:54.643Z"
   },
   {
    "duration": 8,
    "start_time": "2022-06-08T11:18:54.649Z"
   },
   {
    "duration": 4,
    "start_time": "2022-06-08T11:18:54.660Z"
   },
   {
    "duration": 34,
    "start_time": "2022-06-08T11:18:54.665Z"
   },
   {
    "duration": 8,
    "start_time": "2022-06-08T11:18:54.701Z"
   },
   {
    "duration": 31,
    "start_time": "2022-06-08T11:18:54.711Z"
   },
   {
    "duration": 17,
    "start_time": "2022-06-08T11:18:54.743Z"
   },
   {
    "duration": 16,
    "start_time": "2022-06-08T11:18:54.762Z"
   },
   {
    "duration": 11,
    "start_time": "2022-06-08T11:18:54.779Z"
   },
   {
    "duration": 5,
    "start_time": "2022-06-08T11:18:54.791Z"
   },
   {
    "duration": 14,
    "start_time": "2022-06-08T11:18:54.798Z"
   },
   {
    "duration": 30,
    "start_time": "2022-06-08T11:18:54.813Z"
   },
   {
    "duration": 9,
    "start_time": "2022-06-08T11:18:54.845Z"
   },
   {
    "duration": 12,
    "start_time": "2022-06-08T11:18:54.855Z"
   },
   {
    "duration": 8,
    "start_time": "2022-06-08T11:18:54.868Z"
   },
   {
    "duration": 18,
    "start_time": "2022-06-08T11:18:54.877Z"
   },
   {
    "duration": 19,
    "start_time": "2022-06-08T11:18:54.897Z"
   },
   {
    "duration": 26,
    "start_time": "2022-06-08T11:18:54.918Z"
   },
   {
    "duration": 16,
    "start_time": "2022-06-08T11:18:54.945Z"
   },
   {
    "duration": 11,
    "start_time": "2022-06-08T11:18:54.962Z"
   },
   {
    "duration": 8,
    "start_time": "2022-06-08T11:18:54.975Z"
   },
   {
    "duration": 6,
    "start_time": "2022-06-08T11:18:54.985Z"
   },
   {
    "duration": 8,
    "start_time": "2022-06-08T11:18:54.992Z"
   },
   {
    "duration": 42,
    "start_time": "2022-06-08T11:18:55.001Z"
   },
   {
    "duration": 8,
    "start_time": "2022-06-08T11:18:55.045Z"
   },
   {
    "duration": 6,
    "start_time": "2022-06-08T11:18:55.054Z"
   },
   {
    "duration": 12,
    "start_time": "2022-06-08T11:18:55.061Z"
   },
   {
    "duration": 14,
    "start_time": "2022-06-08T11:18:55.074Z"
   },
   {
    "duration": 430,
    "start_time": "2022-06-08T15:57:40.554Z"
   },
   {
    "duration": 19,
    "start_time": "2022-06-08T15:57:40.986Z"
   },
   {
    "duration": 13,
    "start_time": "2022-06-08T15:57:41.006Z"
   },
   {
    "duration": 8,
    "start_time": "2022-06-08T15:57:41.021Z"
   },
   {
    "duration": 31,
    "start_time": "2022-06-08T15:57:41.031Z"
   },
   {
    "duration": 3,
    "start_time": "2022-06-08T15:57:41.063Z"
   },
   {
    "duration": 12,
    "start_time": "2022-06-08T15:57:41.067Z"
   },
   {
    "duration": 10,
    "start_time": "2022-06-08T15:57:41.080Z"
   },
   {
    "duration": 9,
    "start_time": "2022-06-08T15:57:41.091Z"
   },
   {
    "duration": 4,
    "start_time": "2022-06-08T15:57:41.102Z"
   },
   {
    "duration": 43,
    "start_time": "2022-06-08T15:57:41.107Z"
   },
   {
    "duration": 9,
    "start_time": "2022-06-08T15:57:41.152Z"
   },
   {
    "duration": 4,
    "start_time": "2022-06-08T15:57:41.162Z"
   },
   {
    "duration": 18,
    "start_time": "2022-06-08T15:57:41.168Z"
   },
   {
    "duration": 13,
    "start_time": "2022-06-08T15:57:41.187Z"
   },
   {
    "duration": 31,
    "start_time": "2022-06-08T15:57:41.201Z"
   },
   {
    "duration": 3,
    "start_time": "2022-06-08T15:57:41.234Z"
   },
   {
    "duration": 12,
    "start_time": "2022-06-08T15:57:41.238Z"
   },
   {
    "duration": 10,
    "start_time": "2022-06-08T15:57:41.251Z"
   },
   {
    "duration": 4,
    "start_time": "2022-06-08T15:57:41.262Z"
   },
   {
    "duration": 15,
    "start_time": "2022-06-08T15:57:41.268Z"
   },
   {
    "duration": 4,
    "start_time": "2022-06-08T15:57:41.285Z"
   },
   {
    "duration": 36,
    "start_time": "2022-06-08T15:57:41.291Z"
   },
   {
    "duration": 21,
    "start_time": "2022-06-08T15:57:41.329Z"
   },
   {
    "duration": 5,
    "start_time": "2022-06-08T15:57:41.352Z"
   },
   {
    "duration": 16,
    "start_time": "2022-06-08T15:57:41.359Z"
   },
   {
    "duration": 7,
    "start_time": "2022-06-08T15:57:41.377Z"
   },
   {
    "duration": 8,
    "start_time": "2022-06-08T15:57:41.386Z"
   },
   {
    "duration": 6,
    "start_time": "2022-06-08T15:57:41.427Z"
   },
   {
    "duration": 9,
    "start_time": "2022-06-08T15:57:41.434Z"
   },
   {
    "duration": 6,
    "start_time": "2022-06-08T15:57:41.444Z"
   },
   {
    "duration": 7,
    "start_time": "2022-06-08T15:57:41.452Z"
   },
   {
    "duration": 5,
    "start_time": "2022-06-08T15:57:41.460Z"
   },
   {
    "duration": 10,
    "start_time": "2022-06-08T15:57:41.466Z"
   },
   {
    "duration": 20,
    "start_time": "2022-06-08T15:57:41.478Z"
   },
   {
    "duration": 428,
    "start_time": "2022-06-08T15:57:46.351Z"
   },
   {
    "duration": 20,
    "start_time": "2022-06-08T15:57:46.780Z"
   },
   {
    "duration": 16,
    "start_time": "2022-06-08T15:57:46.801Z"
   },
   {
    "duration": 10,
    "start_time": "2022-06-08T15:57:46.818Z"
   },
   {
    "duration": 33,
    "start_time": "2022-06-08T15:57:46.830Z"
   },
   {
    "duration": 4,
    "start_time": "2022-06-08T15:57:46.865Z"
   },
   {
    "duration": 13,
    "start_time": "2022-06-08T15:57:46.870Z"
   },
   {
    "duration": 5,
    "start_time": "2022-06-08T15:57:46.885Z"
   },
   {
    "duration": 13,
    "start_time": "2022-06-08T15:57:46.892Z"
   },
   {
    "duration": 22,
    "start_time": "2022-06-08T15:57:46.906Z"
   },
   {
    "duration": 30,
    "start_time": "2022-06-08T15:57:46.929Z"
   },
   {
    "duration": 8,
    "start_time": "2022-06-08T15:57:46.961Z"
   },
   {
    "duration": 5,
    "start_time": "2022-06-08T15:57:46.970Z"
   },
   {
    "duration": 17,
    "start_time": "2022-06-08T15:57:46.978Z"
   },
   {
    "duration": 39,
    "start_time": "2022-06-08T15:57:46.997Z"
   },
   {
    "duration": 10,
    "start_time": "2022-06-08T15:57:47.038Z"
   },
   {
    "duration": 7,
    "start_time": "2022-06-08T15:57:47.049Z"
   },
   {
    "duration": 19,
    "start_time": "2022-06-08T15:57:47.057Z"
   },
   {
    "duration": 5,
    "start_time": "2022-06-08T15:57:47.077Z"
   },
   {
    "duration": 4,
    "start_time": "2022-06-08T15:57:47.084Z"
   },
   {
    "duration": 10,
    "start_time": "2022-06-08T15:57:47.089Z"
   },
   {
    "duration": 4,
    "start_time": "2022-06-08T15:57:47.101Z"
   },
   {
    "duration": 30,
    "start_time": "2022-06-08T15:57:47.107Z"
   },
   {
    "duration": 17,
    "start_time": "2022-06-08T15:57:47.138Z"
   },
   {
    "duration": 4,
    "start_time": "2022-06-08T15:57:47.157Z"
   },
   {
    "duration": 20,
    "start_time": "2022-06-08T15:57:47.163Z"
   },
   {
    "duration": 7,
    "start_time": "2022-06-08T15:57:47.184Z"
   },
   {
    "duration": 9,
    "start_time": "2022-06-08T15:57:47.192Z"
   },
   {
    "duration": 27,
    "start_time": "2022-06-08T15:57:47.203Z"
   },
   {
    "duration": 28,
    "start_time": "2022-06-08T15:57:47.231Z"
   },
   {
    "duration": 14,
    "start_time": "2022-06-08T15:57:47.260Z"
   },
   {
    "duration": 13,
    "start_time": "2022-06-08T15:57:47.275Z"
   },
   {
    "duration": 8,
    "start_time": "2022-06-08T15:57:47.289Z"
   },
   {
    "duration": 4,
    "start_time": "2022-06-08T15:57:47.299Z"
   },
   {
    "duration": 12,
    "start_time": "2022-06-08T15:57:47.304Z"
   },
   {
    "duration": 28,
    "start_time": "2022-06-08T15:58:37.491Z"
   }
  ],
  "colab": {
   "name": "dpp_template_part2.ipynb",
   "provenance": []
  },
  "kernelspec": {
   "display_name": "Python 3 (ipykernel)",
   "language": "python",
   "name": "python3"
  },
  "language_info": {
   "codemirror_mode": {
    "name": "ipython",
    "version": 3
   },
   "file_extension": ".py",
   "mimetype": "text/x-python",
   "name": "python",
   "nbconvert_exporter": "python",
   "pygments_lexer": "ipython3",
   "version": "3.9.12"
  },
  "toc": {
   "base_numbering": 1,
   "nav_menu": {},
   "number_sections": true,
   "sideBar": true,
   "skip_h1_title": true,
   "title_cell": "Table of Contents",
   "title_sidebar": "Contents",
   "toc_cell": false,
   "toc_position": {},
   "toc_section_display": true,
   "toc_window_display": false
  }
 },
 "nbformat": 4,
 "nbformat_minor": 5
}
