{
 "cells": [
  {
   "cell_type": "markdown",
   "metadata": {
    "deletable": false,
    "editable": false,
    "id": "E0vqbgi9ay0H"
   },
   "source": [
    "# Яндекс.Музыка"
   ]
  },
  {
   "cell_type": "markdown",
   "metadata": {
    "deletable": false,
    "editable": false,
    "id": "VUC88oWjTJw2"
   },
   "source": [
    "Сравнение Москвы и Петербурга окружено мифами. Например:\n",
    " * Москва — мегаполис, подчинённый жёсткому ритму рабочей недели;\n",
    " * Петербург — культурная столица, со своими вкусами.\n",
    "\n",
    "На данных Яндекс.Музыки вы сравните поведение пользователей двух столиц.\n",
    "\n",
    "**Цель исследования** — проверьте три гипотезы:\n",
    "1. Активность пользователей зависит от дня недели. Причём в Москве и Петербурге это проявляется по-разному.\n",
    "2. В понедельник утром в Москве преобладают одни жанры, а в Петербурге — другие. Так же и вечером пятницы преобладают разные жанры — в зависимости от города. \n",
    "3. Москва и Петербург предпочитают разные жанры музыки. В Москве чаще слушают поп-музыку, в Петербурге — русский рэп.\n",
    "\n",
    "**Ход исследования**\n",
    "\n",
    "Данные о поведении пользователей вы получите из файла `yandex_music_project.csv`. О качестве данных ничего не известно. Поэтому перед проверкой гипотез понадобится обзор данных. \n",
    "\n",
    "Вы проверите данные на ошибки и оцените их влияние на исследование. Затем, на этапе предобработки вы поищете возможность исправить самые критичные ошибки данных.\n",
    " \n",
    "Таким образом, исследование пройдёт в три этапа:\n",
    " 1. Обзор данных.\n",
    " 2. Предобработка данных.\n",
    " 3. Проверка гипотез.\n",
    "\n"
   ]
  },
  {
   "cell_type": "markdown",
   "metadata": {
    "deletable": false,
    "editable": false,
    "id": "Ml1hmfXC_Zcs"
   },
   "source": [
    "## Обзор данных\n",
    "\n",
    "Составьте первое представление о данных Яндекс.Музыки.\n",
    "\n",
    "\n"
   ]
  },
  {
   "cell_type": "markdown",
   "metadata": {
    "deletable": false,
    "editable": false,
    "id": "57eAOGIz_Zcs",
    "tags": [
     "start_task"
    ]
   },
   "source": [
    "**Задание 1**\n",
    "\n",
    "Основной инструмент аналитика — `pandas`. Импортируйте эту библиотеку."
   ]
  },
  {
   "cell_type": "code",
   "execution_count": 41,
   "metadata": {
    "deletable": false,
    "id": "AXN7PHPN_Zcs"
   },
   "outputs": [],
   "source": [
    "import pandas as pd"
   ]
  },
  {
   "cell_type": "markdown",
   "metadata": {
    "deletable": false,
    "editable": false,
    "id": "SG23P8tt_Zcs",
    "tags": [
     "start_task"
    ]
   },
   "source": [
    "**Задание 2**\n",
    "\n",
    "Прочитайте файл `yandex_music_project.csv` из папки `/datasets` и сохраните его в переменной `df`:"
   ]
  },
  {
   "cell_type": "code",
   "execution_count": 42,
   "metadata": {
    "deletable": false,
    "id": "fFVu7vqh_Zct"
   },
   "outputs": [],
   "source": [
    "df = pd.read_csv('/datasets/yandex_music_project.csv')"
   ]
  },
  {
   "cell_type": "markdown",
   "metadata": {
    "deletable": false,
    "editable": false,
    "id": "rDoOMd3uTqnZ",
    "tags": [
     "start_task"
    ]
   },
   "source": [
    "**Задание 3**\n",
    "\n",
    "\n",
    "Выведите на экран первые десять строк таблицы:"
   ]
  },
  {
   "cell_type": "code",
   "execution_count": 43,
   "metadata": {
    "deletable": false,
    "id": "oWTVX3gW_Zct"
   },
   "outputs": [
    {
     "data": {
      "text/html": [
       "<div>\n",
       "<style scoped>\n",
       "    .dataframe tbody tr th:only-of-type {\n",
       "        vertical-align: middle;\n",
       "    }\n",
       "\n",
       "    .dataframe tbody tr th {\n",
       "        vertical-align: top;\n",
       "    }\n",
       "\n",
       "    .dataframe thead th {\n",
       "        text-align: right;\n",
       "    }\n",
       "</style>\n",
       "<table border=\"1\" class=\"dataframe\">\n",
       "  <thead>\n",
       "    <tr style=\"text-align: right;\">\n",
       "      <th></th>\n",
       "      <th>userID</th>\n",
       "      <th>Track</th>\n",
       "      <th>artist</th>\n",
       "      <th>genre</th>\n",
       "      <th>City</th>\n",
       "      <th>time</th>\n",
       "      <th>Day</th>\n",
       "    </tr>\n",
       "  </thead>\n",
       "  <tbody>\n",
       "    <tr>\n",
       "      <th>0</th>\n",
       "      <td>FFB692EC</td>\n",
       "      <td>Kamigata To Boots</td>\n",
       "      <td>The Mass Missile</td>\n",
       "      <td>rock</td>\n",
       "      <td>Saint-Petersburg</td>\n",
       "      <td>20:28:33</td>\n",
       "      <td>Wednesday</td>\n",
       "    </tr>\n",
       "    <tr>\n",
       "      <th>1</th>\n",
       "      <td>55204538</td>\n",
       "      <td>Delayed Because of Accident</td>\n",
       "      <td>Andreas Rönnberg</td>\n",
       "      <td>rock</td>\n",
       "      <td>Moscow</td>\n",
       "      <td>14:07:09</td>\n",
       "      <td>Friday</td>\n",
       "    </tr>\n",
       "    <tr>\n",
       "      <th>2</th>\n",
       "      <td>20EC38</td>\n",
       "      <td>Funiculì funiculà</td>\n",
       "      <td>Mario Lanza</td>\n",
       "      <td>pop</td>\n",
       "      <td>Saint-Petersburg</td>\n",
       "      <td>20:58:07</td>\n",
       "      <td>Wednesday</td>\n",
       "    </tr>\n",
       "    <tr>\n",
       "      <th>3</th>\n",
       "      <td>A3DD03C9</td>\n",
       "      <td>Dragons in the Sunset</td>\n",
       "      <td>Fire + Ice</td>\n",
       "      <td>folk</td>\n",
       "      <td>Saint-Petersburg</td>\n",
       "      <td>08:37:09</td>\n",
       "      <td>Monday</td>\n",
       "    </tr>\n",
       "    <tr>\n",
       "      <th>4</th>\n",
       "      <td>E2DC1FAE</td>\n",
       "      <td>Soul People</td>\n",
       "      <td>Space Echo</td>\n",
       "      <td>dance</td>\n",
       "      <td>Moscow</td>\n",
       "      <td>08:34:34</td>\n",
       "      <td>Monday</td>\n",
       "    </tr>\n",
       "    <tr>\n",
       "      <th>5</th>\n",
       "      <td>842029A1</td>\n",
       "      <td>Преданная</td>\n",
       "      <td>IMPERVTOR</td>\n",
       "      <td>rusrap</td>\n",
       "      <td>Saint-Petersburg</td>\n",
       "      <td>13:09:41</td>\n",
       "      <td>Friday</td>\n",
       "    </tr>\n",
       "    <tr>\n",
       "      <th>6</th>\n",
       "      <td>4CB90AA5</td>\n",
       "      <td>True</td>\n",
       "      <td>Roman Messer</td>\n",
       "      <td>dance</td>\n",
       "      <td>Moscow</td>\n",
       "      <td>13:00:07</td>\n",
       "      <td>Wednesday</td>\n",
       "    </tr>\n",
       "    <tr>\n",
       "      <th>7</th>\n",
       "      <td>F03E1C1F</td>\n",
       "      <td>Feeling This Way</td>\n",
       "      <td>Polina Griffith</td>\n",
       "      <td>dance</td>\n",
       "      <td>Moscow</td>\n",
       "      <td>20:47:49</td>\n",
       "      <td>Wednesday</td>\n",
       "    </tr>\n",
       "    <tr>\n",
       "      <th>8</th>\n",
       "      <td>8FA1D3BE</td>\n",
       "      <td>И вновь продолжается бой</td>\n",
       "      <td>NaN</td>\n",
       "      <td>ruspop</td>\n",
       "      <td>Moscow</td>\n",
       "      <td>09:17:40</td>\n",
       "      <td>Friday</td>\n",
       "    </tr>\n",
       "    <tr>\n",
       "      <th>9</th>\n",
       "      <td>E772D5C0</td>\n",
       "      <td>Pessimist</td>\n",
       "      <td>NaN</td>\n",
       "      <td>dance</td>\n",
       "      <td>Saint-Petersburg</td>\n",
       "      <td>21:20:49</td>\n",
       "      <td>Wednesday</td>\n",
       "    </tr>\n",
       "  </tbody>\n",
       "</table>\n",
       "</div>"
      ],
      "text/plain": [
       "     userID                        Track            artist   genre  \\\n",
       "0  FFB692EC            Kamigata To Boots  The Mass Missile    rock   \n",
       "1  55204538  Delayed Because of Accident  Andreas Rönnberg    rock   \n",
       "2    20EC38            Funiculì funiculà       Mario Lanza     pop   \n",
       "3  A3DD03C9        Dragons in the Sunset        Fire + Ice    folk   \n",
       "4  E2DC1FAE                  Soul People        Space Echo   dance   \n",
       "5  842029A1                    Преданная         IMPERVTOR  rusrap   \n",
       "6  4CB90AA5                         True      Roman Messer   dance   \n",
       "7  F03E1C1F             Feeling This Way   Polina Griffith   dance   \n",
       "8  8FA1D3BE     И вновь продолжается бой               NaN  ruspop   \n",
       "9  E772D5C0                    Pessimist               NaN   dance   \n",
       "\n",
       "             City        time        Day  \n",
       "0  Saint-Petersburg  20:28:33  Wednesday  \n",
       "1            Moscow  14:07:09     Friday  \n",
       "2  Saint-Petersburg  20:58:07  Wednesday  \n",
       "3  Saint-Petersburg  08:37:09     Monday  \n",
       "4            Moscow  08:34:34     Monday  \n",
       "5  Saint-Petersburg  13:09:41     Friday  \n",
       "6            Moscow  13:00:07  Wednesday  \n",
       "7            Moscow  20:47:49  Wednesday  \n",
       "8            Moscow  09:17:40     Friday  \n",
       "9  Saint-Petersburg  21:20:49  Wednesday  "
      ]
     },
     "execution_count": 43,
     "metadata": {},
     "output_type": "execute_result"
    }
   ],
   "source": [
    "df.head(10)"
   ]
  },
  {
   "cell_type": "markdown",
   "metadata": {
    "deletable": false,
    "editable": false,
    "id": "EO73Kwic_Zct",
    "tags": [
     "start_task"
    ]
   },
   "source": [
    "**Задание 4**\n",
    "\n",
    "\n",
    "Одной командой получить общую информацию о таблице c помощью метода `info()`:"
   ]
  },
  {
   "cell_type": "code",
   "execution_count": 44,
   "metadata": {
    "deletable": false,
    "id": "DSf2kIb-_Zct"
   },
   "outputs": [
    {
     "name": "stdout",
     "output_type": "stream",
     "text": [
      "<class 'pandas.core.frame.DataFrame'>\n",
      "RangeIndex: 65079 entries, 0 to 65078\n",
      "Data columns (total 7 columns):\n",
      " #   Column    Non-Null Count  Dtype \n",
      "---  ------    --------------  ----- \n",
      " 0     userID  65079 non-null  object\n",
      " 1   Track     63848 non-null  object\n",
      " 2   artist    57876 non-null  object\n",
      " 3   genre     63881 non-null  object\n",
      " 4     City    65079 non-null  object\n",
      " 5   time      65079 non-null  object\n",
      " 6   Day       65079 non-null  object\n",
      "dtypes: object(7)\n",
      "memory usage: 3.5+ MB\n"
     ]
    }
   ],
   "source": [
    "df.info()"
   ]
  },
  {
   "cell_type": "markdown",
   "metadata": {
    "deletable": false,
    "editable": false,
    "id": "TaQ2Iwbr_Zct"
   },
   "source": [
    "Итак, в таблице семь столбцов. Тип данных во всех столбцах — `object`.\n",
    "\n",
    "Согласно документации к данным:\n",
    "* `userID` — идентификатор пользователя;\n",
    "* `Track` — название трека;  \n",
    "* `artist` — имя исполнителя;\n",
    "* `genre` — название жанра;\n",
    "* `City` — город пользователя;\n",
    "* `time` — время начала прослушивания;\n",
    "* `Day` — день недели.\n",
    "\n",
    "Количество значений в столбцах различается. Значит, в данных есть пропущенные значения."
   ]
  },
  {
   "cell_type": "markdown",
   "metadata": {
    "deletable": false,
    "editable": false,
    "tags": [
     "start_task"
    ]
   },
   "source": [
    "**Задание 5**\n",
    "\n",
    "**Вопрос со свободной формой ответа**\n",
    "\n",
    "В названиях колонок видны три нарушения стиля:\n",
    "1. Строчные буквы сочетаются с прописными.\n",
    "2. Встречаются пробелы."
   ]
  },
  {
   "cell_type": "code",
   "execution_count": 45,
   "metadata": {},
   "outputs": [],
   "source": [
    "# 3. Нет нижних подчеркиваний"
   ]
  },
  {
   "cell_type": "markdown",
   "metadata": {
    "deletable": false,
    "editable": false,
    "id": "MCB6-dXG_Zct"
   },
   "source": [
    "**Выводы**\n",
    "\n",
    "В каждой строке таблицы — данные о прослушанном треке. Часть колонок описывает саму композицию: название, исполнителя и жанр. Остальные данные рассказывают о пользователе: из какого он города, когда он слушал музыку. \n",
    "\n",
    "Предварительно можно утверждать, что, данных достаточно для проверки гипотез. Но встречаются пропуски в данных, а в названиях колонок — расхождения с хорошим стилем.\n",
    "\n",
    "Чтобы двигаться дальше, нужно устранить проблемы в данных."
   ]
  },
  {
   "cell_type": "markdown",
   "metadata": {
    "deletable": false,
    "editable": false,
    "id": "SjYF6Ub9_Zct"
   },
   "source": [
    "## Предобработка данных\n",
    "Исправьте стиль в заголовках столбцов, исключите пропуски. Затем проверьте данные на дубликаты."
   ]
  },
  {
   "cell_type": "markdown",
   "metadata": {
    "deletable": false,
    "editable": false,
    "id": "dIaKXr29_Zct",
    "tags": [
     "start_task"
    ]
   },
   "source": [
    "### Стиль заголовков\n",
    "\n",
    "**Задание 6**\n",
    "\n",
    "Выведите на экран названия столбцов:"
   ]
  },
  {
   "cell_type": "code",
   "execution_count": 46,
   "metadata": {
    "deletable": false,
    "id": "oKOTdF_Q_Zct"
   },
   "outputs": [
    {
     "data": {
      "text/plain": [
       "Index(['  userID', 'Track', 'artist', 'genre', '  City  ', 'time', 'Day'], dtype='object')"
      ]
     },
     "execution_count": 46,
     "metadata": {},
     "output_type": "execute_result"
    }
   ],
   "source": [
    "df.columns"
   ]
  },
  {
   "cell_type": "markdown",
   "metadata": {
    "deletable": false,
    "editable": false,
    "id": "zj5534cv_Zct",
    "tags": [
     "start_task"
    ]
   },
   "source": [
    "**Задание 7**\n",
    "\n",
    "\n",
    "Приведите названия в соответствие с хорошим стилем:\n",
    "* несколько слов в названии запишите в «змеином_регистре»,\n",
    "* все символы сделайте строчными,\n",
    "* устраните пробелы.\n",
    "\n",
    "Для этого переименуйте колонки так:\n",
    "* `'  userID'` → `'user_id'`;\n",
    "* `'Track'` → `'track'`;\n",
    "* `'  City  '` → `'city'`;\n",
    "* `'Day'` → `'day'`."
   ]
  },
  {
   "cell_type": "code",
   "execution_count": 47,
   "metadata": {
    "deletable": false,
    "id": "ISlFqs5y_Zct"
   },
   "outputs": [],
   "source": [
    "df = df.rename(columns={'  userID':'user_id', 'Track':'track', '  City  ':'city', 'Day':'day'})"
   ]
  },
  {
   "cell_type": "markdown",
   "metadata": {
    "deletable": false,
    "editable": false,
    "id": "1dqbh00J_Zct",
    "tags": [
     "start_task"
    ]
   },
   "source": [
    "**Задание 8**\n",
    "\n",
    "\n",
    "Проверьте результат. Для этого ещё раз выведите на экран названия столбцов:"
   ]
  },
  {
   "cell_type": "code",
   "execution_count": 48,
   "metadata": {
    "deletable": false,
    "id": "d4NOAmTW_Zct"
   },
   "outputs": [
    {
     "data": {
      "text/plain": [
       "Index(['user_id', 'track', 'artist', 'genre', 'city', 'time', 'day'], dtype='object')"
      ]
     },
     "execution_count": 48,
     "metadata": {},
     "output_type": "execute_result"
    }
   ],
   "source": [
    "df.columns"
   ]
  },
  {
   "cell_type": "markdown",
   "metadata": {
    "deletable": false,
    "editable": false,
    "id": "5ISfbcfY_Zct",
    "tags": [
     "start_task"
    ]
   },
   "source": [
    "### Пропуски значений\n",
    "\n",
    "**Задание 9**\n",
    "\n",
    "Сначала посчитайте, сколько в таблице пропущенных значений. Для этого достаточно двух методов `pandas`:"
   ]
  },
  {
   "cell_type": "code",
   "execution_count": 49,
   "metadata": {
    "deletable": false,
    "id": "RskX29qr_Zct"
   },
   "outputs": [
    {
     "data": {
      "text/plain": [
       "user_id       0\n",
       "track      1231\n",
       "artist     7203\n",
       "genre      1198\n",
       "city          0\n",
       "time          0\n",
       "day           0\n",
       "dtype: int64"
      ]
     },
     "execution_count": 49,
     "metadata": {},
     "output_type": "execute_result"
    }
   ],
   "source": [
    "df.isna().sum()"
   ]
  },
  {
   "cell_type": "markdown",
   "metadata": {
    "deletable": false,
    "editable": false,
    "id": "qubhgnlO_Zct"
   },
   "source": [
    "Не все пропущенные значения влияют на исследование. Так в `track` и `artist` пропуски не важны для вашей работы. Достаточно заменить их явными обозначениями.\n",
    "\n",
    "Но пропуски в `genre` могут помешать сравнению музыкальных вкусов в Москве и Санкт-Петербурге. На практике было бы правильно установить причину пропусков и восстановить данные. Такой возможности нет в учебном проекте. Придётся:\n",
    "* заполнить и эти пропуски явными обозначениями,\n",
    "* оценить, насколько они повредят расчётам. "
   ]
  },
  {
   "cell_type": "markdown",
   "metadata": {
    "deletable": false,
    "editable": false,
    "id": "fSv2laPA_Zct",
    "tags": [
     "start_task"
    ]
   },
   "source": [
    "**Задание 10**\n",
    "\n",
    "Замените пропущенные значения в столбцах `track`, `artist` и `genre` на строку `'unknown'`. Для этого создайте список `columns_to_replace`, переберите его элементы циклом `for` и для каждого столбца выполните замену пропущенных значений:"
   ]
  },
  {
   "cell_type": "code",
   "execution_count": 50,
   "metadata": {
    "deletable": false,
    "id": "KplB5qWs_Zct"
   },
   "outputs": [],
   "source": [
    "columns_to_replace = ['track', 'artist', 'genre']\n",
    "for column in columns_to_replace:\n",
    "    df[column] = df[column].fillna('unknown')"
   ]
  },
  {
   "cell_type": "markdown",
   "metadata": {
    "deletable": false,
    "editable": false,
    "id": "Ilsm-MZo_Zct",
    "tags": [
     "start_task"
    ]
   },
   "source": [
    "**Задание 11**\n",
    "\n",
    "Убедитесь, что в таблице не осталось пропусков. Для этого ещё раз посчитайте пропущенные значения."
   ]
  },
  {
   "cell_type": "code",
   "execution_count": 51,
   "metadata": {
    "deletable": false,
    "id": "Tq4nYRX4_Zct"
   },
   "outputs": [
    {
     "data": {
      "text/plain": [
       "user_id    0\n",
       "track      0\n",
       "artist     0\n",
       "genre      0\n",
       "city       0\n",
       "time       0\n",
       "day        0\n",
       "dtype: int64"
      ]
     },
     "execution_count": 51,
     "metadata": {},
     "output_type": "execute_result"
    }
   ],
   "source": [
    "df.isna().sum()"
   ]
  },
  {
   "cell_type": "markdown",
   "metadata": {
    "deletable": false,
    "editable": false,
    "id": "BWKRtBJ3_Zct",
    "tags": [
     "start_task"
    ]
   },
   "source": [
    "### Дубликаты\n",
    "\n",
    "**Задание 12**\n",
    "\n",
    "Посчитайте явные дубликаты в таблице одной командой:"
   ]
  },
  {
   "cell_type": "code",
   "execution_count": 52,
   "metadata": {
    "deletable": false,
    "id": "36eES_S0_Zct"
   },
   "outputs": [
    {
     "data": {
      "text/plain": [
       "3826"
      ]
     },
     "execution_count": 52,
     "metadata": {},
     "output_type": "execute_result"
    }
   ],
   "source": [
    "df.duplicated().sum()"
   ]
  },
  {
   "cell_type": "markdown",
   "metadata": {
    "deletable": false,
    "editable": false,
    "id": "Ot25h6XR_Zct",
    "tags": [
     "start_task"
    ]
   },
   "source": [
    "**Задание 13**\n",
    "\n",
    "Вызовите специальный метод `pandas`, чтобы удалить явные дубликаты:"
   ]
  },
  {
   "cell_type": "code",
   "execution_count": 53,
   "metadata": {
    "deletable": false,
    "id": "exFHq6tt_Zct"
   },
   "outputs": [],
   "source": [
    "df = df.drop_duplicates()"
   ]
  },
  {
   "cell_type": "markdown",
   "metadata": {
    "deletable": false,
    "editable": false,
    "id": "Im2YwBEG_Zct",
    "tags": [
     "start_task"
    ]
   },
   "source": [
    "**Задание 14**\n",
    "\n",
    "Ещё раз посчитайте явные дубликаты в таблице — убедитесь, что полностью от них избавились:"
   ]
  },
  {
   "cell_type": "code",
   "execution_count": 54,
   "metadata": {
    "deletable": false,
    "id": "-8PuNWQ0_Zct"
   },
   "outputs": [
    {
     "data": {
      "text/plain": [
       "0"
      ]
     },
     "execution_count": 54,
     "metadata": {},
     "output_type": "execute_result"
    }
   ],
   "source": [
    "df.duplicated().sum()"
   ]
  },
  {
   "cell_type": "markdown",
   "metadata": {
    "deletable": false,
    "editable": false,
    "id": "QlFBsxAr_Zct"
   },
   "source": [
    "Теперь избавьтесь от неявных дубликатов в колонке `genre`. Например, название одного и того же жанра может быть записано немного по-разному. Такие ошибки тоже повлияют на результат исследования."
   ]
  },
  {
   "cell_type": "markdown",
   "metadata": {
    "deletable": false,
    "editable": false,
    "id": "eSjWwsOh_Zct",
    "tags": [
     "start_task"
    ]
   },
   "source": [
    "**Задание 15**\n",
    "\n",
    "Выведите на экран список уникальных названий жанров, отсортированный в алфавитном порядке. Для этого:\n",
    "* извлеките нужный столбец датафрейма, \n",
    "* примените к нему метод сортировки,\n",
    "* для отсортированного столбца вызовите метод, который вернёт уникальные значения из столбца."
   ]
  },
  {
   "cell_type": "code",
   "execution_count": 55,
   "metadata": {
    "deletable": false,
    "id": "JIUcqzZN_Zct"
   },
   "outputs": [
    {
     "data": {
      "text/plain": [
       "array(['acid', 'acoustic', 'action', 'adult', 'africa', 'afrikaans',\n",
       "       'alternative', 'alternativepunk', 'ambient', 'americana',\n",
       "       'animated', 'anime', 'arabesk', 'arabic', 'arena',\n",
       "       'argentinetango', 'art', 'audiobook', 'author', 'avantgarde',\n",
       "       'axé', 'baile', 'balkan', 'beats', 'bigroom', 'black', 'bluegrass',\n",
       "       'blues', 'bollywood', 'bossa', 'brazilian', 'breakbeat', 'breaks',\n",
       "       'broadway', 'cantautori', 'cantopop', 'canzone', 'caribbean',\n",
       "       'caucasian', 'celtic', 'chamber', 'chanson', 'children', 'chill',\n",
       "       'chinese', 'choral', 'christian', 'christmas', 'classical',\n",
       "       'classicmetal', 'club', 'colombian', 'comedy', 'conjazz',\n",
       "       'contemporary', 'country', 'cuban', 'dance', 'dancehall',\n",
       "       'dancepop', 'dark', 'death', 'deep', 'deutschrock', 'deutschspr',\n",
       "       'dirty', 'disco', 'dnb', 'documentary', 'downbeat', 'downtempo',\n",
       "       'drum', 'dub', 'dubstep', 'eastern', 'easy', 'electronic',\n",
       "       'electropop', 'emo', 'entehno', 'epicmetal', 'estrada', 'ethnic',\n",
       "       'eurofolk', 'european', 'experimental', 'extrememetal', 'fado',\n",
       "       'fairytail', 'film', 'fitness', 'flamenco', 'folk', 'folklore',\n",
       "       'folkmetal', 'folkrock', 'folktronica', 'forró', 'frankreich',\n",
       "       'französisch', 'french', 'funk', 'future', 'gangsta', 'garage',\n",
       "       'german', 'ghazal', 'gitarre', 'glitch', 'gospel', 'gothic',\n",
       "       'grime', 'grunge', 'gypsy', 'handsup', \"hard'n'heavy\", 'hardcore',\n",
       "       'hardstyle', 'hardtechno', 'hip', 'hip-hop', 'hiphop',\n",
       "       'historisch', 'holiday', 'hop', 'horror', 'house', 'hymn', 'idm',\n",
       "       'independent', 'indian', 'indie', 'indipop', 'industrial',\n",
       "       'inspirational', 'instrumental', 'international', 'irish', 'jam',\n",
       "       'japanese', 'jazz', 'jewish', 'jpop', 'jungle', 'k-pop',\n",
       "       'karadeniz', 'karaoke', 'kayokyoku', 'korean', 'laiko', 'latin',\n",
       "       'latino', 'leftfield', 'local', 'lounge', 'loungeelectronic',\n",
       "       'lovers', 'malaysian', 'mandopop', 'marschmusik', 'meditative',\n",
       "       'mediterranean', 'melodic', 'metal', 'metalcore', 'mexican',\n",
       "       'middle', 'minimal', 'miscellaneous', 'modern', 'mood', 'mpb',\n",
       "       'muslim', 'native', 'neoklassik', 'neue', 'new', 'newage',\n",
       "       'newwave', 'nu', 'nujazz', 'numetal', 'oceania', 'old', 'opera',\n",
       "       'orchestral', 'other', 'piano', 'podcasts', 'pop', 'popdance',\n",
       "       'popelectronic', 'popeurodance', 'poprussian', 'post',\n",
       "       'posthardcore', 'postrock', 'power', 'progmetal', 'progressive',\n",
       "       'psychedelic', 'punjabi', 'punk', 'quebecois', 'ragga', 'ram',\n",
       "       'rancheras', 'rap', 'rave', 'reggae', 'reggaeton', 'regional',\n",
       "       'relax', 'religious', 'retro', 'rhythm', 'rnb', 'rnr', 'rock',\n",
       "       'rockabilly', 'rockalternative', 'rockindie', 'rockother',\n",
       "       'romance', 'roots', 'ruspop', 'rusrap', 'rusrock', 'russian',\n",
       "       'salsa', 'samba', 'scenic', 'schlager', 'self', 'sertanejo',\n",
       "       'shanson', 'shoegazing', 'showtunes', 'singer', 'ska', 'skarock',\n",
       "       'slow', 'smooth', 'soft', 'soul', 'soulful', 'sound', 'soundtrack',\n",
       "       'southern', 'specialty', 'speech', 'spiritual', 'sport',\n",
       "       'stonerrock', 'surf', 'swing', 'synthpop', 'synthrock',\n",
       "       'sängerportrait', 'tango', 'tanzorchester', 'taraftar', 'tatar',\n",
       "       'tech', 'techno', 'teen', 'thrash', 'top', 'traditional',\n",
       "       'tradjazz', 'trance', 'tribal', 'trip', 'triphop', 'tropical',\n",
       "       'türk', 'türkçe', 'ukrrock', 'unknown', 'urban', 'uzbek',\n",
       "       'variété', 'vi', 'videogame', 'vocal', 'western', 'world',\n",
       "       'worldbeat', 'ïîï', 'электроника'], dtype=object)"
      ]
     },
     "execution_count": 55,
     "metadata": {},
     "output_type": "execute_result"
    }
   ],
   "source": [
    "df['genre'].sort_values().unique()"
   ]
  },
  {
   "cell_type": "markdown",
   "metadata": {
    "deletable": false,
    "editable": false,
    "id": "qej-Qmuo_Zct",
    "tags": [
     "start_task"
    ]
   },
   "source": [
    "**Задание 16**\n",
    "\n",
    "Просмотрите список и найдите неявные дубликаты названия `hiphop`. Это могут быть названия с ошибками или альтернативные названия того же жанра.\n",
    "\n",
    "Вы увидите следующие неявные дубликаты:\n",
    "* *hip*,\n",
    "* *hop*,\n",
    "* *hip-hop*.\n",
    "\n",
    "Чтобы очистить от них таблицу используйте метод `replace()` с двумя аргументами: списком строк-дубликатов (включащий *hip*, *hop* и *hip-hop*) и строкой с правильным значением. Вам нужно исправить колонку `genre` в таблице `df`: заменить каждое значение из списка дубликатов на верное. Вместо `hip`, `hop` и `hip-hop` в таблице должно быть значение `hiphop`:"
   ]
  },
  {
   "cell_type": "code",
   "execution_count": 56,
   "metadata": {
    "deletable": false,
    "id": "ErNDkmns_Zct"
   },
   "outputs": [],
   "source": [
    "genre_replace = ['hip', 'hop', 'hip-hop']\n",
    "df['genre'] = df['genre'].replace(genre_replace, 'hiphop')"
   ]
  },
  {
   "cell_type": "markdown",
   "metadata": {
    "deletable": false,
    "editable": false,
    "id": "zQKF16_RG15m",
    "tags": [
     "start_task"
    ]
   },
   "source": [
    "**Задание 17**\n",
    "\n",
    "Проверьте, что заменили неправильные названия:\n",
    "\n",
    "*   hip\n",
    "*   hop\n",
    "*   hip-hop\n",
    "\n",
    "Выведите отсортированный список уникальных значений столбца `genre`:"
   ]
  },
  {
   "cell_type": "code",
   "execution_count": 57,
   "metadata": {
    "deletable": false,
    "id": "wvixALnFG15m"
   },
   "outputs": [
    {
     "data": {
      "text/plain": [
       "array(['acid', 'acoustic', 'action', 'adult', 'africa', 'afrikaans',\n",
       "       'alternative', 'alternativepunk', 'ambient', 'americana',\n",
       "       'animated', 'anime', 'arabesk', 'arabic', 'arena',\n",
       "       'argentinetango', 'art', 'audiobook', 'author', 'avantgarde',\n",
       "       'axé', 'baile', 'balkan', 'beats', 'bigroom', 'black', 'bluegrass',\n",
       "       'blues', 'bollywood', 'bossa', 'brazilian', 'breakbeat', 'breaks',\n",
       "       'broadway', 'cantautori', 'cantopop', 'canzone', 'caribbean',\n",
       "       'caucasian', 'celtic', 'chamber', 'chanson', 'children', 'chill',\n",
       "       'chinese', 'choral', 'christian', 'christmas', 'classical',\n",
       "       'classicmetal', 'club', 'colombian', 'comedy', 'conjazz',\n",
       "       'contemporary', 'country', 'cuban', 'dance', 'dancehall',\n",
       "       'dancepop', 'dark', 'death', 'deep', 'deutschrock', 'deutschspr',\n",
       "       'dirty', 'disco', 'dnb', 'documentary', 'downbeat', 'downtempo',\n",
       "       'drum', 'dub', 'dubstep', 'eastern', 'easy', 'electronic',\n",
       "       'electropop', 'emo', 'entehno', 'epicmetal', 'estrada', 'ethnic',\n",
       "       'eurofolk', 'european', 'experimental', 'extrememetal', 'fado',\n",
       "       'fairytail', 'film', 'fitness', 'flamenco', 'folk', 'folklore',\n",
       "       'folkmetal', 'folkrock', 'folktronica', 'forró', 'frankreich',\n",
       "       'französisch', 'french', 'funk', 'future', 'gangsta', 'garage',\n",
       "       'german', 'ghazal', 'gitarre', 'glitch', 'gospel', 'gothic',\n",
       "       'grime', 'grunge', 'gypsy', 'handsup', \"hard'n'heavy\", 'hardcore',\n",
       "       'hardstyle', 'hardtechno', 'hiphop', 'historisch', 'holiday',\n",
       "       'horror', 'house', 'hymn', 'idm', 'independent', 'indian', 'indie',\n",
       "       'indipop', 'industrial', 'inspirational', 'instrumental',\n",
       "       'international', 'irish', 'jam', 'japanese', 'jazz', 'jewish',\n",
       "       'jpop', 'jungle', 'k-pop', 'karadeniz', 'karaoke', 'kayokyoku',\n",
       "       'korean', 'laiko', 'latin', 'latino', 'leftfield', 'local',\n",
       "       'lounge', 'loungeelectronic', 'lovers', 'malaysian', 'mandopop',\n",
       "       'marschmusik', 'meditative', 'mediterranean', 'melodic', 'metal',\n",
       "       'metalcore', 'mexican', 'middle', 'minimal', 'miscellaneous',\n",
       "       'modern', 'mood', 'mpb', 'muslim', 'native', 'neoklassik', 'neue',\n",
       "       'new', 'newage', 'newwave', 'nu', 'nujazz', 'numetal', 'oceania',\n",
       "       'old', 'opera', 'orchestral', 'other', 'piano', 'podcasts', 'pop',\n",
       "       'popdance', 'popelectronic', 'popeurodance', 'poprussian', 'post',\n",
       "       'posthardcore', 'postrock', 'power', 'progmetal', 'progressive',\n",
       "       'psychedelic', 'punjabi', 'punk', 'quebecois', 'ragga', 'ram',\n",
       "       'rancheras', 'rap', 'rave', 'reggae', 'reggaeton', 'regional',\n",
       "       'relax', 'religious', 'retro', 'rhythm', 'rnb', 'rnr', 'rock',\n",
       "       'rockabilly', 'rockalternative', 'rockindie', 'rockother',\n",
       "       'romance', 'roots', 'ruspop', 'rusrap', 'rusrock', 'russian',\n",
       "       'salsa', 'samba', 'scenic', 'schlager', 'self', 'sertanejo',\n",
       "       'shanson', 'shoegazing', 'showtunes', 'singer', 'ska', 'skarock',\n",
       "       'slow', 'smooth', 'soft', 'soul', 'soulful', 'sound', 'soundtrack',\n",
       "       'southern', 'specialty', 'speech', 'spiritual', 'sport',\n",
       "       'stonerrock', 'surf', 'swing', 'synthpop', 'synthrock',\n",
       "       'sängerportrait', 'tango', 'tanzorchester', 'taraftar', 'tatar',\n",
       "       'tech', 'techno', 'teen', 'thrash', 'top', 'traditional',\n",
       "       'tradjazz', 'trance', 'tribal', 'trip', 'triphop', 'tropical',\n",
       "       'türk', 'türkçe', 'ukrrock', 'unknown', 'urban', 'uzbek',\n",
       "       'variété', 'vi', 'videogame', 'vocal', 'western', 'world',\n",
       "       'worldbeat', 'ïîï', 'электроника'], dtype=object)"
      ]
     },
     "execution_count": 57,
     "metadata": {},
     "output_type": "execute_result"
    }
   ],
   "source": [
    "df['genre'].sort_values().unique()"
   ]
  },
  {
   "cell_type": "markdown",
   "metadata": {},
   "source": [
    "**Дополнение**\n",
    "\n",
    "При повторном просмотре списка был найден неявный дубликат названия `electronic`. Это название того же жанра на кириллице: `электроника`.\n",
    "\n",
    "Чтобы очистить таблицу так же используем метод `replace()` с двумя аргументами."
   ]
  },
  {
   "cell_type": "code",
   "execution_count": 58,
   "metadata": {},
   "outputs": [],
   "source": [
    "df['genre'] = df['genre'].replace('электроника', 'electronic')"
   ]
  },
  {
   "cell_type": "markdown",
   "metadata": {},
   "source": [
    "Проверяем, что заменили неправильные названия и выведим отсортированный список уникальных значений столбца `genre`:"
   ]
  },
  {
   "cell_type": "code",
   "execution_count": 59,
   "metadata": {},
   "outputs": [
    {
     "data": {
      "text/plain": [
       "array(['acid', 'acoustic', 'action', 'adult', 'africa', 'afrikaans',\n",
       "       'alternative', 'alternativepunk', 'ambient', 'americana',\n",
       "       'animated', 'anime', 'arabesk', 'arabic', 'arena',\n",
       "       'argentinetango', 'art', 'audiobook', 'author', 'avantgarde',\n",
       "       'axé', 'baile', 'balkan', 'beats', 'bigroom', 'black', 'bluegrass',\n",
       "       'blues', 'bollywood', 'bossa', 'brazilian', 'breakbeat', 'breaks',\n",
       "       'broadway', 'cantautori', 'cantopop', 'canzone', 'caribbean',\n",
       "       'caucasian', 'celtic', 'chamber', 'chanson', 'children', 'chill',\n",
       "       'chinese', 'choral', 'christian', 'christmas', 'classical',\n",
       "       'classicmetal', 'club', 'colombian', 'comedy', 'conjazz',\n",
       "       'contemporary', 'country', 'cuban', 'dance', 'dancehall',\n",
       "       'dancepop', 'dark', 'death', 'deep', 'deutschrock', 'deutschspr',\n",
       "       'dirty', 'disco', 'dnb', 'documentary', 'downbeat', 'downtempo',\n",
       "       'drum', 'dub', 'dubstep', 'eastern', 'easy', 'electronic',\n",
       "       'electropop', 'emo', 'entehno', 'epicmetal', 'estrada', 'ethnic',\n",
       "       'eurofolk', 'european', 'experimental', 'extrememetal', 'fado',\n",
       "       'fairytail', 'film', 'fitness', 'flamenco', 'folk', 'folklore',\n",
       "       'folkmetal', 'folkrock', 'folktronica', 'forró', 'frankreich',\n",
       "       'französisch', 'french', 'funk', 'future', 'gangsta', 'garage',\n",
       "       'german', 'ghazal', 'gitarre', 'glitch', 'gospel', 'gothic',\n",
       "       'grime', 'grunge', 'gypsy', 'handsup', \"hard'n'heavy\", 'hardcore',\n",
       "       'hardstyle', 'hardtechno', 'hiphop', 'historisch', 'holiday',\n",
       "       'horror', 'house', 'hymn', 'idm', 'independent', 'indian', 'indie',\n",
       "       'indipop', 'industrial', 'inspirational', 'instrumental',\n",
       "       'international', 'irish', 'jam', 'japanese', 'jazz', 'jewish',\n",
       "       'jpop', 'jungle', 'k-pop', 'karadeniz', 'karaoke', 'kayokyoku',\n",
       "       'korean', 'laiko', 'latin', 'latino', 'leftfield', 'local',\n",
       "       'lounge', 'loungeelectronic', 'lovers', 'malaysian', 'mandopop',\n",
       "       'marschmusik', 'meditative', 'mediterranean', 'melodic', 'metal',\n",
       "       'metalcore', 'mexican', 'middle', 'minimal', 'miscellaneous',\n",
       "       'modern', 'mood', 'mpb', 'muslim', 'native', 'neoklassik', 'neue',\n",
       "       'new', 'newage', 'newwave', 'nu', 'nujazz', 'numetal', 'oceania',\n",
       "       'old', 'opera', 'orchestral', 'other', 'piano', 'podcasts', 'pop',\n",
       "       'popdance', 'popelectronic', 'popeurodance', 'poprussian', 'post',\n",
       "       'posthardcore', 'postrock', 'power', 'progmetal', 'progressive',\n",
       "       'psychedelic', 'punjabi', 'punk', 'quebecois', 'ragga', 'ram',\n",
       "       'rancheras', 'rap', 'rave', 'reggae', 'reggaeton', 'regional',\n",
       "       'relax', 'religious', 'retro', 'rhythm', 'rnb', 'rnr', 'rock',\n",
       "       'rockabilly', 'rockalternative', 'rockindie', 'rockother',\n",
       "       'romance', 'roots', 'ruspop', 'rusrap', 'rusrock', 'russian',\n",
       "       'salsa', 'samba', 'scenic', 'schlager', 'self', 'sertanejo',\n",
       "       'shanson', 'shoegazing', 'showtunes', 'singer', 'ska', 'skarock',\n",
       "       'slow', 'smooth', 'soft', 'soul', 'soulful', 'sound', 'soundtrack',\n",
       "       'southern', 'specialty', 'speech', 'spiritual', 'sport',\n",
       "       'stonerrock', 'surf', 'swing', 'synthpop', 'synthrock',\n",
       "       'sängerportrait', 'tango', 'tanzorchester', 'taraftar', 'tatar',\n",
       "       'tech', 'techno', 'teen', 'thrash', 'top', 'traditional',\n",
       "       'tradjazz', 'trance', 'tribal', 'trip', 'triphop', 'tropical',\n",
       "       'türk', 'türkçe', 'ukrrock', 'unknown', 'urban', 'uzbek',\n",
       "       'variété', 'vi', 'videogame', 'vocal', 'western', 'world',\n",
       "       'worldbeat', 'ïîï'], dtype=object)"
      ]
     },
     "execution_count": 59,
     "metadata": {},
     "output_type": "execute_result"
    }
   ],
   "source": [
    "df['genre'].sort_values().unique()"
   ]
  },
  {
   "cell_type": "markdown",
   "metadata": {
    "deletable": false,
    "editable": false,
    "id": "jz6a9-7HQUDd"
   },
   "source": [
    "**Выводы**\n",
    "\n",
    "Предобработка обнаружила три проблемы в данных:\n",
    "\n",
    "- нарушения в стиле заголовков,\n",
    "- пропущенные значения,\n",
    "- дубликаты — явные и неявные.\n",
    "\n",
    "Вы исправили заголовки, чтобы упростить работу с таблицей. Без дубликатов исследование станет более точным.\n",
    "\n",
    "Пропущенные значения вы заменили на `'unknown'`. Ещё предстоит увидеть, не повредят ли исследованию пропуски в колонке `genre`.\n",
    "\n",
    "Теперь можно перейти к проверке гипотез. "
   ]
  },
  {
   "cell_type": "markdown",
   "metadata": {
    "deletable": false,
    "editable": false,
    "id": "WttZHXH0SqKk"
   },
   "source": [
    "## Проверка гипотез"
   ]
  },
  {
   "cell_type": "markdown",
   "metadata": {
    "deletable": false,
    "editable": false,
    "id": "Im936VVi_Zcu"
   },
   "source": [
    "### Сравнение поведения пользователей двух столиц"
   ]
  },
  {
   "cell_type": "markdown",
   "metadata": {
    "deletable": false,
    "editable": false,
    "id": "nwt_MuaL_Zcu"
   },
   "source": [
    "Первая гипотеза утверждает, что пользователи по-разному слушают музыку в Москве и Санкт-Петербурге. Проверьте это предположение по данным о трёх днях недели — понедельнике, среде и пятнице. Для этого:\n",
    "\n",
    "* Разделите пользователей Москвы и Санкт-Петербурга\n",
    "* Сравните, сколько треков послушала каждая группа пользователей в понедельник, среду и пятницу.\n"
   ]
  },
  {
   "cell_type": "markdown",
   "metadata": {
    "deletable": false,
    "editable": false,
    "id": "8Dw_YMmT_Zcu",
    "tags": [
     "start_task"
    ]
   },
   "source": [
    "**Задание 18**\n",
    "\n",
    "Для тренировки сначала выполните каждый из расчётов по отдельности. \n",
    "\n",
    "Оцените активность пользователей в каждом городе. Сгруппируйте данные по городу и посчитайте прослушивания в каждой группе.\n",
    "\n"
   ]
  },
  {
   "cell_type": "code",
   "execution_count": 60,
   "metadata": {
    "deletable": false,
    "id": "0_Qs96oh_Zcu"
   },
   "outputs": [
    {
     "data": {
      "text/plain": [
       "city\n",
       "Moscow              42741\n",
       "Saint-Petersburg    18512\n",
       "Name: user_id, dtype: int64"
      ]
     },
     "execution_count": 60,
     "metadata": {},
     "output_type": "execute_result"
    }
   ],
   "source": [
    "df.groupby('city')['user_id'].count()"
   ]
  },
  {
   "cell_type": "markdown",
   "metadata": {
    "deletable": false,
    "editable": false,
    "id": "dzli3w8o_Zcu",
    "tags": [
     "start_task"
    ]
   },
   "source": [
    "В Москве прослушиваний больше, чем в Петербурге. Из этого не следует, что московские пользователи чаще слушают музыку. Просто самих пользователей в Москве больше.\n",
    "\n",
    "**Задание 19**\n",
    "\n",
    "Теперь сгруппируйте данные по дню недели и подсчитайте прослушивания в понедельник, среду и пятницу. Учтите, что в данных есть информация только о прослушиваниях только за эти дни.\n"
   ]
  },
  {
   "cell_type": "code",
   "execution_count": 61,
   "metadata": {
    "deletable": false,
    "id": "uZMKjiJz_Zcu"
   },
   "outputs": [
    {
     "data": {
      "text/plain": [
       "day\n",
       "Friday       21840\n",
       "Monday       21354\n",
       "Wednesday    18059\n",
       "Name: user_id, dtype: int64"
      ]
     },
     "execution_count": 61,
     "metadata": {},
     "output_type": "execute_result"
    }
   ],
   "source": [
    "df.groupby('day')['user_id'].count()"
   ]
  },
  {
   "cell_type": "markdown",
   "metadata": {
    "deletable": false,
    "editable": false,
    "id": "cC2tNrlL_Zcu"
   },
   "source": [
    "В среднем пользователи из двух городов менее активны по средам. Но картина может измениться, если рассмотреть каждый город в отдельности."
   ]
  },
  {
   "cell_type": "markdown",
   "metadata": {
    "deletable": false,
    "editable": false,
    "id": "POzs8bGa_Zcu",
    "tags": [
     "start_task"
    ]
   },
   "source": [
    "**Задание 20**\n",
    "\n",
    "\n",
    "Вы видели, как работает группировка по городу и по дням недели. Теперь напишите функцию, которая объединит два эти расчёта.\n",
    "\n",
    "Создайте функцию `number_tracks()`, которая посчитает прослушивания для заданного дня и города. Ей понадобятся два параметра:\n",
    "* день недели,\n",
    "* название города.\n",
    "\n",
    "В функции сохраните в переменную строки исходной таблицы, у которых значение:\n",
    "  * в колонке `day` равно параметру `day`,\n",
    "  * в колонке `city` равно параметру `city`.\n",
    "\n",
    "Для этого примените последовательную фильтрацию с логической индексацией (или сложные логические выражения в одну строку, если вы уже знакомы с ними).\n",
    "\n",
    "Затем посчитайте значения в столбце `user_id` получившейся таблицы. Результат сохраните в новую переменную. Верните эту переменную из функции."
   ]
  },
  {
   "cell_type": "code",
   "execution_count": 62,
   "metadata": {
    "deletable": false,
    "id": "Nz3GdQB1_Zcu"
   },
   "outputs": [],
   "source": [
    "def number_tracks (day, city):\n",
    "    track_list = df[df['day'] == day]\n",
    "    track_list = track_list[track_list['city'] == city]\n",
    "    track_list_count = track_list['user_id'].count()\n",
    "    return track_list_count"
   ]
  },
  {
   "cell_type": "markdown",
   "metadata": {
    "deletable": false,
    "editable": false,
    "id": "ytf7xFrFJQ2r",
    "tags": [
     "start_task"
    ]
   },
   "source": [
    "**Задание 21**\n",
    "\n",
    "Вызовите `number_tracks()` шесть раз, меняя значение параметров — так, чтобы получить данные для каждого города в каждый из трёх дней."
   ]
  },
  {
   "cell_type": "code",
   "execution_count": 63,
   "metadata": {
    "deletable": false,
    "id": "rJcRATNQ_Zcu"
   },
   "outputs": [
    {
     "data": {
      "text/plain": [
       "15740"
      ]
     },
     "execution_count": 63,
     "metadata": {},
     "output_type": "execute_result"
    }
   ],
   "source": [
    "number_tracks('Monday', 'Moscow')"
   ]
  },
  {
   "cell_type": "code",
   "execution_count": 64,
   "metadata": {
    "deletable": false,
    "id": "hq_ncZ5T_Zcu"
   },
   "outputs": [
    {
     "data": {
      "text/plain": [
       "5614"
      ]
     },
     "execution_count": 64,
     "metadata": {},
     "output_type": "execute_result"
    }
   ],
   "source": [
    "number_tracks('Monday', 'Saint-Petersburg')"
   ]
  },
  {
   "cell_type": "code",
   "execution_count": 65,
   "metadata": {
    "deletable": false,
    "id": "_NTy2VPU_Zcu"
   },
   "outputs": [
    {
     "data": {
      "text/plain": [
       "11056"
      ]
     },
     "execution_count": 65,
     "metadata": {},
     "output_type": "execute_result"
    }
   ],
   "source": [
    "number_tracks('Wednesday', 'Moscow')"
   ]
  },
  {
   "cell_type": "code",
   "execution_count": 66,
   "metadata": {
    "deletable": false,
    "id": "j2y3TAwo_Zcu"
   },
   "outputs": [
    {
     "data": {
      "text/plain": [
       "7003"
      ]
     },
     "execution_count": 66,
     "metadata": {},
     "output_type": "execute_result"
    }
   ],
   "source": [
    "number_tracks('Wednesday', 'Saint-Petersburg')"
   ]
  },
  {
   "cell_type": "code",
   "execution_count": 67,
   "metadata": {
    "deletable": false,
    "id": "vYDw5u_K_Zcu"
   },
   "outputs": [
    {
     "data": {
      "text/plain": [
       "15945"
      ]
     },
     "execution_count": 67,
     "metadata": {},
     "output_type": "execute_result"
    }
   ],
   "source": [
    "number_tracks('Friday', 'Moscow')"
   ]
  },
  {
   "cell_type": "code",
   "execution_count": 68,
   "metadata": {
    "deletable": false,
    "id": "8_yzFtW3_Zcu"
   },
   "outputs": [
    {
     "data": {
      "text/plain": [
       "5895"
      ]
     },
     "execution_count": 68,
     "metadata": {},
     "output_type": "execute_result"
    }
   ],
   "source": [
    "number_tracks('Friday', 'Saint-Petersburg')"
   ]
  },
  {
   "cell_type": "markdown",
   "metadata": {
    "deletable": false,
    "editable": false,
    "id": "7QXffbO-_Zcu",
    "tags": [
     "start_task"
    ]
   },
   "source": [
    "**Задание 22**\n",
    "\n",
    "Создайте c помощью конструктора `pd.DataFrame` таблицу, где\n",
    "* названия колонок — `['city', 'monday', 'wednesday', 'friday']`;\n",
    "* данные — результаты, которые вы получили с помощью `number_tracks`."
   ]
  },
  {
   "cell_type": "code",
   "execution_count": 69,
   "metadata": {
    "deletable": false,
    "id": "APAcLpOr_Zcu"
   },
   "outputs": [],
   "source": [
    "columns = ['city', 'monday', 'wednesday', 'friday']\n",
    "data_m = ['Москва', 15740,  11056, 15945]\n",
    "data_s = ['Санкт-Петербург', 5614, 7003, 5895]\n",
    "info = pd.DataFrame(data=[data_m, data_s], columns=columns)"
   ]
  },
  {
   "cell_type": "markdown",
   "metadata": {
    "deletable": false,
    "editable": false,
    "id": "-EgPIHYu_Zcu"
   },
   "source": [
    "**Выводы**\n",
    "\n",
    "Данные показывают разницу поведения пользователей:\n",
    "\n",
    "- В Москве пик прослушиваний приходится на понедельник и пятницу, а в среду заметен спад.\n",
    "- В Петербурге, наоборот, больше слушают музыку по средам. Активность в понедельник и пятницу здесь почти в равной мере уступает среде.\n",
    "\n",
    "Значит, данные говорят в пользу первой гипотезы."
   ]
  },
  {
   "cell_type": "markdown",
   "metadata": {
    "deletable": false,
    "editable": false,
    "id": "atZAxtq4_Zcu"
   },
   "source": [
    "### Музыка в начале и в конце недели"
   ]
  },
  {
   "cell_type": "markdown",
   "metadata": {
    "deletable": false,
    "editable": false,
    "id": "eXrQqXFH_Zcu"
   },
   "source": [
    "Согласно второй гипотезе, утром в понедельник в Москве преобладают одни жанры, а в Петербурге — другие. Так же и вечером пятницы преобладают разные жанры — в зависимости от города."
   ]
  },
  {
   "cell_type": "markdown",
   "metadata": {
    "deletable": false,
    "editable": false,
    "id": "S8UcW6Hw_Zcu",
    "tags": [
     "start_task"
    ]
   },
   "source": [
    "**Задание 23**\n",
    "\n",
    "Сохраните таблицы с данными в две переменные:\n",
    "* по Москве — в `moscow_general`;\n",
    "* по Санкт-Петербургу — в `spb_general`."
   ]
  },
  {
   "cell_type": "code",
   "execution_count": 70,
   "metadata": {
    "deletable": false,
    "id": "qeaFfM_P_Zcu"
   },
   "outputs": [],
   "source": [
    "moscow_general = df[df['city'] == 'Moscow']"
   ]
  },
  {
   "cell_type": "code",
   "execution_count": 71,
   "metadata": {
    "deletable": false,
    "id": "ORaVRKto_Zcu"
   },
   "outputs": [],
   "source": [
    "spb_general = df[df['city'] == 'Saint-Petersburg']"
   ]
  },
  {
   "cell_type": "markdown",
   "metadata": {
    "deletable": false,
    "id": "MEJV-CX2_Zcu",
    "tags": [
     "start_task"
    ]
   },
   "source": [
    "**Задание 24**\n",
    "\n",
    "Создайте функцию `genre_weekday()` с четырьмя параметрами:\n",
    "* таблица (датафрейм) с данными,\n",
    "* день недели,\n",
    "* начальная временная метка в формате 'hh:mm', \n",
    "* последняя временная метка в формате 'hh:mm'.\n",
    "\n",
    "Функция должна вернуть информацию о топ-10 жанров тех треков, которые прослушивали в указанный день, в промежутке между двумя отметками времени."
   ]
  },
  {
   "cell_type": "code",
   "execution_count": 72,
   "metadata": {
    "deletable": false,
    "id": "laJT9BYl_Zcu"
   },
   "outputs": [],
   "source": [
    "# Объявление функции genre_weekday() с параметрами table, day, time1, time2,\n",
    "# которая возвращает информацию о самых популярных жанрах в указанный день в\n",
    "# заданное время:\n",
    "# 1) в переменную genre_df сохраняются те строки переданного датафрейма table, для\n",
    "#    которых одновременно:\n",
    "#    - значение в столбце day равно значению аргумента day\n",
    "#    - значение в столбце time больше значения аргумента time1\n",
    "#    - значение в столбце time меньше значения аргумента time2\n",
    "#    Используйте последовательную фильтрацию с помощью логической индексации.\n",
    "# 2) сгруппировать датафрейм genre_df по столбцу genre, взять один из его\n",
    "#    столбцов и посчитать методом count() количество записей для каждого из\n",
    "#    присутствующих жанров, получившийся Series записать в переменную\n",
    "#    genre_df_count\n",
    "# 3) отсортировать genre_df_count по убыванию встречаемости и сохранить\n",
    "#    в переменную genre_df_sorted\n",
    "# 4) вернуть Series из 10 первых значений genre_df_sorted, это будут топ-10\n",
    "#    популярных жанров (в указанный день, в заданное время)\n",
    "\n",
    "def genre_weekday(df, day, time1, time2):\n",
    "    # последовательная фильтрация\n",
    "    # оставляем в genre_df только те строки df, у которых день равен day\n",
    "    genre_df = df[df['day'] == day] # ваш код здесь\n",
    "    # оставляем в genre_df только те строки genre_df, у которых время меньше time2\n",
    "    genre_df = genre_df[genre_df['time'] < time2] # ваш код здесь\n",
    "    # оставляем в genre_df только те строки genre_df, у которых время больше time1\n",
    "    genre_df = genre_df[genre_df['time'] > time1]# ваш код здесь\n",
    "    # сгруппируем отфильтрованный датафрейм по столбцу с названиями жанров, возьмём столбец genre_name и посчитаем кол-во строк для каждого жанра методом count()\n",
    "    genre_df_grouped = genre_df.groupby('genre')['genre'].count()# ваш код здесь\n",
    "    # отсортируем результат по убыванию (чтобы в начале Series оказались самые популярные жанры)\n",
    "    genre_df_sorted = genre_df_grouped.sort_values(ascending=False)# ваш код здесь\n",
    "    # вернём Series с 10 самыми популярными жанрами в указанный отрезок времени заданного дня\n",
    "    return genre_df_sorted[:10]"
   ]
  },
  {
   "cell_type": "markdown",
   "metadata": {
    "deletable": false,
    "editable": false,
    "id": "la2s2_PF_Zcu",
    "tags": [
     "start_task"
    ]
   },
   "source": [
    "**Задание 25**\n",
    "\n",
    "\n",
    "Cравните результаты функции `genre_weekday()` для Москвы и Санкт-Петербурга в понедельник утром (с 7:00 до 11:00) и в пятницу вечером (с 17:00 до 23:00):"
   ]
  },
  {
   "cell_type": "code",
   "execution_count": 73,
   "metadata": {
    "deletable": false,
    "id": "yz7itPUQ_Zcu"
   },
   "outputs": [
    {
     "data": {
      "text/plain": [
       "genre\n",
       "pop            781\n",
       "dance          549\n",
       "electronic     480\n",
       "rock           474\n",
       "hiphop         286\n",
       "ruspop         186\n",
       "world          181\n",
       "rusrap         175\n",
       "alternative    164\n",
       "unknown        161\n",
       "Name: genre, dtype: int64"
      ]
     },
     "execution_count": 73,
     "metadata": {},
     "output_type": "execute_result"
    }
   ],
   "source": [
    "# вызов функции для утра понедельника в Москве (вместо df — таблица moscow_general)\n",
    "# объекты, хранящие время, являются строками и сравниваются как строки\n",
    "# пример вызова: genre_weekday(moscow_general, 'Monday', '07:00', '11:00')\n",
    "genre_weekday(moscow_general, 'Monday', '07:00', '11:00')"
   ]
  },
  {
   "cell_type": "code",
   "execution_count": 74,
   "metadata": {
    "deletable": false,
    "id": "kwUcHPdy_Zcu"
   },
   "outputs": [
    {
     "data": {
      "text/plain": [
       "genre\n",
       "pop            218\n",
       "dance          182\n",
       "rock           162\n",
       "electronic     147\n",
       "hiphop          80\n",
       "ruspop          64\n",
       "alternative     58\n",
       "rusrap          55\n",
       "jazz            44\n",
       "classical       40\n",
       "Name: genre, dtype: int64"
      ]
     },
     "execution_count": 74,
     "metadata": {},
     "output_type": "execute_result"
    }
   ],
   "source": [
    "# вызов функции для утра понедельника в Петербурге (вместо df — таблица spb_general)\n",
    "genre_weekday(spb_general, 'Monday', '07:00', '11:00')"
   ]
  },
  {
   "cell_type": "code",
   "execution_count": 75,
   "metadata": {
    "deletable": false,
    "id": "EzXVRE1o_Zcu"
   },
   "outputs": [
    {
     "data": {
      "text/plain": [
       "genre\n",
       "pop            713\n",
       "rock           517\n",
       "dance          495\n",
       "electronic     482\n",
       "hiphop         273\n",
       "world          208\n",
       "ruspop         170\n",
       "alternative    163\n",
       "classical      163\n",
       "rusrap         142\n",
       "Name: genre, dtype: int64"
      ]
     },
     "execution_count": 75,
     "metadata": {},
     "output_type": "execute_result"
    }
   ],
   "source": [
    "genre_weekday(moscow_general, 'Friday', '17:00', '23:00')"
   ]
  },
  {
   "cell_type": "code",
   "execution_count": 76,
   "metadata": {
    "deletable": false,
    "id": "JZaEKu5v_Zcu"
   },
   "outputs": [
    {
     "data": {
      "text/plain": [
       "genre\n",
       "pop            256\n",
       "electronic     216\n",
       "rock           216\n",
       "dance          210\n",
       "hiphop          97\n",
       "alternative     63\n",
       "jazz            61\n",
       "classical       60\n",
       "rusrap          59\n",
       "world           54\n",
       "Name: genre, dtype: int64"
      ]
     },
     "execution_count": 76,
     "metadata": {},
     "output_type": "execute_result"
    }
   ],
   "source": [
    "genre_weekday(spb_general, 'Friday', '17:00', '23:00')"
   ]
  },
  {
   "cell_type": "markdown",
   "metadata": {
    "deletable": false,
    "editable": false,
    "id": "wrCe4MNX_Zcu"
   },
   "source": [
    "**Выводы**\n",
    "\n",
    "Если сравнить топ-10 жанров в понедельник утром, можно сделать такие выводы:\n",
    "\n",
    "1. В Москве и Петербурге слушают похожую музыку. Единственное отличие — в московский рейтинг вошёл жанр “world”, а в петербургский — джаз и классика.\n",
    "\n",
    "2. В Москве пропущенных значений оказалось так много, что значение `'unknown'` заняло десятое место среди самых популярных жанров. Значит, пропущенные значения занимают существенную долю в данных и угрожают достоверности исследования.\n",
    "\n",
    "Вечер пятницы не меняет эту картину. Некоторые жанры поднимаются немного выше, другие спускаются, но в целом топ-10 остаётся тем же самым.\n",
    "\n",
    "Таким образом, вторая гипотеза подтвердилась лишь частично:\n",
    "* Пользователи слушают похожую музыку в начале недели и в конце.\n",
    "* Разница между Москвой и Петербургом не слишком выражена. В Москве чаще слушают русскую популярную музыку, в Петербурге — джаз.\n",
    "\n",
    "Однако пропуски в данных ставят под сомнение этот результат. В Москве их так много, что рейтинг топ-10 мог бы выглядеть иначе, если бы не утерянные  данные о жанрах."
   ]
  },
  {
   "cell_type": "markdown",
   "metadata": {
    "deletable": false,
    "editable": false,
    "id": "JolODAqr_Zcu"
   },
   "source": [
    "### Жанровые предпочтения в Москве и Петербурге\n",
    "\n",
    "Гипотеза: Петербург — столица рэпа, музыку этого жанра там слушают чаще, чем в Москве.  А Москва — город контрастов, в котором, тем не менее, преобладает поп-музыка."
   ]
  },
  {
   "cell_type": "markdown",
   "metadata": {
    "deletable": false,
    "editable": false,
    "id": "DlegSvaT_Zcu",
    "tags": [
     "start_task"
    ]
   },
   "source": [
    "**Задание 26**\n",
    "\n",
    "Сгруппируйте таблицу `moscow_general` по жанру и посчитайте прослушивания треков каждого жанра методом `count()`. Затем отсортируйте результат в порядке убывания и сохраните его в таблице `moscow_genres`."
   ]
  },
  {
   "cell_type": "code",
   "execution_count": 77,
   "metadata": {
    "deletable": false,
    "id": "r19lIPke_Zcu"
   },
   "outputs": [],
   "source": [
    "moscow_genres = moscow_general.groupby('genre')['genre'].count()\n",
    "moscow_genres = moscow_genres.sort_values(ascending=False)\n",
    "# одной строкой: группировка таблицы moscow_general по столбцу 'genre', \n",
    "# подсчёт числа значений 'genre' в этой группировке методом count(), \n",
    "# сортировка получившегося Series в порядке убывания и сохранение в moscow_genres"
   ]
  },
  {
   "cell_type": "markdown",
   "metadata": {
    "deletable": false,
    "editable": false,
    "id": "6kMuomxTiIr8",
    "tags": [
     "start_task"
    ]
   },
   "source": [
    "**Задание 27**\n",
    "\n",
    "Выведите на экран первые десять строк `moscow_genres`:"
   ]
  },
  {
   "cell_type": "code",
   "execution_count": 78,
   "metadata": {
    "deletable": false,
    "id": "WhCSooF8_Zcv"
   },
   "outputs": [
    {
     "data": {
      "text/plain": [
       "genre\n",
       "pop            5892\n",
       "dance          4435\n",
       "rock           3965\n",
       "electronic     3786\n",
       "hiphop         2096\n",
       "classical      1616\n",
       "world          1432\n",
       "alternative    1379\n",
       "ruspop         1372\n",
       "rusrap         1161\n",
       "Name: genre, dtype: int64"
      ]
     },
     "execution_count": 78,
     "metadata": {},
     "output_type": "execute_result"
    }
   ],
   "source": [
    "# просмотр первых 10 строк moscow_genres\n",
    "moscow_genres.head(10)"
   ]
  },
  {
   "cell_type": "markdown",
   "metadata": {
    "deletable": false,
    "editable": false,
    "id": "cnPG2vnN_Zcv",
    "tags": [
     "start_task"
    ]
   },
   "source": [
    "**Задание 28**\n",
    "\n",
    "\n",
    "Теперь повторите то же и для Петербурга.\n",
    "\n",
    "Сгруппируйте таблицу `spb_general` по жанру. Посчитайте прослушивания треков каждого жанра. Результат отсортируйте в порядке убывания и сохраните в таблице `spb_genres`:\n"
   ]
  },
  {
   "cell_type": "code",
   "execution_count": 79,
   "metadata": {
    "deletable": false,
    "id": "gluLIpE7_Zcv"
   },
   "outputs": [],
   "source": [
    "spb_genres = spb_general.groupby('genre')['genre'].count()\n",
    "spb_genres = spb_genres.sort_values(ascending=False)\n",
    "\n",
    "# одной строкой: группировка таблицы spb_general по столбцу 'genre', \n",
    "# подсчёт числа значений 'genre' в этой группировке методом count(), \n",
    "# сортировка получившегося Series в порядке убывания и сохранение в spb_genres"
   ]
  },
  {
   "cell_type": "markdown",
   "metadata": {
    "deletable": false,
    "editable": false,
    "id": "5Doha_ODgyQ8",
    "tags": [
     "start_task"
    ]
   },
   "source": [
    "**Задание 29**\n",
    "\n",
    "Выведите на экран первые десять строк `spb_genres`:"
   ]
  },
  {
   "cell_type": "code",
   "execution_count": 80,
   "metadata": {
    "deletable": false,
    "id": "uaGJHjVU_Zcv"
   },
   "outputs": [
    {
     "data": {
      "text/plain": [
       "genre\n",
       "pop            2431\n",
       "dance          1932\n",
       "rock           1879\n",
       "electronic     1737\n",
       "hiphop          960\n",
       "alternative     649\n",
       "classical       646\n",
       "rusrap          564\n",
       "ruspop          538\n",
       "world           515\n",
       "Name: genre, dtype: int64"
      ]
     },
     "execution_count": 80,
     "metadata": {},
     "output_type": "execute_result"
    }
   ],
   "source": [
    "spb_genres.head(10)"
   ]
  },
  {
   "cell_type": "markdown",
   "metadata": {
    "deletable": false,
    "editable": false,
    "id": "RY51YJYu_Zcv"
   },
   "source": [
    "**Выводы**"
   ]
  },
  {
   "cell_type": "markdown",
   "metadata": {
    "deletable": false,
    "editable": false,
    "id": "nVhnJEm__Zcv"
   },
   "source": [
    "Гипотеза частично подтвердилась:\n",
    "* Поп-музыка — самый популярный жанр в Москве, как и предполагала гипотеза. Более того, в топ-10 жанров встречается близкий жанр — русская популярная музыка.\n",
    "* Вопреки ожиданиям, рэп одинаково популярен в Москве и Петербурге. \n"
   ]
  },
  {
   "cell_type": "markdown",
   "metadata": {
    "deletable": false,
    "editable": false,
    "id": "ykKQ0N65_Zcv"
   },
   "source": [
    "## Итоги исследования"
   ]
  },
  {
   "cell_type": "markdown",
   "metadata": {
    "deletable": false,
    "editable": false,
    "id": "tjUwbHb3_Zcv"
   },
   "source": [
    "Вы проверили три гипотезы и установили:\n",
    "\n",
    "1. День недели по-разному влияет на активность пользователей в Москве и Петербурге. \n",
    "\n",
    "Первая гипотеза полностью подтвердилась.\n",
    "\n",
    "2. Музыкальные предпочтения не сильно меняются в течение недели — будь то Москва или Петербург. Небольшие различия заметны в начале недели, по понедельникам:\n",
    "* в Москве слушают музыку жанра “world”,\n",
    "* в Петербурге — джаз и классику.\n",
    "\n",
    "Таким образом, вторая гипотеза подтвердилась лишь отчасти. Этот результат мог оказаться иным, если бы не пропуски в данных.\n",
    "\n",
    "3. Во вкусах пользователей Москвы и Петербурга больше общего чем различий. Вопреки ожиданиям, предпочтения жанров в Петербурге напоминают московские.\n",
    "\n",
    "Третья гипотеза не подтвердилась. Если различия в предпочтениях и существуют, на основной массе пользователей они незаметны.\n",
    "\n",
    "**На практике исследования содержат проверки статистических гипотез.**\n",
    "Из данных одного сервиса не всегда можно сделать вывод о всех жителях города.\n",
    "Проверки статистических гипотез покажут, насколько они достоверны, исходя из имеющихся данных. \n",
    "С методами проверок гипотез вы ещё познакомитесь в следующих темах."
   ]
  }
 ],
 "metadata": {
  "ExecuteTimeLog": [
   {
    "duration": 53,
    "start_time": "2022-05-25T08:26:02.769Z"
   },
   {
    "duration": 7,
    "start_time": "2022-05-25T08:27:00.978Z"
   },
   {
    "duration": 39,
    "start_time": "2022-05-25T08:31:17.835Z"
   },
   {
    "duration": 6,
    "start_time": "2022-05-25T08:31:23.903Z"
   },
   {
    "duration": 6,
    "start_time": "2022-05-25T08:31:35.794Z"
   },
   {
    "duration": 6,
    "start_time": "2022-05-25T08:31:54.058Z"
   },
   {
    "duration": 906,
    "start_time": "2022-05-25T08:32:14.944Z"
   },
   {
    "duration": 27,
    "start_time": "2022-05-25T08:32:18.456Z"
   },
   {
    "duration": 3,
    "start_time": "2022-05-25T08:32:55.537Z"
   },
   {
    "duration": 8,
    "start_time": "2022-05-25T08:33:01.414Z"
   },
   {
    "duration": 36,
    "start_time": "2022-05-25T08:33:24.230Z"
   },
   {
    "duration": 815,
    "start_time": "2022-05-25T08:33:54.638Z"
   },
   {
    "duration": 18,
    "start_time": "2022-05-25T08:34:36.639Z"
   },
   {
    "duration": 32,
    "start_time": "2022-05-25T08:35:30.308Z"
   },
   {
    "duration": 5,
    "start_time": "2022-05-25T08:48:04.010Z"
   },
   {
    "duration": 11,
    "start_time": "2022-05-25T08:51:22.257Z"
   },
   {
    "duration": 4,
    "start_time": "2022-05-25T08:51:52.818Z"
   },
   {
    "duration": 9,
    "start_time": "2022-05-25T08:57:15.372Z"
   },
   {
    "duration": 26,
    "start_time": "2022-05-25T08:57:23.882Z"
   },
   {
    "duration": 20,
    "start_time": "2022-05-25T09:09:31.239Z"
   },
   {
    "duration": 38,
    "start_time": "2022-05-25T09:09:59.407Z"
   },
   {
    "duration": 75,
    "start_time": "2022-05-25T09:10:49.974Z"
   },
   {
    "duration": 98,
    "start_time": "2022-05-25T09:13:00.373Z"
   },
   {
    "duration": 82,
    "start_time": "2022-05-25T09:14:00.603Z"
   },
   {
    "duration": 16,
    "start_time": "2022-05-25T09:14:35.816Z"
   },
   {
    "duration": 7,
    "start_time": "2022-05-25T09:15:18.349Z"
   },
   {
    "duration": 11,
    "start_time": "2022-05-25T09:16:42.028Z"
   },
   {
    "duration": 19,
    "start_time": "2022-05-25T09:18:40.409Z"
   },
   {
    "duration": 7,
    "start_time": "2022-05-25T09:19:22.266Z"
   },
   {
    "duration": 7,
    "start_time": "2022-05-25T09:19:51.852Z"
   },
   {
    "duration": 3,
    "start_time": "2022-05-25T09:19:59.832Z"
   },
   {
    "duration": 199,
    "start_time": "2022-05-25T09:19:59.837Z"
   },
   {
    "duration": 11,
    "start_time": "2022-05-25T09:20:00.038Z"
   },
   {
    "duration": 30,
    "start_time": "2022-05-25T09:20:00.051Z"
   },
   {
    "duration": 3,
    "start_time": "2022-05-25T09:20:00.084Z"
   },
   {
    "duration": 34,
    "start_time": "2022-05-25T09:20:00.088Z"
   },
   {
    "duration": 22,
    "start_time": "2022-05-25T09:20:00.123Z"
   },
   {
    "duration": 34,
    "start_time": "2022-05-25T09:20:00.146Z"
   },
   {
    "duration": 80,
    "start_time": "2022-05-25T09:20:00.181Z"
   },
   {
    "duration": 59,
    "start_time": "2022-05-25T09:20:00.263Z"
   },
   {
    "duration": 26,
    "start_time": "2022-05-25T09:20:00.330Z"
   },
   {
    "duration": 74,
    "start_time": "2022-05-25T09:20:00.358Z"
   },
   {
    "duration": 63,
    "start_time": "2022-05-25T09:20:00.434Z"
   },
   {
    "duration": 75,
    "start_time": "2022-05-25T09:20:00.500Z"
   },
   {
    "duration": 2,
    "start_time": "2022-05-25T09:20:00.577Z"
   },
   {
    "duration": 10,
    "start_time": "2022-05-25T09:20:00.580Z"
   },
   {
    "duration": 12,
    "start_time": "2022-05-25T09:20:00.592Z"
   },
   {
    "duration": 24,
    "start_time": "2022-05-25T09:20:00.606Z"
   },
   {
    "duration": 6,
    "start_time": "2022-05-25T09:20:00.632Z"
   },
   {
    "duration": 22,
    "start_time": "2022-05-25T09:20:00.640Z"
   },
   {
    "duration": 12,
    "start_time": "2022-05-25T09:20:00.664Z"
   },
   {
    "duration": 23,
    "start_time": "2022-05-25T09:20:00.677Z"
   },
   {
    "duration": 37,
    "start_time": "2022-05-25T09:20:00.701Z"
   },
   {
    "duration": 28,
    "start_time": "2022-05-25T09:20:00.740Z"
   },
   {
    "duration": 25,
    "start_time": "2022-05-25T09:20:00.770Z"
   },
   {
    "duration": 28,
    "start_time": "2022-05-25T09:20:00.797Z"
   },
   {
    "duration": 10,
    "start_time": "2022-05-25T09:20:00.827Z"
   },
   {
    "duration": 32,
    "start_time": "2022-05-25T09:20:00.839Z"
   },
   {
    "duration": 22,
    "start_time": "2022-05-25T09:20:00.873Z"
   },
   {
    "duration": 54,
    "start_time": "2022-05-25T09:20:00.898Z"
   },
   {
    "duration": 0,
    "start_time": "2022-05-25T09:20:00.953Z"
   },
   {
    "duration": 0,
    "start_time": "2022-05-25T09:20:00.954Z"
   },
   {
    "duration": 0,
    "start_time": "2022-05-25T09:20:00.955Z"
   },
   {
    "duration": 0,
    "start_time": "2022-05-25T09:20:00.956Z"
   },
   {
    "duration": 0,
    "start_time": "2022-05-25T09:20:00.957Z"
   },
   {
    "duration": 0,
    "start_time": "2022-05-25T09:20:00.959Z"
   },
   {
    "duration": 0,
    "start_time": "2022-05-25T09:20:00.960Z"
   },
   {
    "duration": 0,
    "start_time": "2022-05-25T09:20:00.962Z"
   },
   {
    "duration": 11,
    "start_time": "2022-05-25T09:23:27.451Z"
   },
   {
    "duration": 10,
    "start_time": "2022-05-25T09:31:07.987Z"
   },
   {
    "duration": 63,
    "start_time": "2022-05-25T09:32:12.252Z"
   },
   {
    "duration": 10,
    "start_time": "2022-05-25T09:32:21.165Z"
   },
   {
    "duration": 15,
    "start_time": "2022-05-25T09:33:52.466Z"
   },
   {
    "duration": 10,
    "start_time": "2022-05-25T09:37:21.270Z"
   },
   {
    "duration": 8,
    "start_time": "2022-05-25T09:37:41.812Z"
   },
   {
    "duration": 182,
    "start_time": "2022-05-25T09:37:41.825Z"
   },
   {
    "duration": 24,
    "start_time": "2022-05-25T09:37:42.009Z"
   },
   {
    "duration": 28,
    "start_time": "2022-05-25T09:37:42.035Z"
   },
   {
    "duration": 2,
    "start_time": "2022-05-25T09:37:42.066Z"
   },
   {
    "duration": 6,
    "start_time": "2022-05-25T09:37:42.070Z"
   },
   {
    "duration": 8,
    "start_time": "2022-05-25T09:37:42.078Z"
   },
   {
    "duration": 28,
    "start_time": "2022-05-25T09:37:42.087Z"
   },
   {
    "duration": 35,
    "start_time": "2022-05-25T09:37:42.123Z"
   },
   {
    "duration": 18,
    "start_time": "2022-05-25T09:37:42.160Z"
   },
   {
    "duration": 23,
    "start_time": "2022-05-25T09:37:42.180Z"
   },
   {
    "duration": 66,
    "start_time": "2022-05-25T09:37:42.214Z"
   },
   {
    "duration": 78,
    "start_time": "2022-05-25T09:37:42.282Z"
   },
   {
    "duration": 67,
    "start_time": "2022-05-25T09:37:42.363Z"
   },
   {
    "duration": 8,
    "start_time": "2022-05-25T09:37:45.185Z"
   },
   {
    "duration": 61,
    "start_time": "2022-05-25T09:37:54.118Z"
   },
   {
    "duration": 16,
    "start_time": "2022-05-25T09:38:31.538Z"
   },
   {
    "duration": 74,
    "start_time": "2022-05-25T09:39:11.383Z"
   },
   {
    "duration": 5,
    "start_time": "2022-05-25T09:52:13.297Z"
   },
   {
    "duration": 49,
    "start_time": "2022-05-25T09:54:20.601Z"
   },
   {
    "duration": 30,
    "start_time": "2022-05-25T10:06:15.872Z"
   },
   {
    "duration": 50,
    "start_time": "2022-05-25T10:07:03.994Z"
   },
   {
    "duration": 40,
    "start_time": "2022-05-25T10:10:56.914Z"
   },
   {
    "duration": 3,
    "start_time": "2022-05-25T10:11:46.529Z"
   },
   {
    "duration": 198,
    "start_time": "2022-05-25T10:11:46.534Z"
   },
   {
    "duration": 11,
    "start_time": "2022-05-25T10:11:46.734Z"
   },
   {
    "duration": 28,
    "start_time": "2022-05-25T10:11:46.747Z"
   },
   {
    "duration": 2,
    "start_time": "2022-05-25T10:11:46.777Z"
   },
   {
    "duration": 7,
    "start_time": "2022-05-25T10:11:46.781Z"
   },
   {
    "duration": 41,
    "start_time": "2022-05-25T10:11:46.789Z"
   },
   {
    "duration": 13,
    "start_time": "2022-05-25T10:11:46.834Z"
   },
   {
    "duration": 42,
    "start_time": "2022-05-25T10:11:46.849Z"
   },
   {
    "duration": 36,
    "start_time": "2022-05-25T10:11:46.893Z"
   },
   {
    "duration": 24,
    "start_time": "2022-05-25T10:11:46.931Z"
   },
   {
    "duration": 80,
    "start_time": "2022-05-25T10:11:46.957Z"
   },
   {
    "duration": 81,
    "start_time": "2022-05-25T10:11:47.038Z"
   },
   {
    "duration": 63,
    "start_time": "2022-05-25T10:11:47.130Z"
   },
   {
    "duration": 56,
    "start_time": "2022-05-25T10:11:47.195Z"
   },
   {
    "duration": 14,
    "start_time": "2022-05-25T10:11:47.253Z"
   },
   {
    "duration": 70,
    "start_time": "2022-05-25T10:11:47.268Z"
   },
   {
    "duration": 4,
    "start_time": "2022-05-25T10:11:47.340Z"
   },
   {
    "duration": 5,
    "start_time": "2022-05-25T10:11:47.345Z"
   },
   {
    "duration": 39,
    "start_time": "2022-05-25T10:11:50.489Z"
   },
   {
    "duration": 51,
    "start_time": "2022-05-25T10:12:32.037Z"
   },
   {
    "duration": 48,
    "start_time": "2022-05-25T10:12:54.036Z"
   },
   {
    "duration": 48,
    "start_time": "2022-05-25T10:14:28.104Z"
   },
   {
    "duration": 31,
    "start_time": "2022-05-25T10:15:49.429Z"
   },
   {
    "duration": 14,
    "start_time": "2022-05-25T10:17:56.851Z"
   },
   {
    "duration": 18,
    "start_time": "2022-05-25T10:22:38.046Z"
   },
   {
    "duration": 11,
    "start_time": "2022-05-25T16:35:00.897Z"
   },
   {
    "duration": 6,
    "start_time": "2022-05-25T16:35:11.511Z"
   },
   {
    "duration": 3,
    "start_time": "2022-05-25T16:35:14.695Z"
   },
   {
    "duration": 4,
    "start_time": "2022-05-25T16:37:00.448Z"
   },
   {
    "duration": 63,
    "start_time": "2022-05-25T16:40:34.765Z"
   },
   {
    "duration": 10,
    "start_time": "2022-05-25T16:41:09.340Z"
   },
   {
    "duration": 598,
    "start_time": "2022-05-25T16:41:30.589Z"
   },
   {
    "duration": 261,
    "start_time": "2022-05-25T16:41:31.189Z"
   },
   {
    "duration": 25,
    "start_time": "2022-05-25T16:41:31.452Z"
   },
   {
    "duration": 39,
    "start_time": "2022-05-25T16:41:31.479Z"
   },
   {
    "duration": 12,
    "start_time": "2022-05-25T16:41:31.519Z"
   },
   {
    "duration": 38,
    "start_time": "2022-05-25T16:41:31.533Z"
   },
   {
    "duration": 18,
    "start_time": "2022-05-25T16:41:31.573Z"
   },
   {
    "duration": 18,
    "start_time": "2022-05-25T16:41:31.593Z"
   },
   {
    "duration": 40,
    "start_time": "2022-05-25T16:41:31.612Z"
   },
   {
    "duration": 42,
    "start_time": "2022-05-25T16:41:31.654Z"
   },
   {
    "duration": 34,
    "start_time": "2022-05-25T16:41:31.697Z"
   },
   {
    "duration": 82,
    "start_time": "2022-05-25T16:41:31.732Z"
   },
   {
    "duration": 94,
    "start_time": "2022-05-25T16:41:31.816Z"
   },
   {
    "duration": 70,
    "start_time": "2022-05-25T16:41:31.916Z"
   },
   {
    "duration": 40,
    "start_time": "2022-05-25T16:41:31.988Z"
   },
   {
    "duration": 26,
    "start_time": "2022-05-25T16:41:32.030Z"
   },
   {
    "duration": 65,
    "start_time": "2022-05-25T16:41:32.058Z"
   },
   {
    "duration": 3,
    "start_time": "2022-05-25T16:41:32.125Z"
   },
   {
    "duration": 6,
    "start_time": "2022-05-25T16:41:32.130Z"
   },
   {
    "duration": 54,
    "start_time": "2022-05-25T16:41:32.138Z"
   },
   {
    "duration": 18,
    "start_time": "2022-05-25T16:41:32.194Z"
   },
   {
    "duration": 19,
    "start_time": "2022-05-25T16:41:35.533Z"
   },
   {
    "duration": 30,
    "start_time": "2022-05-25T16:42:23.752Z"
   },
   {
    "duration": 18,
    "start_time": "2022-05-25T16:42:58.067Z"
   },
   {
    "duration": 2,
    "start_time": "2022-05-25T16:45:31.595Z"
   },
   {
    "duration": 193,
    "start_time": "2022-05-25T16:45:31.600Z"
   },
   {
    "duration": 11,
    "start_time": "2022-05-25T16:45:31.795Z"
   },
   {
    "duration": 46,
    "start_time": "2022-05-25T16:45:31.807Z"
   },
   {
    "duration": 19,
    "start_time": "2022-05-25T16:45:31.857Z"
   },
   {
    "duration": 10,
    "start_time": "2022-05-25T16:45:31.879Z"
   },
   {
    "duration": 12,
    "start_time": "2022-05-25T16:45:31.891Z"
   },
   {
    "duration": 7,
    "start_time": "2022-05-25T16:45:31.905Z"
   },
   {
    "duration": 37,
    "start_time": "2022-05-25T16:45:31.914Z"
   },
   {
    "duration": 51,
    "start_time": "2022-05-25T16:45:31.962Z"
   },
   {
    "duration": 40,
    "start_time": "2022-05-25T16:45:32.015Z"
   },
   {
    "duration": 82,
    "start_time": "2022-05-25T16:45:32.062Z"
   },
   {
    "duration": 72,
    "start_time": "2022-05-25T16:45:32.146Z"
   },
   {
    "duration": 75,
    "start_time": "2022-05-25T16:45:32.221Z"
   },
   {
    "duration": 39,
    "start_time": "2022-05-25T16:45:32.297Z"
   },
   {
    "duration": 24,
    "start_time": "2022-05-25T16:45:32.338Z"
   },
   {
    "duration": 49,
    "start_time": "2022-05-25T16:45:32.365Z"
   },
   {
    "duration": 2,
    "start_time": "2022-05-25T16:45:32.416Z"
   },
   {
    "duration": 7,
    "start_time": "2022-05-25T16:45:32.420Z"
   },
   {
    "duration": 16,
    "start_time": "2022-05-25T16:45:32.429Z"
   },
   {
    "duration": 15,
    "start_time": "2022-05-25T16:45:32.453Z"
   },
   {
    "duration": 4,
    "start_time": "2022-05-25T16:45:32.470Z"
   },
   {
    "duration": 43,
    "start_time": "2022-05-25T16:45:32.476Z"
   },
   {
    "duration": 0,
    "start_time": "2022-05-25T16:45:32.521Z"
   },
   {
    "duration": 0,
    "start_time": "2022-05-25T16:45:32.523Z"
   },
   {
    "duration": 0,
    "start_time": "2022-05-25T16:45:32.524Z"
   },
   {
    "duration": 0,
    "start_time": "2022-05-25T16:45:32.526Z"
   },
   {
    "duration": 0,
    "start_time": "2022-05-25T16:45:32.528Z"
   },
   {
    "duration": 24,
    "start_time": "2022-05-25T16:46:25.363Z"
   },
   {
    "duration": 14,
    "start_time": "2022-05-25T16:46:26.590Z"
   },
   {
    "duration": 15,
    "start_time": "2022-05-25T16:46:27.103Z"
   },
   {
    "duration": 13,
    "start_time": "2022-05-25T16:46:27.602Z"
   },
   {
    "duration": 19,
    "start_time": "2022-05-25T16:46:28.129Z"
   },
   {
    "duration": 15,
    "start_time": "2022-05-25T16:46:28.514Z"
   },
   {
    "duration": 31,
    "start_time": "2022-05-25T16:50:16.401Z"
   },
   {
    "duration": 76,
    "start_time": "2022-05-25T16:52:04.691Z"
   },
   {
    "duration": 100,
    "start_time": "2022-05-25T16:59:40.598Z"
   },
   {
    "duration": 99,
    "start_time": "2022-05-25T17:00:14.773Z"
   },
   {
    "duration": 70,
    "start_time": "2022-05-25T17:08:10.264Z"
   },
   {
    "duration": 58,
    "start_time": "2022-05-25T17:08:19.353Z"
   },
   {
    "duration": 89,
    "start_time": "2022-05-25T17:08:34.561Z"
   },
   {
    "duration": 75,
    "start_time": "2022-05-25T17:08:40.923Z"
   },
   {
    "duration": 84,
    "start_time": "2022-05-25T17:09:00.620Z"
   },
   {
    "duration": 10,
    "start_time": "2022-05-25T17:10:51.548Z"
   },
   {
    "duration": 11,
    "start_time": "2022-05-25T17:17:15.197Z"
   },
   {
    "duration": 9,
    "start_time": "2022-05-25T17:17:57.380Z"
   },
   {
    "duration": 14,
    "start_time": "2022-05-25T17:18:36.874Z"
   },
   {
    "duration": 5,
    "start_time": "2022-05-25T17:31:37.467Z"
   },
   {
    "duration": 4,
    "start_time": "2022-05-25T17:33:58.489Z"
   },
   {
    "duration": 21,
    "start_time": "2022-05-25T17:37:28.450Z"
   },
   {
    "duration": 466,
    "start_time": "2022-05-25T17:38:09.715Z"
   },
   {
    "duration": 563,
    "start_time": "2022-05-25T17:39:14.928Z"
   },
   {
    "duration": 69,
    "start_time": "2022-05-25T17:40:50.566Z"
   },
   {
    "duration": 440,
    "start_time": "2022-05-25T17:40:56.530Z"
   },
   {
    "duration": 3,
    "start_time": "2022-05-25T17:43:24.847Z"
   },
   {
    "duration": 239,
    "start_time": "2022-05-25T17:43:24.852Z"
   },
   {
    "duration": 11,
    "start_time": "2022-05-25T17:43:25.093Z"
   },
   {
    "duration": 30,
    "start_time": "2022-05-25T17:43:25.106Z"
   },
   {
    "duration": 2,
    "start_time": "2022-05-25T17:43:25.138Z"
   },
   {
    "duration": 30,
    "start_time": "2022-05-25T17:43:25.142Z"
   },
   {
    "duration": 12,
    "start_time": "2022-05-25T17:43:25.175Z"
   },
   {
    "duration": 5,
    "start_time": "2022-05-25T17:43:25.189Z"
   },
   {
    "duration": 39,
    "start_time": "2022-05-25T17:43:25.196Z"
   },
   {
    "duration": 24,
    "start_time": "2022-05-25T17:43:25.237Z"
   },
   {
    "duration": 27,
    "start_time": "2022-05-25T17:43:25.272Z"
   },
   {
    "duration": 88,
    "start_time": "2022-05-25T17:43:25.301Z"
   },
   {
    "duration": 94,
    "start_time": "2022-05-25T17:43:25.390Z"
   },
   {
    "duration": 79,
    "start_time": "2022-05-25T17:43:25.486Z"
   },
   {
    "duration": 37,
    "start_time": "2022-05-25T17:43:25.569Z"
   },
   {
    "duration": 12,
    "start_time": "2022-05-25T17:43:25.608Z"
   },
   {
    "duration": 56,
    "start_time": "2022-05-25T17:43:25.622Z"
   },
   {
    "duration": 2,
    "start_time": "2022-05-25T17:43:25.681Z"
   },
   {
    "duration": 5,
    "start_time": "2022-05-25T17:43:25.685Z"
   },
   {
    "duration": 18,
    "start_time": "2022-05-25T17:43:25.691Z"
   },
   {
    "duration": 14,
    "start_time": "2022-05-25T17:43:25.710Z"
   },
   {
    "duration": 3,
    "start_time": "2022-05-25T17:43:25.725Z"
   },
   {
    "duration": 42,
    "start_time": "2022-05-25T17:43:25.730Z"
   },
   {
    "duration": 13,
    "start_time": "2022-05-25T17:43:25.774Z"
   },
   {
    "duration": 13,
    "start_time": "2022-05-25T17:43:25.789Z"
   },
   {
    "duration": 18,
    "start_time": "2022-05-25T17:43:25.804Z"
   },
   {
    "duration": 48,
    "start_time": "2022-05-25T17:43:25.824Z"
   },
   {
    "duration": 15,
    "start_time": "2022-05-25T17:43:25.874Z"
   },
   {
    "duration": 5,
    "start_time": "2022-05-25T17:43:25.892Z"
   },
   {
    "duration": 27,
    "start_time": "2022-05-25T17:43:25.899Z"
   },
   {
    "duration": 9,
    "start_time": "2022-05-25T17:43:25.928Z"
   },
   {
    "duration": 24,
    "start_time": "2022-05-25T17:43:25.939Z"
   },
   {
    "duration": 25,
    "start_time": "2022-05-25T17:43:25.966Z"
   },
   {
    "duration": 11,
    "start_time": "2022-05-25T17:43:30.287Z"
   },
   {
    "duration": 17,
    "start_time": "2022-05-25T17:45:20.823Z"
   },
   {
    "duration": 13,
    "start_time": "2022-05-25T17:45:21.368Z"
   },
   {
    "duration": 2,
    "start_time": "2022-05-25T17:45:53.238Z"
   },
   {
    "duration": 174,
    "start_time": "2022-05-25T17:45:53.242Z"
   },
   {
    "duration": 11,
    "start_time": "2022-05-25T17:45:53.418Z"
   },
   {
    "duration": 40,
    "start_time": "2022-05-25T17:45:53.431Z"
   },
   {
    "duration": 3,
    "start_time": "2022-05-25T17:45:53.473Z"
   },
   {
    "duration": 10,
    "start_time": "2022-05-25T17:45:53.478Z"
   },
   {
    "duration": 9,
    "start_time": "2022-05-25T17:45:53.489Z"
   },
   {
    "duration": 4,
    "start_time": "2022-05-25T17:45:53.500Z"
   },
   {
    "duration": 25,
    "start_time": "2022-05-25T17:45:53.505Z"
   },
   {
    "duration": 37,
    "start_time": "2022-05-25T17:45:53.531Z"
   },
   {
    "duration": 33,
    "start_time": "2022-05-25T17:45:53.571Z"
   },
   {
    "duration": 78,
    "start_time": "2022-05-25T17:45:53.606Z"
   },
   {
    "duration": 79,
    "start_time": "2022-05-25T17:45:53.686Z"
   },
   {
    "duration": 56,
    "start_time": "2022-05-25T17:45:53.769Z"
   },
   {
    "duration": 59,
    "start_time": "2022-05-25T17:45:53.827Z"
   },
   {
    "duration": 14,
    "start_time": "2022-05-25T17:45:53.889Z"
   },
   {
    "duration": 63,
    "start_time": "2022-05-25T17:45:53.905Z"
   },
   {
    "duration": 2,
    "start_time": "2022-05-25T17:45:53.970Z"
   },
   {
    "duration": 5,
    "start_time": "2022-05-25T17:45:53.974Z"
   },
   {
    "duration": 15,
    "start_time": "2022-05-25T17:45:53.980Z"
   },
   {
    "duration": 12,
    "start_time": "2022-05-25T17:45:53.996Z"
   },
   {
    "duration": 3,
    "start_time": "2022-05-25T17:45:54.009Z"
   },
   {
    "duration": 42,
    "start_time": "2022-05-25T17:45:54.014Z"
   },
   {
    "duration": 20,
    "start_time": "2022-05-25T17:45:54.058Z"
   },
   {
    "duration": 20,
    "start_time": "2022-05-25T17:45:54.079Z"
   },
   {
    "duration": 14,
    "start_time": "2022-05-25T17:45:54.101Z"
   },
   {
    "duration": 49,
    "start_time": "2022-05-25T17:45:54.117Z"
   },
   {
    "duration": 24,
    "start_time": "2022-05-25T17:45:54.172Z"
   },
   {
    "duration": 6,
    "start_time": "2022-05-25T17:45:54.197Z"
   },
   {
    "duration": 20,
    "start_time": "2022-05-25T17:45:54.205Z"
   },
   {
    "duration": 29,
    "start_time": "2022-05-25T17:45:54.227Z"
   },
   {
    "duration": 14,
    "start_time": "2022-05-25T17:45:54.257Z"
   },
   {
    "duration": 26,
    "start_time": "2022-05-25T17:45:54.273Z"
   },
   {
    "duration": 12,
    "start_time": "2022-05-25T17:45:54.300Z"
   },
   {
    "duration": 3,
    "start_time": "2022-05-25T17:46:01.458Z"
   },
   {
    "duration": 207,
    "start_time": "2022-05-25T17:46:01.463Z"
   },
   {
    "duration": 11,
    "start_time": "2022-05-25T17:46:01.672Z"
   },
   {
    "duration": 53,
    "start_time": "2022-05-25T17:46:01.685Z"
   },
   {
    "duration": 2,
    "start_time": "2022-05-25T17:46:01.740Z"
   },
   {
    "duration": 33,
    "start_time": "2022-05-25T17:46:01.744Z"
   },
   {
    "duration": 19,
    "start_time": "2022-05-25T17:46:01.779Z"
   },
   {
    "duration": 7,
    "start_time": "2022-05-25T17:46:01.800Z"
   },
   {
    "duration": 34,
    "start_time": "2022-05-25T17:46:01.808Z"
   },
   {
    "duration": 23,
    "start_time": "2022-05-25T17:46:01.844Z"
   },
   {
    "duration": 30,
    "start_time": "2022-05-25T17:46:01.872Z"
   },
   {
    "duration": 76,
    "start_time": "2022-05-25T17:46:01.904Z"
   },
   {
    "duration": 100,
    "start_time": "2022-05-25T17:46:01.982Z"
   },
   {
    "duration": 91,
    "start_time": "2022-05-25T17:46:02.084Z"
   },
   {
    "duration": 40,
    "start_time": "2022-05-25T17:46:02.177Z"
   },
   {
    "duration": 12,
    "start_time": "2022-05-25T17:46:02.218Z"
   },
   {
    "duration": 52,
    "start_time": "2022-05-25T17:46:02.232Z"
   },
   {
    "duration": 58,
    "start_time": "2022-05-25T17:46:02.285Z"
   },
   {
    "duration": 41,
    "start_time": "2022-05-25T17:46:02.344Z"
   },
   {
    "duration": 21,
    "start_time": "2022-05-25T17:46:02.387Z"
   },
   {
    "duration": 65,
    "start_time": "2022-05-25T17:46:02.409Z"
   },
   {
    "duration": 125,
    "start_time": "2022-05-25T17:46:02.476Z"
   },
   {
    "duration": 29,
    "start_time": "2022-05-25T17:46:02.604Z"
   },
   {
    "duration": 15,
    "start_time": "2022-05-25T17:46:02.635Z"
   },
   {
    "duration": 23,
    "start_time": "2022-05-25T17:46:02.652Z"
   },
   {
    "duration": 38,
    "start_time": "2022-05-25T17:46:02.681Z"
   },
   {
    "duration": 15,
    "start_time": "2022-05-25T17:46:02.721Z"
   },
   {
    "duration": 21,
    "start_time": "2022-05-25T17:46:02.738Z"
   },
   {
    "duration": 8,
    "start_time": "2022-05-25T17:46:02.763Z"
   },
   {
    "duration": 18,
    "start_time": "2022-05-25T17:46:02.772Z"
   },
   {
    "duration": 10,
    "start_time": "2022-05-25T17:46:02.792Z"
   },
   {
    "duration": 4,
    "start_time": "2022-05-25T17:46:02.804Z"
   },
   {
    "duration": 26,
    "start_time": "2022-05-25T17:46:02.809Z"
   },
   {
    "duration": 28,
    "start_time": "2022-05-25T17:46:02.837Z"
   },
   {
    "duration": 23,
    "start_time": "2022-05-25T17:46:02.867Z"
   },
   {
    "duration": 13,
    "start_time": "2022-05-25T17:46:06.692Z"
   },
   {
    "duration": 21,
    "start_time": "2022-05-25T17:46:52.837Z"
   },
   {
    "duration": 16,
    "start_time": "2022-05-25T17:47:25.433Z"
   },
   {
    "duration": 7,
    "start_time": "2022-05-25T17:52:32.411Z"
   },
   {
    "duration": 8,
    "start_time": "2022-05-25T17:53:04.566Z"
   },
   {
    "duration": 10,
    "start_time": "2022-05-25T17:53:41.746Z"
   },
   {
    "duration": 8,
    "start_time": "2022-05-25T17:54:34.501Z"
   },
   {
    "duration": 9,
    "start_time": "2022-05-25T17:55:22.537Z"
   },
   {
    "duration": 8,
    "start_time": "2022-05-25T17:55:34.786Z"
   },
   {
    "duration": 3,
    "start_time": "2022-05-25T17:56:15.333Z"
   },
   {
    "duration": 193,
    "start_time": "2022-05-25T17:56:15.339Z"
   },
   {
    "duration": 10,
    "start_time": "2022-05-25T17:56:15.534Z"
   },
   {
    "duration": 32,
    "start_time": "2022-05-25T17:56:15.546Z"
   },
   {
    "duration": 2,
    "start_time": "2022-05-25T17:56:15.581Z"
   },
   {
    "duration": 14,
    "start_time": "2022-05-25T17:56:15.585Z"
   },
   {
    "duration": 14,
    "start_time": "2022-05-25T17:56:15.601Z"
   },
   {
    "duration": 3,
    "start_time": "2022-05-25T17:56:15.617Z"
   },
   {
    "duration": 50,
    "start_time": "2022-05-25T17:56:15.622Z"
   },
   {
    "duration": 22,
    "start_time": "2022-05-25T17:56:15.674Z"
   },
   {
    "duration": 24,
    "start_time": "2022-05-25T17:56:15.699Z"
   },
   {
    "duration": 81,
    "start_time": "2022-05-25T17:56:15.725Z"
   },
   {
    "duration": 78,
    "start_time": "2022-05-25T17:56:15.808Z"
   },
   {
    "duration": 56,
    "start_time": "2022-05-25T17:56:15.887Z"
   },
   {
    "duration": 49,
    "start_time": "2022-05-25T17:56:15.945Z"
   },
   {
    "duration": 13,
    "start_time": "2022-05-25T17:56:15.995Z"
   },
   {
    "duration": 61,
    "start_time": "2022-05-25T17:56:16.009Z"
   },
   {
    "duration": 2,
    "start_time": "2022-05-25T17:56:16.072Z"
   },
   {
    "duration": 6,
    "start_time": "2022-05-25T17:56:16.076Z"
   },
   {
    "duration": 17,
    "start_time": "2022-05-25T17:56:16.083Z"
   },
   {
    "duration": 12,
    "start_time": "2022-05-25T17:56:16.102Z"
   },
   {
    "duration": 4,
    "start_time": "2022-05-25T17:56:16.116Z"
   },
   {
    "duration": 44,
    "start_time": "2022-05-25T17:56:16.121Z"
   },
   {
    "duration": 18,
    "start_time": "2022-05-25T17:56:16.167Z"
   },
   {
    "duration": 16,
    "start_time": "2022-05-25T17:56:16.187Z"
   },
   {
    "duration": 15,
    "start_time": "2022-05-25T17:56:16.204Z"
   },
   {
    "duration": 47,
    "start_time": "2022-05-25T17:56:16.220Z"
   },
   {
    "duration": 15,
    "start_time": "2022-05-25T17:56:16.269Z"
   },
   {
    "duration": 4,
    "start_time": "2022-05-25T17:56:16.288Z"
   },
   {
    "duration": 17,
    "start_time": "2022-05-25T17:56:16.293Z"
   },
   {
    "duration": 9,
    "start_time": "2022-05-25T17:56:16.312Z"
   },
   {
    "duration": 5,
    "start_time": "2022-05-25T17:56:16.323Z"
   },
   {
    "duration": 44,
    "start_time": "2022-05-25T17:56:16.329Z"
   },
   {
    "duration": 11,
    "start_time": "2022-05-25T17:56:16.374Z"
   },
   {
    "duration": 16,
    "start_time": "2022-05-25T17:56:16.387Z"
   },
   {
    "duration": 12,
    "start_time": "2022-05-25T17:56:16.405Z"
   },
   {
    "duration": 13,
    "start_time": "2022-05-25T17:56:19.787Z"
   },
   {
    "duration": 3,
    "start_time": "2022-05-25T17:59:22.143Z"
   },
   {
    "duration": 201,
    "start_time": "2022-05-25T17:59:22.148Z"
   },
   {
    "duration": 22,
    "start_time": "2022-05-25T17:59:22.351Z"
   },
   {
    "duration": 31,
    "start_time": "2022-05-25T17:59:22.375Z"
   },
   {
    "duration": 2,
    "start_time": "2022-05-25T17:59:22.409Z"
   },
   {
    "duration": 9,
    "start_time": "2022-05-25T17:59:22.413Z"
   },
   {
    "duration": 10,
    "start_time": "2022-05-25T17:59:22.424Z"
   },
   {
    "duration": 5,
    "start_time": "2022-05-25T17:59:22.435Z"
   },
   {
    "duration": 30,
    "start_time": "2022-05-25T17:59:22.459Z"
   },
   {
    "duration": 28,
    "start_time": "2022-05-25T17:59:22.491Z"
   },
   {
    "duration": 32,
    "start_time": "2022-05-25T17:59:22.521Z"
   },
   {
    "duration": 85,
    "start_time": "2022-05-25T17:59:22.555Z"
   },
   {
    "duration": 79,
    "start_time": "2022-05-25T17:59:22.641Z"
   },
   {
    "duration": 64,
    "start_time": "2022-05-25T17:59:22.723Z"
   },
   {
    "duration": 35,
    "start_time": "2022-05-25T17:59:22.788Z"
   },
   {
    "duration": 33,
    "start_time": "2022-05-25T17:59:22.825Z"
   },
   {
    "duration": 39,
    "start_time": "2022-05-25T17:59:22.860Z"
   },
   {
    "duration": 2,
    "start_time": "2022-05-25T17:59:22.901Z"
   },
   {
    "duration": 7,
    "start_time": "2022-05-25T17:59:22.905Z"
   },
   {
    "duration": 15,
    "start_time": "2022-05-25T17:59:22.914Z"
   },
   {
    "duration": 44,
    "start_time": "2022-05-25T17:59:22.933Z"
   },
   {
    "duration": 4,
    "start_time": "2022-05-25T17:59:22.985Z"
   },
   {
    "duration": 28,
    "start_time": "2022-05-25T17:59:22.991Z"
   },
   {
    "duration": 20,
    "start_time": "2022-05-25T17:59:23.020Z"
   },
   {
    "duration": 27,
    "start_time": "2022-05-25T17:59:23.042Z"
   },
   {
    "duration": 17,
    "start_time": "2022-05-25T17:59:23.071Z"
   },
   {
    "duration": 17,
    "start_time": "2022-05-25T17:59:23.090Z"
   },
   {
    "duration": 16,
    "start_time": "2022-05-25T17:59:23.109Z"
   },
   {
    "duration": 39,
    "start_time": "2022-05-25T17:59:23.127Z"
   },
   {
    "duration": 19,
    "start_time": "2022-05-25T17:59:23.168Z"
   },
   {
    "duration": 10,
    "start_time": "2022-05-25T17:59:23.189Z"
   },
   {
    "duration": 5,
    "start_time": "2022-05-25T17:59:23.201Z"
   },
   {
    "duration": 23,
    "start_time": "2022-05-25T17:59:23.208Z"
   },
   {
    "duration": 35,
    "start_time": "2022-05-25T17:59:23.233Z"
   },
   {
    "duration": 25,
    "start_time": "2022-05-25T17:59:23.270Z"
   },
   {
    "duration": 12,
    "start_time": "2022-05-25T17:59:23.297Z"
   },
   {
    "duration": 15,
    "start_time": "2022-05-25T17:59:27.647Z"
   },
   {
    "duration": 2,
    "start_time": "2022-05-25T18:00:07.190Z"
   },
   {
    "duration": 183,
    "start_time": "2022-05-25T18:00:07.195Z"
   },
   {
    "duration": 12,
    "start_time": "2022-05-25T18:00:07.380Z"
   },
   {
    "duration": 34,
    "start_time": "2022-05-25T18:00:07.394Z"
   },
   {
    "duration": 2,
    "start_time": "2022-05-25T18:00:07.431Z"
   },
   {
    "duration": 31,
    "start_time": "2022-05-25T18:00:07.434Z"
   },
   {
    "duration": 12,
    "start_time": "2022-05-25T18:00:07.468Z"
   },
   {
    "duration": 4,
    "start_time": "2022-05-25T18:00:07.482Z"
   },
   {
    "duration": 24,
    "start_time": "2022-05-25T18:00:07.487Z"
   },
   {
    "duration": 55,
    "start_time": "2022-05-25T18:00:07.513Z"
   },
   {
    "duration": 22,
    "start_time": "2022-05-25T18:00:07.570Z"
   },
   {
    "duration": 95,
    "start_time": "2022-05-25T18:00:07.594Z"
   },
   {
    "duration": 81,
    "start_time": "2022-05-25T18:00:07.690Z"
   },
   {
    "duration": 65,
    "start_time": "2022-05-25T18:00:07.774Z"
   },
   {
    "duration": 51,
    "start_time": "2022-05-25T18:00:07.841Z"
   },
   {
    "duration": 10,
    "start_time": "2022-05-25T18:00:07.893Z"
   },
   {
    "duration": 81,
    "start_time": "2022-05-25T18:00:07.905Z"
   },
   {
    "duration": 3,
    "start_time": "2022-05-25T18:00:07.989Z"
   },
   {
    "duration": 9,
    "start_time": "2022-05-25T18:00:07.994Z"
   },
   {
    "duration": 27,
    "start_time": "2022-05-25T18:00:08.005Z"
   },
   {
    "duration": 11,
    "start_time": "2022-05-25T18:00:08.034Z"
   },
   {
    "duration": 5,
    "start_time": "2022-05-25T18:00:08.059Z"
   },
   {
    "duration": 24,
    "start_time": "2022-05-25T18:00:08.068Z"
   },
   {
    "duration": 16,
    "start_time": "2022-05-25T18:00:08.094Z"
   },
   {
    "duration": 14,
    "start_time": "2022-05-25T18:00:08.112Z"
   },
   {
    "duration": 41,
    "start_time": "2022-05-25T18:00:08.128Z"
   },
   {
    "duration": 25,
    "start_time": "2022-05-25T18:00:08.172Z"
   },
   {
    "duration": 17,
    "start_time": "2022-05-25T18:00:08.199Z"
   },
   {
    "duration": 5,
    "start_time": "2022-05-25T18:00:08.217Z"
   },
   {
    "duration": 38,
    "start_time": "2022-05-25T18:00:08.224Z"
   },
   {
    "duration": 18,
    "start_time": "2022-05-25T18:00:08.266Z"
   },
   {
    "duration": 7,
    "start_time": "2022-05-25T18:00:08.287Z"
   },
   {
    "duration": 35,
    "start_time": "2022-05-25T18:00:08.297Z"
   },
   {
    "duration": 36,
    "start_time": "2022-05-25T18:00:08.335Z"
   },
   {
    "duration": 18,
    "start_time": "2022-05-25T18:00:08.373Z"
   },
   {
    "duration": 12,
    "start_time": "2022-05-25T18:00:08.393Z"
   },
   {
    "duration": 11,
    "start_time": "2022-05-25T18:00:08.407Z"
   },
   {
    "duration": 3,
    "start_time": "2022-05-25T18:00:08.419Z"
   },
   {
    "duration": 5,
    "start_time": "2022-05-25T18:00:08.424Z"
   },
   {
    "duration": 32,
    "start_time": "2022-05-25T18:00:08.430Z"
   },
   {
    "duration": 11,
    "start_time": "2022-05-25T18:00:44.893Z"
   },
   {
    "duration": 8,
    "start_time": "2022-05-25T18:01:02.323Z"
   },
   {
    "duration": 3,
    "start_time": "2022-05-25T18:01:05.979Z"
   },
   {
    "duration": 194,
    "start_time": "2022-05-25T18:01:05.983Z"
   },
   {
    "duration": 18,
    "start_time": "2022-05-25T18:01:06.179Z"
   },
   {
    "duration": 41,
    "start_time": "2022-05-25T18:01:06.199Z"
   },
   {
    "duration": 2,
    "start_time": "2022-05-25T18:01:06.242Z"
   },
   {
    "duration": 27,
    "start_time": "2022-05-25T18:01:06.246Z"
   },
   {
    "duration": 11,
    "start_time": "2022-05-25T18:01:06.275Z"
   },
   {
    "duration": 4,
    "start_time": "2022-05-25T18:01:06.288Z"
   },
   {
    "duration": 31,
    "start_time": "2022-05-25T18:01:06.293Z"
   },
   {
    "duration": 30,
    "start_time": "2022-05-25T18:01:06.326Z"
   },
   {
    "duration": 26,
    "start_time": "2022-05-25T18:01:06.357Z"
   },
   {
    "duration": 83,
    "start_time": "2022-05-25T18:01:06.385Z"
   },
   {
    "duration": 64,
    "start_time": "2022-05-25T18:01:06.470Z"
   },
   {
    "duration": 61,
    "start_time": "2022-05-25T18:01:06.538Z"
   },
   {
    "duration": 36,
    "start_time": "2022-05-25T18:01:06.601Z"
   },
   {
    "duration": 23,
    "start_time": "2022-05-25T18:01:06.638Z"
   },
   {
    "duration": 43,
    "start_time": "2022-05-25T18:01:06.663Z"
   },
   {
    "duration": 2,
    "start_time": "2022-05-25T18:01:06.708Z"
   },
   {
    "duration": 6,
    "start_time": "2022-05-25T18:01:06.711Z"
   },
   {
    "duration": 14,
    "start_time": "2022-05-25T18:01:06.718Z"
   },
   {
    "duration": 34,
    "start_time": "2022-05-25T18:01:06.733Z"
   },
   {
    "duration": 7,
    "start_time": "2022-05-25T18:01:06.769Z"
   },
   {
    "duration": 25,
    "start_time": "2022-05-25T18:01:06.778Z"
   },
   {
    "duration": 16,
    "start_time": "2022-05-25T18:01:06.805Z"
   },
   {
    "duration": 15,
    "start_time": "2022-05-25T18:01:06.823Z"
   },
   {
    "duration": 28,
    "start_time": "2022-05-25T18:01:06.840Z"
   },
   {
    "duration": 19,
    "start_time": "2022-05-25T18:01:06.870Z"
   },
   {
    "duration": 18,
    "start_time": "2022-05-25T18:01:06.890Z"
   },
   {
    "duration": 5,
    "start_time": "2022-05-25T18:01:06.910Z"
   },
   {
    "duration": 48,
    "start_time": "2022-05-25T18:01:06.917Z"
   },
   {
    "duration": 14,
    "start_time": "2022-05-25T18:01:06.968Z"
   },
   {
    "duration": 6,
    "start_time": "2022-05-25T18:01:06.984Z"
   },
   {
    "duration": 30,
    "start_time": "2022-05-25T18:01:06.992Z"
   },
   {
    "duration": 14,
    "start_time": "2022-05-25T18:01:07.024Z"
   },
   {
    "duration": 36,
    "start_time": "2022-05-25T18:01:07.052Z"
   },
   {
    "duration": 14,
    "start_time": "2022-05-25T18:01:07.090Z"
   },
   {
    "duration": 15,
    "start_time": "2022-05-25T18:01:07.106Z"
   },
   {
    "duration": 12,
    "start_time": "2022-05-25T18:01:10.411Z"
   },
   {
    "duration": 13,
    "start_time": "2022-05-25T18:02:16.782Z"
   },
   {
    "duration": 5,
    "start_time": "2022-05-25T18:54:26.724Z"
   },
   {
    "duration": 8,
    "start_time": "2022-05-25T18:58:08.324Z"
   },
   {
    "duration": 3,
    "start_time": "2022-05-25T18:58:16.740Z"
   },
   {
    "duration": 175,
    "start_time": "2022-05-25T18:58:16.745Z"
   },
   {
    "duration": 12,
    "start_time": "2022-05-25T18:58:16.922Z"
   },
   {
    "duration": 51,
    "start_time": "2022-05-25T18:58:16.936Z"
   },
   {
    "duration": 3,
    "start_time": "2022-05-25T18:58:16.989Z"
   },
   {
    "duration": 17,
    "start_time": "2022-05-25T18:58:16.994Z"
   },
   {
    "duration": 13,
    "start_time": "2022-05-25T18:58:17.013Z"
   },
   {
    "duration": 9,
    "start_time": "2022-05-25T18:58:17.027Z"
   },
   {
    "duration": 34,
    "start_time": "2022-05-25T18:58:17.038Z"
   },
   {
    "duration": 21,
    "start_time": "2022-05-25T18:58:17.073Z"
   },
   {
    "duration": 21,
    "start_time": "2022-05-25T18:58:17.096Z"
   },
   {
    "duration": 80,
    "start_time": "2022-05-25T18:58:17.119Z"
   },
   {
    "duration": 77,
    "start_time": "2022-05-25T18:58:17.204Z"
   },
   {
    "duration": 79,
    "start_time": "2022-05-25T18:58:17.282Z"
   },
   {
    "duration": 53,
    "start_time": "2022-05-25T18:58:17.364Z"
   },
   {
    "duration": 10,
    "start_time": "2022-05-25T18:58:17.419Z"
   },
   {
    "duration": 54,
    "start_time": "2022-05-25T18:58:17.431Z"
   },
   {
    "duration": 2,
    "start_time": "2022-05-25T18:58:17.487Z"
   },
   {
    "duration": 10,
    "start_time": "2022-05-25T18:58:17.490Z"
   },
   {
    "duration": 16,
    "start_time": "2022-05-25T18:58:17.501Z"
   },
   {
    "duration": 13,
    "start_time": "2022-05-25T18:58:17.519Z"
   },
   {
    "duration": 20,
    "start_time": "2022-05-25T18:58:17.534Z"
   },
   {
    "duration": 35,
    "start_time": "2022-05-25T18:58:17.556Z"
   },
   {
    "duration": 18,
    "start_time": "2022-05-25T18:58:17.593Z"
   },
   {
    "duration": 15,
    "start_time": "2022-05-25T18:58:17.612Z"
   },
   {
    "duration": 36,
    "start_time": "2022-05-25T18:58:17.629Z"
   },
   {
    "duration": 16,
    "start_time": "2022-05-25T18:58:17.667Z"
   },
   {
    "duration": 14,
    "start_time": "2022-05-25T18:58:17.685Z"
   },
   {
    "duration": 4,
    "start_time": "2022-05-25T18:58:17.701Z"
   },
   {
    "duration": 15,
    "start_time": "2022-05-25T18:58:17.707Z"
   },
   {
    "duration": 10,
    "start_time": "2022-05-25T18:58:17.752Z"
   },
   {
    "duration": 5,
    "start_time": "2022-05-25T18:58:17.764Z"
   },
   {
    "duration": 28,
    "start_time": "2022-05-25T18:58:17.771Z"
   },
   {
    "duration": 13,
    "start_time": "2022-05-25T18:58:17.800Z"
   },
   {
    "duration": 38,
    "start_time": "2022-05-25T18:58:17.815Z"
   },
   {
    "duration": 13,
    "start_time": "2022-05-25T18:58:17.854Z"
   },
   {
    "duration": 8,
    "start_time": "2022-05-25T18:58:17.872Z"
   },
   {
    "duration": 5,
    "start_time": "2022-05-25T18:58:17.882Z"
   },
   {
    "duration": 8,
    "start_time": "2022-05-25T18:58:22.534Z"
   },
   {
    "duration": 7,
    "start_time": "2022-05-25T18:58:53.299Z"
   },
   {
    "duration": 2,
    "start_time": "2022-05-25T18:59:42.396Z"
   },
   {
    "duration": 176,
    "start_time": "2022-05-25T18:59:42.401Z"
   },
   {
    "duration": 15,
    "start_time": "2022-05-25T18:59:42.579Z"
   },
   {
    "duration": 45,
    "start_time": "2022-05-25T18:59:42.596Z"
   },
   {
    "duration": 3,
    "start_time": "2022-05-25T18:59:42.645Z"
   },
   {
    "duration": 6,
    "start_time": "2022-05-25T18:59:42.652Z"
   },
   {
    "duration": 16,
    "start_time": "2022-05-25T18:59:42.660Z"
   },
   {
    "duration": 8,
    "start_time": "2022-05-25T18:59:42.679Z"
   },
   {
    "duration": 25,
    "start_time": "2022-05-25T18:59:42.689Z"
   },
   {
    "duration": 15,
    "start_time": "2022-05-25T18:59:42.716Z"
   },
   {
    "duration": 21,
    "start_time": "2022-05-25T18:59:42.751Z"
   },
   {
    "duration": 60,
    "start_time": "2022-05-25T18:59:42.773Z"
   },
   {
    "duration": 88,
    "start_time": "2022-05-25T18:59:42.835Z"
   },
   {
    "duration": 63,
    "start_time": "2022-05-25T18:59:42.926Z"
   },
   {
    "duration": 36,
    "start_time": "2022-05-25T18:59:42.991Z"
   },
   {
    "duration": 26,
    "start_time": "2022-05-25T18:59:43.029Z"
   },
   {
    "duration": 37,
    "start_time": "2022-05-25T18:59:43.057Z"
   },
   {
    "duration": 3,
    "start_time": "2022-05-25T18:59:43.096Z"
   },
   {
    "duration": 9,
    "start_time": "2022-05-25T18:59:43.101Z"
   },
   {
    "duration": 18,
    "start_time": "2022-05-25T18:59:43.112Z"
   },
   {
    "duration": 29,
    "start_time": "2022-05-25T18:59:43.131Z"
   },
   {
    "duration": 3,
    "start_time": "2022-05-25T18:59:43.161Z"
   },
   {
    "duration": 17,
    "start_time": "2022-05-25T18:59:43.165Z"
   },
   {
    "duration": 12,
    "start_time": "2022-05-25T18:59:43.184Z"
   },
   {
    "duration": 14,
    "start_time": "2022-05-25T18:59:43.198Z"
   },
   {
    "duration": 44,
    "start_time": "2022-05-25T18:59:43.213Z"
   },
   {
    "duration": 15,
    "start_time": "2022-05-25T18:59:43.259Z"
   },
   {
    "duration": 13,
    "start_time": "2022-05-25T18:59:43.276Z"
   },
   {
    "duration": 4,
    "start_time": "2022-05-25T18:59:43.291Z"
   },
   {
    "duration": 19,
    "start_time": "2022-05-25T18:59:43.296Z"
   },
   {
    "duration": 36,
    "start_time": "2022-05-25T18:59:43.316Z"
   },
   {
    "duration": 4,
    "start_time": "2022-05-25T18:59:43.354Z"
   },
   {
    "duration": 21,
    "start_time": "2022-05-25T18:59:43.359Z"
   },
   {
    "duration": 10,
    "start_time": "2022-05-25T18:59:43.382Z"
   },
   {
    "duration": 21,
    "start_time": "2022-05-25T18:59:43.394Z"
   },
   {
    "duration": 45,
    "start_time": "2022-05-25T18:59:43.417Z"
   },
   {
    "duration": 7,
    "start_time": "2022-05-25T18:59:43.464Z"
   },
   {
    "duration": 9,
    "start_time": "2022-05-25T18:59:43.473Z"
   },
   {
    "duration": 10,
    "start_time": "2022-05-25T19:00:42.663Z"
   },
   {
    "duration": 7,
    "start_time": "2022-05-25T19:02:20.427Z"
   },
   {
    "duration": 8,
    "start_time": "2022-05-25T19:03:03.385Z"
   },
   {
    "duration": 7,
    "start_time": "2022-05-25T19:03:16.760Z"
   },
   {
    "duration": 3,
    "start_time": "2022-05-25T19:05:37.207Z"
   },
   {
    "duration": 177,
    "start_time": "2022-05-25T19:05:37.212Z"
   },
   {
    "duration": 11,
    "start_time": "2022-05-25T19:05:37.391Z"
   },
   {
    "duration": 32,
    "start_time": "2022-05-25T19:05:37.404Z"
   },
   {
    "duration": 3,
    "start_time": "2022-05-25T19:05:37.451Z"
   },
   {
    "duration": 12,
    "start_time": "2022-05-25T19:05:37.456Z"
   },
   {
    "duration": 18,
    "start_time": "2022-05-25T19:05:37.471Z"
   },
   {
    "duration": 9,
    "start_time": "2022-05-25T19:05:37.491Z"
   },
   {
    "duration": 25,
    "start_time": "2022-05-25T19:05:37.502Z"
   },
   {
    "duration": 30,
    "start_time": "2022-05-25T19:05:37.529Z"
   },
   {
    "duration": 22,
    "start_time": "2022-05-25T19:05:37.561Z"
   },
   {
    "duration": 81,
    "start_time": "2022-05-25T19:05:37.584Z"
   },
   {
    "duration": 68,
    "start_time": "2022-05-25T19:05:37.666Z"
   },
   {
    "duration": 70,
    "start_time": "2022-05-25T19:05:37.737Z"
   },
   {
    "duration": 45,
    "start_time": "2022-05-25T19:05:37.809Z"
   },
   {
    "duration": 10,
    "start_time": "2022-05-25T19:05:37.856Z"
   },
   {
    "duration": 45,
    "start_time": "2022-05-25T19:05:37.868Z"
   },
   {
    "duration": 3,
    "start_time": "2022-05-25T19:05:37.914Z"
   },
   {
    "duration": 6,
    "start_time": "2022-05-25T19:05:37.918Z"
   },
   {
    "duration": 33,
    "start_time": "2022-05-25T19:05:37.925Z"
   },
   {
    "duration": 12,
    "start_time": "2022-05-25T19:05:37.960Z"
   },
   {
    "duration": 3,
    "start_time": "2022-05-25T19:05:37.974Z"
   },
   {
    "duration": 25,
    "start_time": "2022-05-25T19:05:37.978Z"
   },
   {
    "duration": 21,
    "start_time": "2022-05-25T19:05:38.005Z"
   },
   {
    "duration": 16,
    "start_time": "2022-05-25T19:05:38.053Z"
   },
   {
    "duration": 16,
    "start_time": "2022-05-25T19:05:38.071Z"
   },
   {
    "duration": 18,
    "start_time": "2022-05-25T19:05:38.089Z"
   },
   {
    "duration": 47,
    "start_time": "2022-05-25T19:05:38.109Z"
   },
   {
    "duration": 4,
    "start_time": "2022-05-25T19:05:38.158Z"
   },
   {
    "duration": 17,
    "start_time": "2022-05-25T19:05:38.165Z"
   },
   {
    "duration": 10,
    "start_time": "2022-05-25T19:05:38.184Z"
   },
   {
    "duration": 10,
    "start_time": "2022-05-25T19:05:38.196Z"
   },
   {
    "duration": 27,
    "start_time": "2022-05-25T19:05:38.208Z"
   },
   {
    "duration": 24,
    "start_time": "2022-05-25T19:05:38.238Z"
   },
   {
    "duration": 18,
    "start_time": "2022-05-25T19:05:38.263Z"
   },
   {
    "duration": 13,
    "start_time": "2022-05-25T19:05:38.283Z"
   },
   {
    "duration": 9,
    "start_time": "2022-05-25T19:05:38.297Z"
   },
   {
    "duration": 5,
    "start_time": "2022-05-25T19:05:38.307Z"
   },
   {
    "duration": 6,
    "start_time": "2022-05-25T19:05:40.171Z"
   },
   {
    "duration": 5,
    "start_time": "2022-05-25T19:06:06.905Z"
   },
   {
    "duration": 2,
    "start_time": "2022-05-25T19:06:51.707Z"
   },
   {
    "duration": 170,
    "start_time": "2022-05-25T19:06:51.712Z"
   },
   {
    "duration": 10,
    "start_time": "2022-05-25T19:06:51.884Z"
   },
   {
    "duration": 27,
    "start_time": "2022-05-25T19:06:51.896Z"
   },
   {
    "duration": 3,
    "start_time": "2022-05-25T19:06:51.924Z"
   },
   {
    "duration": 23,
    "start_time": "2022-05-25T19:06:51.929Z"
   },
   {
    "duration": 11,
    "start_time": "2022-05-25T19:06:51.953Z"
   },
   {
    "duration": 8,
    "start_time": "2022-05-25T19:06:51.966Z"
   },
   {
    "duration": 22,
    "start_time": "2022-05-25T19:06:51.976Z"
   },
   {
    "duration": 16,
    "start_time": "2022-05-25T19:06:51.999Z"
   },
   {
    "duration": 40,
    "start_time": "2022-05-25T19:06:52.016Z"
   },
   {
    "duration": 60,
    "start_time": "2022-05-25T19:06:52.057Z"
   },
   {
    "duration": 82,
    "start_time": "2022-05-25T19:06:52.119Z"
   },
   {
    "duration": 56,
    "start_time": "2022-05-25T19:06:52.203Z"
   },
   {
    "duration": 32,
    "start_time": "2022-05-25T19:06:52.261Z"
   },
   {
    "duration": 8,
    "start_time": "2022-05-25T19:06:52.295Z"
   },
   {
    "duration": 54,
    "start_time": "2022-05-25T19:06:52.305Z"
   },
   {
    "duration": 4,
    "start_time": "2022-05-25T19:06:52.361Z"
   },
   {
    "duration": 36,
    "start_time": "2022-05-25T19:06:52.367Z"
   },
   {
    "duration": 11,
    "start_time": "2022-05-25T19:06:52.405Z"
   },
   {
    "duration": 10,
    "start_time": "2022-05-25T19:06:52.418Z"
   },
   {
    "duration": 4,
    "start_time": "2022-05-25T19:06:52.451Z"
   },
   {
    "duration": 19,
    "start_time": "2022-05-25T19:06:52.456Z"
   },
   {
    "duration": 14,
    "start_time": "2022-05-25T19:06:52.477Z"
   },
   {
    "duration": 14,
    "start_time": "2022-05-25T19:06:52.493Z"
   },
   {
    "duration": 43,
    "start_time": "2022-05-25T19:06:52.509Z"
   },
   {
    "duration": 17,
    "start_time": "2022-05-25T19:06:52.554Z"
   },
   {
    "duration": 18,
    "start_time": "2022-05-25T19:06:52.573Z"
   },
   {
    "duration": 6,
    "start_time": "2022-05-25T19:06:52.593Z"
   },
   {
    "duration": 21,
    "start_time": "2022-05-25T19:06:52.600Z"
   },
   {
    "duration": 36,
    "start_time": "2022-05-25T19:06:52.623Z"
   },
   {
    "duration": 6,
    "start_time": "2022-05-25T19:06:52.662Z"
   },
   {
    "duration": 25,
    "start_time": "2022-05-25T19:06:52.669Z"
   },
   {
    "duration": 11,
    "start_time": "2022-05-25T19:06:52.695Z"
   },
   {
    "duration": 16,
    "start_time": "2022-05-25T19:06:52.708Z"
   },
   {
    "duration": 34,
    "start_time": "2022-05-25T19:06:52.726Z"
   },
   {
    "duration": 8,
    "start_time": "2022-05-25T19:06:52.761Z"
   },
   {
    "duration": 16,
    "start_time": "2022-05-25T19:06:52.770Z"
   },
   {
    "duration": 8,
    "start_time": "2022-05-25T19:06:52.787Z"
   },
   {
    "duration": 4,
    "start_time": "2022-05-25T19:06:52.796Z"
   },
   {
    "duration": 408,
    "start_time": "2022-10-07T14:36:20.596Z"
   },
   {
    "duration": 204,
    "start_time": "2022-10-07T14:36:21.006Z"
   },
   {
    "duration": 14,
    "start_time": "2022-10-07T14:36:21.212Z"
   },
   {
    "duration": 27,
    "start_time": "2022-10-07T14:36:21.228Z"
   },
   {
    "duration": 11,
    "start_time": "2022-10-07T14:36:21.258Z"
   },
   {
    "duration": 8,
    "start_time": "2022-10-07T14:36:21.271Z"
   },
   {
    "duration": 12,
    "start_time": "2022-10-07T14:36:21.280Z"
   },
   {
    "duration": 16,
    "start_time": "2022-10-07T14:36:21.293Z"
   },
   {
    "duration": 21,
    "start_time": "2022-10-07T14:36:21.311Z"
   },
   {
    "duration": 15,
    "start_time": "2022-10-07T14:36:21.334Z"
   },
   {
    "duration": 19,
    "start_time": "2022-10-07T14:36:21.350Z"
   },
   {
    "duration": 81,
    "start_time": "2022-10-07T14:36:21.370Z"
   },
   {
    "duration": 75,
    "start_time": "2022-10-07T14:36:21.453Z"
   },
   {
    "duration": 57,
    "start_time": "2022-10-07T14:36:21.531Z"
   },
   {
    "duration": 42,
    "start_time": "2022-10-07T14:36:21.590Z"
   },
   {
    "duration": 10,
    "start_time": "2022-10-07T14:36:21.634Z"
   },
   {
    "duration": 43,
    "start_time": "2022-10-07T14:36:21.646Z"
   },
   {
    "duration": 4,
    "start_time": "2022-10-07T14:36:21.691Z"
   },
   {
    "duration": 36,
    "start_time": "2022-10-07T14:36:21.708Z"
   },
   {
    "duration": 11,
    "start_time": "2022-10-07T14:36:21.746Z"
   },
   {
    "duration": 10,
    "start_time": "2022-10-07T14:36:21.758Z"
   },
   {
    "duration": 2,
    "start_time": "2022-10-07T14:36:21.770Z"
   },
   {
    "duration": 38,
    "start_time": "2022-10-07T14:36:21.774Z"
   },
   {
    "duration": 14,
    "start_time": "2022-10-07T14:36:21.813Z"
   },
   {
    "duration": 11,
    "start_time": "2022-10-07T14:36:21.828Z"
   },
   {
    "duration": 10,
    "start_time": "2022-10-07T14:36:21.841Z"
   },
   {
    "duration": 13,
    "start_time": "2022-10-07T14:36:21.852Z"
   },
   {
    "duration": 11,
    "start_time": "2022-10-07T14:36:21.866Z"
   },
   {
    "duration": 34,
    "start_time": "2022-10-07T14:36:21.878Z"
   },
   {
    "duration": 14,
    "start_time": "2022-10-07T14:36:21.913Z"
   },
   {
    "duration": 48,
    "start_time": "2022-10-07T14:36:21.928Z"
   },
   {
    "duration": 4,
    "start_time": "2022-10-07T14:36:21.978Z"
   },
   {
    "duration": 32,
    "start_time": "2022-10-07T14:36:21.983Z"
   },
   {
    "duration": 10,
    "start_time": "2022-10-07T14:36:22.016Z"
   },
   {
    "duration": 22,
    "start_time": "2022-10-07T14:36:22.027Z"
   },
   {
    "duration": 14,
    "start_time": "2022-10-07T14:36:22.050Z"
   },
   {
    "duration": 8,
    "start_time": "2022-10-07T14:36:22.066Z"
   },
   {
    "duration": 15,
    "start_time": "2022-10-07T14:36:22.076Z"
   },
   {
    "duration": 16,
    "start_time": "2022-10-07T14:36:22.092Z"
   },
   {
    "duration": 11,
    "start_time": "2022-10-07T14:36:22.110Z"
   },
   {
    "duration": 395,
    "start_time": "2022-10-07T14:37:59.577Z"
   },
   {
    "duration": 152,
    "start_time": "2022-10-07T14:37:59.973Z"
   },
   {
    "duration": 16,
    "start_time": "2022-10-07T14:38:00.127Z"
   },
   {
    "duration": 38,
    "start_time": "2022-10-07T14:38:00.145Z"
   },
   {
    "duration": 6,
    "start_time": "2022-10-07T14:38:00.185Z"
   },
   {
    "duration": 20,
    "start_time": "2022-10-07T14:38:00.193Z"
   },
   {
    "duration": 25,
    "start_time": "2022-10-07T14:38:00.215Z"
   },
   {
    "duration": 18,
    "start_time": "2022-10-07T14:38:00.242Z"
   },
   {
    "duration": 31,
    "start_time": "2022-10-07T14:38:00.262Z"
   },
   {
    "duration": 25,
    "start_time": "2022-10-07T14:38:00.294Z"
   },
   {
    "duration": 19,
    "start_time": "2022-10-07T14:38:00.320Z"
   },
   {
    "duration": 75,
    "start_time": "2022-10-07T14:38:00.341Z"
   },
   {
    "duration": 63,
    "start_time": "2022-10-07T14:38:00.417Z"
   },
   {
    "duration": 71,
    "start_time": "2022-10-07T14:38:00.484Z"
   },
   {
    "duration": 38,
    "start_time": "2022-10-07T14:38:00.556Z"
   },
   {
    "duration": 25,
    "start_time": "2022-10-07T14:38:00.595Z"
   },
   {
    "duration": 55,
    "start_time": "2022-10-07T14:38:00.621Z"
   },
   {
    "duration": 5,
    "start_time": "2022-10-07T14:38:00.677Z"
   },
   {
    "duration": 48,
    "start_time": "2022-10-07T14:38:00.683Z"
   },
   {
    "duration": 11,
    "start_time": "2022-10-07T14:38:00.732Z"
   },
   {
    "duration": 10,
    "start_time": "2022-10-07T14:38:00.745Z"
   },
   {
    "duration": 9,
    "start_time": "2022-10-07T14:38:00.757Z"
   },
   {
    "duration": 44,
    "start_time": "2022-10-07T14:38:00.767Z"
   },
   {
    "duration": 14,
    "start_time": "2022-10-07T14:38:00.812Z"
   },
   {
    "duration": 16,
    "start_time": "2022-10-07T14:38:00.828Z"
   },
   {
    "duration": 26,
    "start_time": "2022-10-07T14:38:00.845Z"
   },
   {
    "duration": 28,
    "start_time": "2022-10-07T14:38:00.872Z"
   },
   {
    "duration": 27,
    "start_time": "2022-10-07T14:38:00.901Z"
   },
   {
    "duration": 22,
    "start_time": "2022-10-07T14:38:00.929Z"
   },
   {
    "duration": 34,
    "start_time": "2022-10-07T14:38:00.953Z"
   },
   {
    "duration": 32,
    "start_time": "2022-10-07T14:38:00.989Z"
   },
   {
    "duration": 18,
    "start_time": "2022-10-07T14:38:01.023Z"
   },
   {
    "duration": 45,
    "start_time": "2022-10-07T14:38:01.043Z"
   },
   {
    "duration": 29,
    "start_time": "2022-10-07T14:38:01.090Z"
   },
   {
    "duration": 40,
    "start_time": "2022-10-07T14:38:01.120Z"
   },
   {
    "duration": 17,
    "start_time": "2022-10-07T14:38:01.162Z"
   },
   {
    "duration": 21,
    "start_time": "2022-10-07T14:38:01.181Z"
   },
   {
    "duration": 17,
    "start_time": "2022-10-07T14:38:01.204Z"
   },
   {
    "duration": 27,
    "start_time": "2022-10-07T14:38:01.222Z"
   },
   {
    "duration": 20,
    "start_time": "2022-10-07T14:38:01.250Z"
   },
   {
    "duration": 410,
    "start_time": "2022-10-07T15:17:10.876Z"
   },
   {
    "duration": 142,
    "start_time": "2022-10-07T15:17:11.288Z"
   },
   {
    "duration": 16,
    "start_time": "2022-10-07T15:17:11.432Z"
   },
   {
    "duration": 33,
    "start_time": "2022-10-07T15:17:11.449Z"
   },
   {
    "duration": 3,
    "start_time": "2022-10-07T15:17:11.484Z"
   },
   {
    "duration": 21,
    "start_time": "2022-10-07T15:17:11.488Z"
   },
   {
    "duration": 9,
    "start_time": "2022-10-07T15:17:11.511Z"
   },
   {
    "duration": 12,
    "start_time": "2022-10-07T15:17:11.521Z"
   },
   {
    "duration": 23,
    "start_time": "2022-10-07T15:17:11.534Z"
   },
   {
    "duration": 17,
    "start_time": "2022-10-07T15:17:11.559Z"
   },
   {
    "duration": 31,
    "start_time": "2022-10-07T15:17:11.578Z"
   },
   {
    "duration": 61,
    "start_time": "2022-10-07T15:17:11.611Z"
   },
   {
    "duration": 83,
    "start_time": "2022-10-07T15:17:11.674Z"
   },
   {
    "duration": 60,
    "start_time": "2022-10-07T15:17:11.762Z"
   },
   {
    "duration": 37,
    "start_time": "2022-10-07T15:17:11.824Z"
   },
   {
    "duration": 10,
    "start_time": "2022-10-07T15:17:11.862Z"
   },
   {
    "duration": 52,
    "start_time": "2022-10-07T15:17:11.874Z"
   },
   {
    "duration": 6,
    "start_time": "2022-10-07T15:17:11.928Z"
   },
   {
    "duration": 38,
    "start_time": "2022-10-07T15:17:11.935Z"
   },
   {
    "duration": 11,
    "start_time": "2022-10-07T15:17:11.974Z"
   },
   {
    "duration": 30,
    "start_time": "2022-10-07T15:17:11.987Z"
   },
   {
    "duration": 3,
    "start_time": "2022-10-07T15:17:12.018Z"
   },
   {
    "duration": 21,
    "start_time": "2022-10-07T15:17:12.022Z"
   },
   {
    "duration": 13,
    "start_time": "2022-10-07T15:17:12.044Z"
   },
   {
    "duration": 13,
    "start_time": "2022-10-07T15:17:12.059Z"
   },
   {
    "duration": 36,
    "start_time": "2022-10-07T15:17:12.074Z"
   },
   {
    "duration": 15,
    "start_time": "2022-10-07T15:17:12.112Z"
   },
   {
    "duration": 12,
    "start_time": "2022-10-07T15:17:12.129Z"
   },
   {
    "duration": 4,
    "start_time": "2022-10-07T15:17:12.142Z"
   },
   {
    "duration": 10,
    "start_time": "2022-10-07T15:17:12.148Z"
   },
   {
    "duration": 15,
    "start_time": "2022-10-07T15:17:12.160Z"
   },
   {
    "duration": 35,
    "start_time": "2022-10-07T15:17:12.176Z"
   },
   {
    "duration": 19,
    "start_time": "2022-10-07T15:17:12.213Z"
   },
   {
    "duration": 17,
    "start_time": "2022-10-07T15:17:12.234Z"
   },
   {
    "duration": 15,
    "start_time": "2022-10-07T15:17:12.252Z"
   },
   {
    "duration": 12,
    "start_time": "2022-10-07T15:17:12.269Z"
   },
   {
    "duration": 27,
    "start_time": "2022-10-07T15:17:12.282Z"
   },
   {
    "duration": 3,
    "start_time": "2022-10-07T15:17:12.311Z"
   },
   {
    "duration": 8,
    "start_time": "2022-10-07T15:17:12.315Z"
   },
   {
    "duration": 4,
    "start_time": "2022-10-07T15:17:12.324Z"
   },
   {
    "duration": 2,
    "start_time": "2022-10-07T15:27:02.548Z"
   },
   {
    "duration": 173,
    "start_time": "2022-10-07T15:27:02.552Z"
   },
   {
    "duration": 9,
    "start_time": "2022-10-07T15:27:02.726Z"
   },
   {
    "duration": 56,
    "start_time": "2022-10-07T15:27:02.737Z"
   },
   {
    "duration": 2,
    "start_time": "2022-10-07T15:27:02.795Z"
   },
   {
    "duration": 5,
    "start_time": "2022-10-07T15:27:02.799Z"
   },
   {
    "duration": 28,
    "start_time": "2022-10-07T15:27:02.805Z"
   },
   {
    "duration": 4,
    "start_time": "2022-10-07T15:27:02.834Z"
   },
   {
    "duration": 23,
    "start_time": "2022-10-07T15:27:02.839Z"
   },
   {
    "duration": 23,
    "start_time": "2022-10-07T15:27:02.864Z"
   },
   {
    "duration": 18,
    "start_time": "2022-10-07T15:27:02.889Z"
   },
   {
    "duration": 61,
    "start_time": "2022-10-07T15:27:02.908Z"
   },
   {
    "duration": 66,
    "start_time": "2022-10-07T15:27:02.970Z"
   },
   {
    "duration": 52,
    "start_time": "2022-10-07T15:27:03.037Z"
   },
   {
    "duration": 46,
    "start_time": "2022-10-07T15:27:03.090Z"
   },
   {
    "duration": 9,
    "start_time": "2022-10-07T15:27:03.137Z"
   },
   {
    "duration": 37,
    "start_time": "2022-10-07T15:27:03.148Z"
   },
   {
    "duration": 5,
    "start_time": "2022-10-07T15:27:03.186Z"
   },
   {
    "duration": 38,
    "start_time": "2022-10-07T15:27:03.209Z"
   },
   {
    "duration": 12,
    "start_time": "2022-10-07T15:27:03.248Z"
   },
   {
    "duration": 15,
    "start_time": "2022-10-07T15:27:03.261Z"
   },
   {
    "duration": 18,
    "start_time": "2022-10-07T15:27:03.277Z"
   },
   {
    "duration": 26,
    "start_time": "2022-10-07T15:27:03.296Z"
   },
   {
    "duration": 13,
    "start_time": "2022-10-07T15:27:03.323Z"
   },
   {
    "duration": 13,
    "start_time": "2022-10-07T15:27:03.337Z"
   },
   {
    "duration": 11,
    "start_time": "2022-10-07T15:27:03.352Z"
   },
   {
    "duration": 44,
    "start_time": "2022-10-07T15:27:03.365Z"
   },
   {
    "duration": 14,
    "start_time": "2022-10-07T15:27:03.411Z"
   },
   {
    "duration": 3,
    "start_time": "2022-10-07T15:27:03.429Z"
   },
   {
    "duration": 25,
    "start_time": "2022-10-07T15:27:03.434Z"
   },
   {
    "duration": 9,
    "start_time": "2022-10-07T15:27:03.460Z"
   },
   {
    "duration": 5,
    "start_time": "2022-10-07T15:27:03.471Z"
   },
   {
    "duration": 37,
    "start_time": "2022-10-07T15:27:03.477Z"
   },
   {
    "duration": 9,
    "start_time": "2022-10-07T15:27:03.516Z"
   },
   {
    "duration": 15,
    "start_time": "2022-10-07T15:27:03.526Z"
   },
   {
    "duration": 9,
    "start_time": "2022-10-07T15:27:03.543Z"
   },
   {
    "duration": 7,
    "start_time": "2022-10-07T15:27:03.554Z"
   },
   {
    "duration": 4,
    "start_time": "2022-10-07T15:27:03.562Z"
   },
   {
    "duration": 7,
    "start_time": "2022-10-07T15:27:03.568Z"
   },
   {
    "duration": 5,
    "start_time": "2022-10-07T15:27:03.608Z"
   }
  ],
  "colab": {
   "collapsed_sections": [
    "E0vqbgi9ay0H",
    "VUC88oWjTJw2"
   ],
   "name": "yandex_music_project_2021.2.ipynb",
   "provenance": []
  },
  "kernelspec": {
   "display_name": "Python 3 (ipykernel)",
   "language": "python",
   "name": "python3"
  },
  "language_info": {
   "codemirror_mode": {
    "name": "ipython",
    "version": 3
   },
   "file_extension": ".py",
   "mimetype": "text/x-python",
   "name": "python",
   "nbconvert_exporter": "python",
   "pygments_lexer": "ipython3",
   "version": "3.9.5"
  },
  "toc": {
   "base_numbering": 1,
   "nav_menu": {
    "height": "215px",
    "width": "403px"
   },
   "number_sections": true,
   "sideBar": true,
   "skip_h1_title": true,
   "title_cell": "Table of Contents",
   "title_sidebar": "Contents",
   "toc_cell": false,
   "toc_position": {
    "height": "calc(100% - 180px)",
    "left": "10px",
    "top": "150px",
    "width": "285.825px"
   },
   "toc_section_display": true,
   "toc_window_display": false
  }
 },
 "nbformat": 4,
 "nbformat_minor": 1
}
